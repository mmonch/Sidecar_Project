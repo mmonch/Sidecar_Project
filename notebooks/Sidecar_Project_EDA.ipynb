{
  "cells": [
    {
      "cell_type": "markdown",
      "metadata": {
        "id": "view-in-github",
        "colab_type": "text"
      },
      "source": [
        "<a href=\"https://colab.research.google.com/github/mmonch/Sidecar_Project/blob/main/notebooks/Sidecar_Project_EDA.ipynb\" target=\"_parent\"><img src=\"https://colab.research.google.com/assets/colab-badge.svg\" alt=\"Open In Colab\"/></a>"
      ]
    },
    {
      "cell_type": "markdown",
      "metadata": {
        "tags": [],
        "id": "TcCMqbiVYnFl"
      },
      "source": [
        "<a id='Q0'></a>\n",
        "<center><a target=\"_blank\" href=\"https://sit.academy/\"><img src=\"https://drive.google.com/uc?id=1z0U84GYqhbWWpCenFajh8_8XFRGyOc3U\" width=\"200\" style=\"background:none; border:none; box-shadow:none;\" /></a> </center>\n",
        "<center> <h1> Notebook 1: Sidecar Data Exploration </h1> </center>\n",
        "<p style=\"margin-bottom:1cm;\"></p>\n",
        "<center><h4>SIT Academy, 2022</h4></center>\n",
        "<p style=\"margin-bottom:1cm;\"></p>\n",
        "\n",
        "<div style=\"background:#EEEDF5;border-top:0.1cm solid #EF475B;border-bottom:0.1cm solid #EF475B;\">\n",
        "    <div style=\"margin-left: 0.5cm;margin-top: 0.5cm;margin-bottom: 0.5cm;color:#303030\">\n",
        "        <p><strong>Goal:</strong> Short description of the aim of the notebook</p>\n",
        "        <strong> Outline:</strong>\n",
        "        <a id='P0' name=\"P0\"></a>\n",
        "        <ol>\n",
        "            <li> <a style=\"color:#303030\" href='#I'>Introduction </a> </li>\n",
        "            <li> <a style=\"color:#303030\" href='#SU'>Set up</a></li>\n",
        "            <li> <a style=\"color:#303030\" href='#P1'>Part 1</a></li>\n",
        "            <li> <a style=\"color:#303030\" href='#P2'>Part 2</a></li>\n",
        "            <li> <a style=\"color:#303030\" href='#P3'>Part 3</a></li>\n",
        "            <li> <a style=\"color:#303030\" href='#CL'>Conclusion</a></li>\n",
        "        </ol>\n",
        "        <strong>Keywords:</strong> data cleaning, NLP, ... list of keywords.\n",
        "    </div>\n",
        "</div>\n",
        "</nav>"
      ]
    },
    {
      "cell_type": "markdown",
      "metadata": {
        "id": "f86cmQzAYnFn"
      },
      "source": [
        "<a id='I' name=\"I\"></a>\n",
        "## [Introduction](#P0)"
      ]
    },
    {
      "cell_type": "markdown",
      "metadata": {
        "id": "t7o-oAEuYnFn"
      },
      "source": [
        "Sources:\n",
        "https://neptune.ai/blog/exploratory-data-analysis-natural-language-processing-tools\n",
        "https://loeb.nyc/blog/data-science-word-expander\n",
        "https://towardsdatascience.com/nlp-building-text-cleanup-and-preprocessing-pipeline-eba4095245a0\n",
        "https://towardsdatascience.com/guide-to-fine-tuning-text-generation-models-gpt-2-gpt-neo-and-t5-dc5de6b3bc5e\n",
        "https://www.machinecurve.com/index.php/2020/12/29/differences-between-autoregressive-autoencoding-and-sequence-to-sequence-models-in-machine-learning/"
      ]
    },
    {
      "cell_type": "markdown",
      "metadata": {
        "id": "XENd8ZgPYnFo"
      },
      "source": [
        "<a id='SU' name=\"SU\"></a>\n",
        "## [Set up](#P0)"
      ]
    },
    {
      "cell_type": "markdown",
      "metadata": {
        "id": "WUSprQRpYnFo"
      },
      "source": [
        "### Magics"
      ]
    },
    {
      "cell_type": "code",
      "source": [
        "pip install nb_black"
      ],
      "metadata": {
        "id": "nuw3F8xNcWNx",
        "colab": {
          "base_uri": "https://localhost:8080/"
        },
        "outputId": "399e63af-38c5-45e2-a80a-43a298c1c15c"
      },
      "execution_count": 1,
      "outputs": [
        {
          "output_type": "stream",
          "name": "stdout",
          "text": [
            "Collecting nb_black\n",
            "  Downloading nb_black-1.0.7.tar.gz (4.8 kB)\n",
            "Requirement already satisfied: ipython in /usr/local/lib/python3.7/dist-packages (from nb_black) (5.5.0)\n",
            "Collecting black>='19.3'\n",
            "  Downloading black-22.1.0-cp37-cp37m-manylinux_2_17_x86_64.manylinux2014_x86_64.whl (1.4 MB)\n",
            "\u001b[K     |████████████████████████████████| 1.4 MB 10.0 MB/s \n",
            "\u001b[?25hRequirement already satisfied: tomli>=1.1.0 in /usr/local/lib/python3.7/dist-packages (from black>='19.3'->nb_black) (2.0.0)\n",
            "Collecting pathspec>=0.9.0\n",
            "  Downloading pathspec-0.9.0-py2.py3-none-any.whl (31 kB)\n",
            "Collecting typed-ast>=1.4.2\n",
            "  Downloading typed_ast-1.5.2-cp37-cp37m-manylinux_2_5_x86_64.manylinux1_x86_64.manylinux_2_12_x86_64.manylinux2010_x86_64.whl (843 kB)\n",
            "\u001b[K     |████████████████████████████████| 843 kB 65.4 MB/s \n",
            "\u001b[?25hRequirement already satisfied: typing-extensions>=3.10.0.0 in /usr/local/lib/python3.7/dist-packages (from black>='19.3'->nb_black) (3.10.0.2)\n",
            "Collecting platformdirs>=2\n",
            "  Downloading platformdirs-2.4.1-py3-none-any.whl (14 kB)\n",
            "Collecting click>=8.0.0\n",
            "  Downloading click-8.0.3-py3-none-any.whl (97 kB)\n",
            "\u001b[K     |████████████████████████████████| 97 kB 8.0 MB/s \n",
            "\u001b[?25hCollecting mypy-extensions>=0.4.3\n",
            "  Downloading mypy_extensions-0.4.3-py2.py3-none-any.whl (4.5 kB)\n",
            "Requirement already satisfied: importlib-metadata in /usr/local/lib/python3.7/dist-packages (from click>=8.0.0->black>='19.3'->nb_black) (4.10.1)\n",
            "Requirement already satisfied: zipp>=0.5 in /usr/local/lib/python3.7/dist-packages (from importlib-metadata->click>=8.0.0->black>='19.3'->nb_black) (3.7.0)\n",
            "Requirement already satisfied: pygments in /usr/local/lib/python3.7/dist-packages (from ipython->nb_black) (2.6.1)\n",
            "Requirement already satisfied: pexpect in /usr/local/lib/python3.7/dist-packages (from ipython->nb_black) (4.8.0)\n",
            "Requirement already satisfied: decorator in /usr/local/lib/python3.7/dist-packages (from ipython->nb_black) (4.4.2)\n",
            "Requirement already satisfied: setuptools>=18.5 in /usr/local/lib/python3.7/dist-packages (from ipython->nb_black) (57.4.0)\n",
            "Requirement already satisfied: pickleshare in /usr/local/lib/python3.7/dist-packages (from ipython->nb_black) (0.7.5)\n",
            "Requirement already satisfied: prompt-toolkit<2.0.0,>=1.0.4 in /usr/local/lib/python3.7/dist-packages (from ipython->nb_black) (1.0.18)\n",
            "Requirement already satisfied: simplegeneric>0.8 in /usr/local/lib/python3.7/dist-packages (from ipython->nb_black) (0.8.1)\n",
            "Requirement already satisfied: traitlets>=4.2 in /usr/local/lib/python3.7/dist-packages (from ipython->nb_black) (5.1.1)\n",
            "Requirement already satisfied: six>=1.9.0 in /usr/local/lib/python3.7/dist-packages (from prompt-toolkit<2.0.0,>=1.0.4->ipython->nb_black) (1.15.0)\n",
            "Requirement already satisfied: wcwidth in /usr/local/lib/python3.7/dist-packages (from prompt-toolkit<2.0.0,>=1.0.4->ipython->nb_black) (0.2.5)\n",
            "Requirement already satisfied: ptyprocess>=0.5 in /usr/local/lib/python3.7/dist-packages (from pexpect->ipython->nb_black) (0.7.0)\n",
            "Building wheels for collected packages: nb-black\n",
            "  Building wheel for nb-black (setup.py) ... \u001b[?25l\u001b[?25hdone\n",
            "  Created wheel for nb-black: filename=nb_black-1.0.7-py3-none-any.whl size=5297 sha256=6508d64b45c5db69a77a409ec99b2ee690295b3055119bf3c87ff75db6a9dbf4\n",
            "  Stored in directory: /root/.cache/pip/wheels/1e/b2/88/51c66d23ea5fd0d40ed50997555e15d981d92671376a9a412a\n",
            "Successfully built nb-black\n",
            "Installing collected packages: typed-ast, platformdirs, pathspec, mypy-extensions, click, black, nb-black\n",
            "  Attempting uninstall: click\n",
            "    Found existing installation: click 7.1.2\n",
            "    Uninstalling click-7.1.2:\n",
            "      Successfully uninstalled click-7.1.2\n",
            "\u001b[31mERROR: pip's dependency resolver does not currently take into account all the packages that are installed. This behaviour is the source of the following dependency conflicts.\n",
            "flask 1.1.4 requires click<8.0,>=5.1, but you have click 8.0.3 which is incompatible.\u001b[0m\n",
            "Successfully installed black-22.1.0 click-8.0.3 mypy-extensions-0.4.3 nb-black-1.0.7 pathspec-0.9.0 platformdirs-2.4.1 typed-ast-1.5.2\n"
          ]
        }
      ]
    },
    {
      "cell_type": "code",
      "execution_count": 2,
      "metadata": {
        "id": "axuCywGJYnFo"
      },
      "outputs": [],
      "source": [
        "# auto reload packages and modules when they are modified\n",
        "%load_ext autoreload\n",
        "%autoreload 2\n",
        "# draw matplotlib plots in line\n",
        "%matplotlib inline\n",
        "# enforce PEP 8 code on jupyter lab ...\n",
        "#%load_ext lab_black\n",
        "# ... or jupyter notebook\n",
        "#%load_ext nb_black\n",
        "\n",
        "# Colab setup ------------------\n",
        "import os, sys, subprocess\n",
        "if \"google.colab\" in sys.modules:\n",
        "    cmd = \"pip install --upgrade watermark blackcellmagic\"\n",
        "    process = subprocess.Popen(cmd.split(), stdout=subprocess.PIPE)\n",
        "\n",
        "#%load_ext blackcellmagic"
      ]
    },
    {
      "cell_type": "code",
      "source": [
        "!pip install contractions"
      ],
      "metadata": {
        "colab": {
          "base_uri": "https://localhost:8080/"
        },
        "id": "pEBhUy43REwj",
        "outputId": "ef4a4a83-0ca3-48e2-b649-f2f7cbac9f94"
      },
      "execution_count": 3,
      "outputs": [
        {
          "output_type": "stream",
          "name": "stdout",
          "text": [
            "Collecting contractions\n",
            "  Downloading contractions-0.1.66-py2.py3-none-any.whl (8.0 kB)\n",
            "Collecting textsearch>=0.0.21\n",
            "  Downloading textsearch-0.0.21-py2.py3-none-any.whl (7.5 kB)\n",
            "Collecting pyahocorasick\n",
            "  Downloading pyahocorasick-1.4.2.tar.gz (321 kB)\n",
            "\u001b[K     |████████████████████████████████| 321 kB 13.0 MB/s \n",
            "\u001b[?25hCollecting anyascii\n",
            "  Downloading anyascii-0.3.0-py3-none-any.whl (284 kB)\n",
            "\u001b[K     |████████████████████████████████| 284 kB 49.0 MB/s \n",
            "\u001b[?25hBuilding wheels for collected packages: pyahocorasick\n",
            "  Building wheel for pyahocorasick (setup.py) ... \u001b[?25l\u001b[?25hdone\n",
            "  Created wheel for pyahocorasick: filename=pyahocorasick-1.4.2-cp37-cp37m-linux_x86_64.whl size=85447 sha256=c6eb2a6d52461becdcb06f273e85903f3dbb9c57caa46eb44cb4b5def6cd18e6\n",
            "  Stored in directory: /root/.cache/pip/wheels/25/19/a6/8f363d9939162782bb8439d886469756271abc01f76fbd790f\n",
            "Successfully built pyahocorasick\n",
            "\u001b[33mWARNING: Error parsing requirements for importlib-metadata: [Errno 2] No such file or directory: '/usr/local/lib/python3.7/dist-packages/importlib_metadata-4.10.1.dist-info/METADATA'\u001b[0m\n",
            "Installing collected packages: pyahocorasick, anyascii, textsearch, contractions\n",
            "Successfully installed anyascii-0.3.0 contractions-0.1.66 pyahocorasick-1.4.2 textsearch-0.0.21\n"
          ]
        }
      ]
    },
    {
      "cell_type": "code",
      "source": [
        "!pip install nltk>=3.2.1\n"
      ],
      "metadata": {
        "id": "VMqW2XmFj9_L"
      },
      "execution_count": 4,
      "outputs": []
    },
    {
      "cell_type": "markdown",
      "metadata": {
        "id": "gwYad_o4YnFp"
      },
      "source": [
        "### Packages"
      ]
    },
    {
      "cell_type": "code",
      "execution_count": 5,
      "metadata": {
        "ExecuteTime": {
          "end_time": "2019-01-07T16:56:09.469904Z",
          "start_time": "2019-01-07T16:56:07.858398Z"
        },
        "id": "xX5dlhbTYnFp"
      },
      "outputs": [],
      "source": [
        "# General\n",
        "import pandas as pd\n",
        "import numpy as np\n",
        "\n",
        "# modelling\n",
        "from sklearn.model_selection import train_test_split\n",
        "from sklearn.feature_extraction.text import (\n",
        "    CountVectorizer,\n",
        "    TfidfTransformer,\n",
        "    TfidfVectorizer,\n",
        ")\n",
        "\n",
        "# Visualization\n",
        "import seaborn as sns\n",
        "import matplotlib.pyplot as plt\n",
        "\n",
        "import contractions\n",
        "from bs4 import BeautifulSoup\n",
        "import numpy as np\n",
        "import re\n",
        "import tqdm\n",
        "import unicodedata"
      ]
    },
    {
      "cell_type": "markdown",
      "metadata": {
        "id": "tPEMrKo9YnFp"
      },
      "source": [
        "### Custom classes and functions"
      ]
    },
    {
      "cell_type": "markdown",
      "metadata": {
        "id": "kmFlMudQYnFq"
      },
      "source": [
        "### Global Parameters Setting"
      ]
    },
    {
      "cell_type": "code",
      "execution_count": 6,
      "metadata": {
        "id": "FVfkSKZ-YnFr"
      },
      "outputs": [],
      "source": [
        "plt.style.use(\"seaborn\")"
      ]
    },
    {
      "cell_type": "markdown",
      "metadata": {
        "id": "UyIHEoLBYnFr"
      },
      "source": [
        "### User-Dependent Variables"
      ]
    },
    {
      "cell_type": "code",
      "source": [
        "from google.colab import drive\n",
        "drive.mount('/content/gdrive')"
      ],
      "metadata": {
        "colab": {
          "base_uri": "https://localhost:8080/"
        },
        "id": "_6RoD2gWdVhW",
        "outputId": "faf6454b-e1f5-4c0b-a910-f68028f8e82b"
      },
      "execution_count": 7,
      "outputs": [
        {
          "output_type": "stream",
          "name": "stdout",
          "text": [
            "Mounted at /content/gdrive\n"
          ]
        }
      ]
    },
    {
      "cell_type": "code",
      "source": [
        "data = pd.read_csv(\"gdrive/My Drive/SIDECAR_P/Sidecar_Data_Sample.csv\")"
      ],
      "metadata": {
        "id": "nkSRl9EVd5E2"
      },
      "execution_count": 8,
      "outputs": []
    },
    {
      "cell_type": "markdown",
      "metadata": {
        "id": "0lnhzDc9YnFr"
      },
      "source": [
        "<a id='P1'></a>\n",
        "## [Part one](#P0)\n",
        "\n",
        "Here you could write a paragraph on the aim of part one. You could also have some nice figures\n",
        "\n"
      ]
    },
    {
      "cell_type": "code",
      "source": [
        "#%load_ext google.colab.data_table\n",
        "\n",
        "data\n"
      ],
      "metadata": {
        "id": "-5G9FMbwemgN",
        "colab": {
          "base_uri": "https://localhost:8080/",
          "height": 922
        },
        "outputId": "569273b9-21a4-4934-f718-28130a026e03"
      },
      "execution_count": 9,
      "outputs": [
        {
          "output_type": "execute_result",
          "data": {
            "text/html": [
              "\n",
              "  <div id=\"df-f6b6fbb5-1af7-4448-bb4d-3bcb97552354\">\n",
              "    <div class=\"colab-df-container\">\n",
              "      <div>\n",
              "<style scoped>\n",
              "    .dataframe tbody tr th:only-of-type {\n",
              "        vertical-align: middle;\n",
              "    }\n",
              "\n",
              "    .dataframe tbody tr th {\n",
              "        vertical-align: top;\n",
              "    }\n",
              "\n",
              "    .dataframe thead th {\n",
              "        text-align: right;\n",
              "    }\n",
              "</style>\n",
              "<table border=\"1\" class=\"dataframe\">\n",
              "  <thead>\n",
              "    <tr style=\"text-align: right;\">\n",
              "      <th></th>\n",
              "      <th>Domain_Id</th>\n",
              "      <th>Domain_Name</th>\n",
              "      <th>Domain_Desc</th>\n",
              "      <th>Domain_Code</th>\n",
              "      <th>Domain_Status</th>\n",
              "      <th>Domain_Status_Code</th>\n",
              "      <th>Application_Id</th>\n",
              "      <th>Application_Name</th>\n",
              "      <th>Application_Code</th>\n",
              "      <th>Application_Desc</th>\n",
              "      <th>Application_Status</th>\n",
              "      <th>Application_Status_Code</th>\n",
              "      <th>Asset_Id</th>\n",
              "      <th>Asset_Technical_Name</th>\n",
              "      <th>Asset_Business_Name</th>\n",
              "      <th>Asset_Business_Desc</th>\n",
              "      <th>Asset_Status</th>\n",
              "      <th>Asset_Status_Code</th>\n",
              "      <th>Asset_Server_Name</th>\n",
              "      <th>Asset_Database</th>\n",
              "      <th>Asset_Schema</th>\n",
              "      <th>Asset_Type_Id</th>\n",
              "      <th>Asset_Type_Name</th>\n",
              "      <th>Asset_Type_Desc</th>\n",
              "      <th>Privacy_Level_Id</th>\n",
              "      <th>Asset_Privacy_Level</th>\n",
              "      <th>Asset_Privacy_Desc</th>\n",
              "      <th>Attribute_Id</th>\n",
              "      <th>Attribute_Technical_Name</th>\n",
              "      <th>Attribute_Business_Name</th>\n",
              "      <th>Attribute_Business_Desc</th>\n",
              "      <th>Attribute_Business_Rule</th>\n",
              "      <th>Attribute_Data_Type</th>\n",
              "      <th>Attribute_IsPK</th>\n",
              "      <th>Attribute_IsNullable</th>\n",
              "      <th>Attribute_Status</th>\n",
              "      <th>Attribute_Status_Code</th>\n",
              "    </tr>\n",
              "  </thead>\n",
              "  <tbody>\n",
              "    <tr>\n",
              "      <th>0</th>\n",
              "      <td>1</td>\n",
              "      <td>Patient administrative</td>\n",
              "      <td>Patient administrative data (demographic &amp; adm...</td>\n",
              "      <td>PAT_ADM</td>\n",
              "      <td>Active</td>\n",
              "      <td>1</td>\n",
              "      <td>1</td>\n",
              "      <td>Patient Manager</td>\n",
              "      <td>PATMAN</td>\n",
              "      <td>Patient Manager tool is the application allowi...</td>\n",
              "      <td>Active</td>\n",
              "      <td>1</td>\n",
              "      <td>1</td>\n",
              "      <td>PMS_PT</td>\n",
              "      <td>Patient</td>\n",
              "      <td>Patient table Contain personal information abo...</td>\n",
              "      <td>Active</td>\n",
              "      <td>1</td>\n",
              "      <td>SWT01_PRD</td>\n",
              "      <td>PMS</td>\n",
              "      <td>dbo</td>\n",
              "      <td>1</td>\n",
              "      <td>Table</td>\n",
              "      <td>Database table</td>\n",
              "      <td>4</td>\n",
              "      <td>Level 4 - Highly sensitive</td>\n",
              "      <td>Highly sensitive - Internal use</td>\n",
              "      <td>1</td>\n",
              "      <td>ID</td>\n",
              "      <td>Technical Id of the patient</td>\n",
              "      <td>The Primary Key (surrogate unique identifier) ...</td>\n",
              "      <td>NaN</td>\n",
              "      <td>NUMBER (38)</td>\n",
              "      <td>Yes</td>\n",
              "      <td>Yes</td>\n",
              "      <td>Active</td>\n",
              "      <td>1</td>\n",
              "    </tr>\n",
              "    <tr>\n",
              "      <th>1</th>\n",
              "      <td>1</td>\n",
              "      <td>Patient administrative</td>\n",
              "      <td>Patient administrative data (demographic &amp; adm...</td>\n",
              "      <td>PAT_ADM</td>\n",
              "      <td>Active</td>\n",
              "      <td>1</td>\n",
              "      <td>1</td>\n",
              "      <td>Patient Manager</td>\n",
              "      <td>PATMAN</td>\n",
              "      <td>Patient Manager tool is the application allowi...</td>\n",
              "      <td>Active</td>\n",
              "      <td>1</td>\n",
              "      <td>1</td>\n",
              "      <td>PMS_PT</td>\n",
              "      <td>Patient</td>\n",
              "      <td>Patient table Contain personal information abo...</td>\n",
              "      <td>Active</td>\n",
              "      <td>1</td>\n",
              "      <td>SWT01_PRD</td>\n",
              "      <td>PMS</td>\n",
              "      <td>dbo</td>\n",
              "      <td>1</td>\n",
              "      <td>Table</td>\n",
              "      <td>Database table</td>\n",
              "      <td>4</td>\n",
              "      <td>Level 4 - Highly sensitive</td>\n",
              "      <td>Highly sensitive - Internal use</td>\n",
              "      <td>2</td>\n",
              "      <td>GNDR_CD</td>\n",
              "      <td>Gender Code</td>\n",
              "      <td>Code of GENDER CODE defined as: The gender of ...</td>\n",
              "      <td>If Gender code = M then Male, F = Female, or U...</td>\n",
              "      <td>VARCHAR2 (80)</td>\n",
              "      <td>No</td>\n",
              "      <td>No</td>\n",
              "      <td>Active</td>\n",
              "      <td>1</td>\n",
              "    </tr>\n",
              "    <tr>\n",
              "      <th>2</th>\n",
              "      <td>1</td>\n",
              "      <td>Patient administrative</td>\n",
              "      <td>Patient administrative data (demographic &amp; adm...</td>\n",
              "      <td>PAT_ADM</td>\n",
              "      <td>Active</td>\n",
              "      <td>1</td>\n",
              "      <td>1</td>\n",
              "      <td>Patient Manager</td>\n",
              "      <td>PATMAN</td>\n",
              "      <td>Patient Manager tool is the application allowi...</td>\n",
              "      <td>Active</td>\n",
              "      <td>1</td>\n",
              "      <td>1</td>\n",
              "      <td>PMS_PT</td>\n",
              "      <td>Patient</td>\n",
              "      <td>Patient table Contain personal information abo...</td>\n",
              "      <td>Active</td>\n",
              "      <td>1</td>\n",
              "      <td>SWT01_PRD</td>\n",
              "      <td>PMS</td>\n",
              "      <td>dbo</td>\n",
              "      <td>1</td>\n",
              "      <td>Table</td>\n",
              "      <td>Database table</td>\n",
              "      <td>4</td>\n",
              "      <td>Level 4 - Highly sensitive</td>\n",
              "      <td>Highly sensitive - Internal use</td>\n",
              "      <td>3</td>\n",
              "      <td>LIVG_ARNGMNT_CD</td>\n",
              "      <td>Living arrangement</td>\n",
              "      <td>Code of LIVING ARRANGEMENT CODE defined as: A ...</td>\n",
              "      <td>NaN</td>\n",
              "      <td>VARCHAR2 (80)</td>\n",
              "      <td>No</td>\n",
              "      <td>No</td>\n",
              "      <td>Active</td>\n",
              "      <td>1</td>\n",
              "    </tr>\n",
              "    <tr>\n",
              "      <th>3</th>\n",
              "      <td>1</td>\n",
              "      <td>Patient administrative</td>\n",
              "      <td>Patient administrative data (demographic &amp; adm...</td>\n",
              "      <td>PAT_ADM</td>\n",
              "      <td>Active</td>\n",
              "      <td>1</td>\n",
              "      <td>1</td>\n",
              "      <td>Patient Manager</td>\n",
              "      <td>PATMAN</td>\n",
              "      <td>Patient Manager tool is the application allowi...</td>\n",
              "      <td>Active</td>\n",
              "      <td>1</td>\n",
              "      <td>1</td>\n",
              "      <td>PMS_PT</td>\n",
              "      <td>Patient</td>\n",
              "      <td>Patient table Contain personal information abo...</td>\n",
              "      <td>Active</td>\n",
              "      <td>1</td>\n",
              "      <td>SWT01_PRD</td>\n",
              "      <td>PMS</td>\n",
              "      <td>dbo</td>\n",
              "      <td>1</td>\n",
              "      <td>Table</td>\n",
              "      <td>Database table</td>\n",
              "      <td>4</td>\n",
              "      <td>Level 4 - Highly sensitive</td>\n",
              "      <td>Highly sensitive - Internal use</td>\n",
              "      <td>4</td>\n",
              "      <td>MRTL_STUS_CD</td>\n",
              "      <td>Marital status code</td>\n",
              "      <td>Code of MARITAL STATUS CODE defined as: Party'...</td>\n",
              "      <td>NaN</td>\n",
              "      <td>VARCHAR2 (80)</td>\n",
              "      <td>No</td>\n",
              "      <td>No</td>\n",
              "      <td>Active</td>\n",
              "      <td>1</td>\n",
              "    </tr>\n",
              "    <tr>\n",
              "      <th>4</th>\n",
              "      <td>1</td>\n",
              "      <td>Patient administrative</td>\n",
              "      <td>Patient administrative data (demographic &amp; adm...</td>\n",
              "      <td>PAT_ADM</td>\n",
              "      <td>Active</td>\n",
              "      <td>1</td>\n",
              "      <td>1</td>\n",
              "      <td>Patient Manager</td>\n",
              "      <td>PATMAN</td>\n",
              "      <td>Patient Manager tool is the application allowi...</td>\n",
              "      <td>Active</td>\n",
              "      <td>1</td>\n",
              "      <td>1</td>\n",
              "      <td>PMS_PT</td>\n",
              "      <td>Patient</td>\n",
              "      <td>Patient table Contain personal information abo...</td>\n",
              "      <td>Active</td>\n",
              "      <td>1</td>\n",
              "      <td>SWT01_PRD</td>\n",
              "      <td>PMS</td>\n",
              "      <td>dbo</td>\n",
              "      <td>1</td>\n",
              "      <td>Table</td>\n",
              "      <td>Database table</td>\n",
              "      <td>4</td>\n",
              "      <td>Level 4 - Highly sensitive</td>\n",
              "      <td>Highly sensitive - Internal use</td>\n",
              "      <td>5</td>\n",
              "      <td>OCUPATN_CD</td>\n",
              "      <td>Occupation code</td>\n",
              "      <td>Code of OCCUPATION CODE defined as: The occupa...</td>\n",
              "      <td>NaN</td>\n",
              "      <td>VARCHAR2 (80)</td>\n",
              "      <td>No</td>\n",
              "      <td>No</td>\n",
              "      <td>Active</td>\n",
              "      <td>1</td>\n",
              "    </tr>\n",
              "    <tr>\n",
              "      <th>...</th>\n",
              "      <td>...</td>\n",
              "      <td>...</td>\n",
              "      <td>...</td>\n",
              "      <td>...</td>\n",
              "      <td>...</td>\n",
              "      <td>...</td>\n",
              "      <td>...</td>\n",
              "      <td>...</td>\n",
              "      <td>...</td>\n",
              "      <td>...</td>\n",
              "      <td>...</td>\n",
              "      <td>...</td>\n",
              "      <td>...</td>\n",
              "      <td>...</td>\n",
              "      <td>...</td>\n",
              "      <td>...</td>\n",
              "      <td>...</td>\n",
              "      <td>...</td>\n",
              "      <td>...</td>\n",
              "      <td>...</td>\n",
              "      <td>...</td>\n",
              "      <td>...</td>\n",
              "      <td>...</td>\n",
              "      <td>...</td>\n",
              "      <td>...</td>\n",
              "      <td>...</td>\n",
              "      <td>...</td>\n",
              "      <td>...</td>\n",
              "      <td>...</td>\n",
              "      <td>...</td>\n",
              "      <td>...</td>\n",
              "      <td>...</td>\n",
              "      <td>...</td>\n",
              "      <td>...</td>\n",
              "      <td>...</td>\n",
              "      <td>...</td>\n",
              "      <td>...</td>\n",
              "    </tr>\n",
              "    <tr>\n",
              "      <th>4128</th>\n",
              "      <td>7</td>\n",
              "      <td>ICT</td>\n",
              "      <td>ICT department</td>\n",
              "      <td>ICT</td>\n",
              "      <td>Active</td>\n",
              "      <td>1</td>\n",
              "      <td>15</td>\n",
              "      <td>sidecar</td>\n",
              "      <td>SIDECAR</td>\n",
              "      <td>sidecar is metadata management system.</td>\n",
              "      <td>Active</td>\n",
              "      <td>1</td>\n",
              "      <td>106</td>\n",
              "      <td>Config_AssetList</td>\n",
              "      <td>Configuration asset list</td>\n",
              "      <td>Contains all the required parameters to launch...</td>\n",
              "      <td>Active</td>\n",
              "      <td>1</td>\n",
              "      <td>DESKTOP-5JVNT8I</td>\n",
              "      <td>sidecar_Dev</td>\n",
              "      <td>dbo</td>\n",
              "      <td>1</td>\n",
              "      <td>Table</td>\n",
              "      <td>Database table</td>\n",
              "      <td>-1</td>\n",
              "      <td>Not defined</td>\n",
              "      <td>-</td>\n",
              "      <td>4456</td>\n",
              "      <td>Config_AssetList_Data_Source</td>\n",
              "      <td>Config AssetList Data Source</td>\n",
              "      <td>Data source for the scan</td>\n",
              "      <td>NaN</td>\n",
              "      <td>nvarchar (64)</td>\n",
              "      <td>No</td>\n",
              "      <td>Yes</td>\n",
              "      <td>Active</td>\n",
              "      <td>1</td>\n",
              "    </tr>\n",
              "    <tr>\n",
              "      <th>4129</th>\n",
              "      <td>7</td>\n",
              "      <td>ICT</td>\n",
              "      <td>ICT department</td>\n",
              "      <td>ICT</td>\n",
              "      <td>Active</td>\n",
              "      <td>1</td>\n",
              "      <td>15</td>\n",
              "      <td>sidecar</td>\n",
              "      <td>SIDECAR</td>\n",
              "      <td>sidecar is metadata management system.</td>\n",
              "      <td>Active</td>\n",
              "      <td>1</td>\n",
              "      <td>87</td>\n",
              "      <td>Attribute</td>\n",
              "      <td>Attribute</td>\n",
              "      <td>Contains the list of attributes that character...</td>\n",
              "      <td>Active</td>\n",
              "      <td>1</td>\n",
              "      <td>DESKTOP-5JVNT8I</td>\n",
              "      <td>sidecar_Dev</td>\n",
              "      <td>dbo</td>\n",
              "      <td>1</td>\n",
              "      <td>Table</td>\n",
              "      <td>Database table</td>\n",
              "      <td>-1</td>\n",
              "      <td>Not defined</td>\n",
              "      <td>-</td>\n",
              "      <td>4457</td>\n",
              "      <td>Attribute_Sample_Data</td>\n",
              "      <td>Attribute sample data</td>\n",
              "      <td>Sample data of the attribute.</td>\n",
              "      <td>NaN</td>\n",
              "      <td>nvarchar (MAX)</td>\n",
              "      <td>No</td>\n",
              "      <td>Yes</td>\n",
              "      <td>Active</td>\n",
              "      <td>1</td>\n",
              "    </tr>\n",
              "    <tr>\n",
              "      <th>4130</th>\n",
              "      <td>7</td>\n",
              "      <td>ICT</td>\n",
              "      <td>ICT department</td>\n",
              "      <td>ICT</td>\n",
              "      <td>Active</td>\n",
              "      <td>1</td>\n",
              "      <td>15</td>\n",
              "      <td>sidecar</td>\n",
              "      <td>SIDECAR</td>\n",
              "      <td>sidecar is metadata management system.</td>\n",
              "      <td>Active</td>\n",
              "      <td>1</td>\n",
              "      <td>81</td>\n",
              "      <td>Property</td>\n",
              "      <td>Custom properties</td>\n",
              "      <td>This table contains the all custom properties ...</td>\n",
              "      <td>Active</td>\n",
              "      <td>1</td>\n",
              "      <td>DESKTOP-5JVNT8I</td>\n",
              "      <td>sidecar_Dev</td>\n",
              "      <td>dbo</td>\n",
              "      <td>1</td>\n",
              "      <td>Table</td>\n",
              "      <td>Database table</td>\n",
              "      <td>-1</td>\n",
              "      <td>Not defined</td>\n",
              "      <td>-</td>\n",
              "      <td>4458</td>\n",
              "      <td>Property_IsDQ</td>\n",
              "      <td>Property IsDQ</td>\n",
              "      <td>Flag that indicates if the property is a data ...</td>\n",
              "      <td>NaN</td>\n",
              "      <td>bit</td>\n",
              "      <td>No</td>\n",
              "      <td>Yes</td>\n",
              "      <td>Active</td>\n",
              "      <td>1</td>\n",
              "    </tr>\n",
              "    <tr>\n",
              "      <th>4131</th>\n",
              "      <td>7</td>\n",
              "      <td>ICT</td>\n",
              "      <td>ICT department</td>\n",
              "      <td>ICT</td>\n",
              "      <td>Active</td>\n",
              "      <td>1</td>\n",
              "      <td>15</td>\n",
              "      <td>sidecar</td>\n",
              "      <td>SIDECAR</td>\n",
              "      <td>sidecar is metadata management system.</td>\n",
              "      <td>Active</td>\n",
              "      <td>1</td>\n",
              "      <td>81</td>\n",
              "      <td>Property</td>\n",
              "      <td>Custom properties</td>\n",
              "      <td>This table contains the all custom properties ...</td>\n",
              "      <td>Active</td>\n",
              "      <td>1</td>\n",
              "      <td>DESKTOP-5JVNT8I</td>\n",
              "      <td>sidecar_Dev</td>\n",
              "      <td>dbo</td>\n",
              "      <td>1</td>\n",
              "      <td>Table</td>\n",
              "      <td>Database table</td>\n",
              "      <td>-1</td>\n",
              "      <td>Not defined</td>\n",
              "      <td>-</td>\n",
              "      <td>4459</td>\n",
              "      <td>Property_DQ_Calculation</td>\n",
              "      <td>Property DQ Calculation</td>\n",
              "      <td>Data quality calculation of the custom property</td>\n",
              "      <td>NaN</td>\n",
              "      <td>varchar (50)</td>\n",
              "      <td>No</td>\n",
              "      <td>Yes</td>\n",
              "      <td>Active</td>\n",
              "      <td>1</td>\n",
              "    </tr>\n",
              "    <tr>\n",
              "      <th>4132</th>\n",
              "      <td>7</td>\n",
              "      <td>ICT</td>\n",
              "      <td>ICT department</td>\n",
              "      <td>ICT</td>\n",
              "      <td>Active</td>\n",
              "      <td>1</td>\n",
              "      <td>15</td>\n",
              "      <td>sidecar</td>\n",
              "      <td>SIDECAR</td>\n",
              "      <td>sidecar is metadata management system.</td>\n",
              "      <td>Active</td>\n",
              "      <td>1</td>\n",
              "      <td>81</td>\n",
              "      <td>Property</td>\n",
              "      <td>Custom properties</td>\n",
              "      <td>This table contains the all custom properties ...</td>\n",
              "      <td>Active</td>\n",
              "      <td>1</td>\n",
              "      <td>DESKTOP-5JVNT8I</td>\n",
              "      <td>sidecar_Dev</td>\n",
              "      <td>dbo</td>\n",
              "      <td>1</td>\n",
              "      <td>Table</td>\n",
              "      <td>Database table</td>\n",
              "      <td>-1</td>\n",
              "      <td>Not defined</td>\n",
              "      <td>-</td>\n",
              "      <td>4460</td>\n",
              "      <td>Property_DQ_Output_Format</td>\n",
              "      <td>Property DQ Output Format</td>\n",
              "      <td>Data quality output format of the custom property</td>\n",
              "      <td>NaN</td>\n",
              "      <td>varchar (20)</td>\n",
              "      <td>No</td>\n",
              "      <td>Yes</td>\n",
              "      <td>Active</td>\n",
              "      <td>1</td>\n",
              "    </tr>\n",
              "  </tbody>\n",
              "</table>\n",
              "<p>4133 rows × 37 columns</p>\n",
              "</div>\n",
              "      <button class=\"colab-df-convert\" onclick=\"convertToInteractive('df-f6b6fbb5-1af7-4448-bb4d-3bcb97552354')\"\n",
              "              title=\"Convert this dataframe to an interactive table.\"\n",
              "              style=\"display:none;\">\n",
              "        \n",
              "  <svg xmlns=\"http://www.w3.org/2000/svg\" height=\"24px\"viewBox=\"0 0 24 24\"\n",
              "       width=\"24px\">\n",
              "    <path d=\"M0 0h24v24H0V0z\" fill=\"none\"/>\n",
              "    <path d=\"M18.56 5.44l.94 2.06.94-2.06 2.06-.94-2.06-.94-.94-2.06-.94 2.06-2.06.94zm-11 1L8.5 8.5l.94-2.06 2.06-.94-2.06-.94L8.5 2.5l-.94 2.06-2.06.94zm10 10l.94 2.06.94-2.06 2.06-.94-2.06-.94-.94-2.06-.94 2.06-2.06.94z\"/><path d=\"M17.41 7.96l-1.37-1.37c-.4-.4-.92-.59-1.43-.59-.52 0-1.04.2-1.43.59L10.3 9.45l-7.72 7.72c-.78.78-.78 2.05 0 2.83L4 21.41c.39.39.9.59 1.41.59.51 0 1.02-.2 1.41-.59l7.78-7.78 2.81-2.81c.8-.78.8-2.07 0-2.86zM5.41 20L4 18.59l7.72-7.72 1.47 1.35L5.41 20z\"/>\n",
              "  </svg>\n",
              "      </button>\n",
              "      \n",
              "  <style>\n",
              "    .colab-df-container {\n",
              "      display:flex;\n",
              "      flex-wrap:wrap;\n",
              "      gap: 12px;\n",
              "    }\n",
              "\n",
              "    .colab-df-convert {\n",
              "      background-color: #E8F0FE;\n",
              "      border: none;\n",
              "      border-radius: 50%;\n",
              "      cursor: pointer;\n",
              "      display: none;\n",
              "      fill: #1967D2;\n",
              "      height: 32px;\n",
              "      padding: 0 0 0 0;\n",
              "      width: 32px;\n",
              "    }\n",
              "\n",
              "    .colab-df-convert:hover {\n",
              "      background-color: #E2EBFA;\n",
              "      box-shadow: 0px 1px 2px rgba(60, 64, 67, 0.3), 0px 1px 3px 1px rgba(60, 64, 67, 0.15);\n",
              "      fill: #174EA6;\n",
              "    }\n",
              "\n",
              "    [theme=dark] .colab-df-convert {\n",
              "      background-color: #3B4455;\n",
              "      fill: #D2E3FC;\n",
              "    }\n",
              "\n",
              "    [theme=dark] .colab-df-convert:hover {\n",
              "      background-color: #434B5C;\n",
              "      box-shadow: 0px 1px 3px 1px rgba(0, 0, 0, 0.15);\n",
              "      filter: drop-shadow(0px 1px 2px rgba(0, 0, 0, 0.3));\n",
              "      fill: #FFFFFF;\n",
              "    }\n",
              "  </style>\n",
              "\n",
              "      <script>\n",
              "        const buttonEl =\n",
              "          document.querySelector('#df-f6b6fbb5-1af7-4448-bb4d-3bcb97552354 button.colab-df-convert');\n",
              "        buttonEl.style.display =\n",
              "          google.colab.kernel.accessAllowed ? 'block' : 'none';\n",
              "\n",
              "        async function convertToInteractive(key) {\n",
              "          const element = document.querySelector('#df-f6b6fbb5-1af7-4448-bb4d-3bcb97552354');\n",
              "          const dataTable =\n",
              "            await google.colab.kernel.invokeFunction('convertToInteractive',\n",
              "                                                     [key], {});\n",
              "          if (!dataTable) return;\n",
              "\n",
              "          const docLinkHtml = 'Like what you see? Visit the ' +\n",
              "            '<a target=\"_blank\" href=https://colab.research.google.com/notebooks/data_table.ipynb>data table notebook</a>'\n",
              "            + ' to learn more about interactive tables.';\n",
              "          element.innerHTML = '';\n",
              "          dataTable['output_type'] = 'display_data';\n",
              "          await google.colab.output.renderOutput(dataTable, element);\n",
              "          const docLink = document.createElement('div');\n",
              "          docLink.innerHTML = docLinkHtml;\n",
              "          element.appendChild(docLink);\n",
              "        }\n",
              "      </script>\n",
              "    </div>\n",
              "  </div>\n",
              "  "
            ],
            "text/plain": [
              "      Domain_Id             Domain_Name  ... Attribute_Status Attribute_Status_Code\n",
              "0             1  Patient administrative  ...           Active                     1\n",
              "1             1  Patient administrative  ...           Active                     1\n",
              "2             1  Patient administrative  ...           Active                     1\n",
              "3             1  Patient administrative  ...           Active                     1\n",
              "4             1  Patient administrative  ...           Active                     1\n",
              "...         ...                     ...  ...              ...                   ...\n",
              "4128          7                     ICT  ...           Active                     1\n",
              "4129          7                     ICT  ...           Active                     1\n",
              "4130          7                     ICT  ...           Active                     1\n",
              "4131          7                     ICT  ...           Active                     1\n",
              "4132          7                     ICT  ...           Active                     1\n",
              "\n",
              "[4133 rows x 37 columns]"
            ]
          },
          "metadata": {},
          "execution_count": 9
        }
      ]
    },
    {
      "cell_type": "code",
      "source": [
        "data.info()"
      ],
      "metadata": {
        "id": "N5_HnDEFetV4",
        "colab": {
          "base_uri": "https://localhost:8080/"
        },
        "outputId": "9a39ec8e-edae-41ff-8f66-4936ad7cf8ef"
      },
      "execution_count": 10,
      "outputs": [
        {
          "output_type": "stream",
          "name": "stdout",
          "text": [
            "<class 'pandas.core.frame.DataFrame'>\n",
            "RangeIndex: 4133 entries, 0 to 4132\n",
            "Data columns (total 37 columns):\n",
            " #   Column                    Non-Null Count  Dtype \n",
            "---  ------                    --------------  ----- \n",
            " 0   Domain_Id                 4133 non-null   int64 \n",
            " 1   Domain_Name               4133 non-null   object\n",
            " 2   Domain_Desc               4133 non-null   object\n",
            " 3   Domain_Code               4133 non-null   object\n",
            " 4   Domain_Status             4133 non-null   object\n",
            " 5   Domain_Status_Code        4133 non-null   int64 \n",
            " 6   Application_Id            4133 non-null   int64 \n",
            " 7   Application_Name          4133 non-null   object\n",
            " 8   Application_Code          4133 non-null   object\n",
            " 9   Application_Desc          4133 non-null   object\n",
            " 10  Application_Status        4133 non-null   object\n",
            " 11  Application_Status_Code   4133 non-null   int64 \n",
            " 12  Asset_Id                  4133 non-null   int64 \n",
            " 13  Asset_Technical_Name      4133 non-null   object\n",
            " 14  Asset_Business_Name       4133 non-null   object\n",
            " 15  Asset_Business_Desc       3675 non-null   object\n",
            " 16  Asset_Status              4133 non-null   object\n",
            " 17  Asset_Status_Code         4133 non-null   int64 \n",
            " 18  Asset_Server_Name         4133 non-null   object\n",
            " 19  Asset_Database            4133 non-null   object\n",
            " 20  Asset_Schema              4133 non-null   object\n",
            " 21  Asset_Type_Id             4133 non-null   int64 \n",
            " 22  Asset_Type_Name           4133 non-null   object\n",
            " 23  Asset_Type_Desc           4133 non-null   object\n",
            " 24  Privacy_Level_Id          4133 non-null   int64 \n",
            " 25  Asset_Privacy_Level       4133 non-null   object\n",
            " 26  Asset_Privacy_Desc        4133 non-null   object\n",
            " 27  Attribute_Id              4133 non-null   int64 \n",
            " 28  Attribute_Technical_Name  4133 non-null   object\n",
            " 29  Attribute_Business_Name   4133 non-null   object\n",
            " 30  Attribute_Business_Desc   3726 non-null   object\n",
            " 31  Attribute_Business_Rule   350 non-null    object\n",
            " 32  Attribute_Data_Type       4130 non-null   object\n",
            " 33  Attribute_IsPK            4133 non-null   object\n",
            " 34  Attribute_IsNullable      4133 non-null   object\n",
            " 35  Attribute_Status          4133 non-null   object\n",
            " 36  Attribute_Status_Code     4133 non-null   int64 \n",
            "dtypes: int64(10), object(27)\n",
            "memory usage: 1.2+ MB\n"
          ]
        }
      ]
    },
    {
      "cell_type": "code",
      "source": [
        "data.describe()"
      ],
      "metadata": {
        "id": "TramfDjphbLY",
        "colab": {
          "base_uri": "https://localhost:8080/",
          "height": 364
        },
        "outputId": "53fc5ae9-3a6b-4063-800e-8062fead64f2"
      },
      "execution_count": 11,
      "outputs": [
        {
          "output_type": "execute_result",
          "data": {
            "text/html": [
              "\n",
              "  <div id=\"df-b5205b3a-c698-4887-8d98-d9c32435fa35\">\n",
              "    <div class=\"colab-df-container\">\n",
              "      <div>\n",
              "<style scoped>\n",
              "    .dataframe tbody tr th:only-of-type {\n",
              "        vertical-align: middle;\n",
              "    }\n",
              "\n",
              "    .dataframe tbody tr th {\n",
              "        vertical-align: top;\n",
              "    }\n",
              "\n",
              "    .dataframe thead th {\n",
              "        text-align: right;\n",
              "    }\n",
              "</style>\n",
              "<table border=\"1\" class=\"dataframe\">\n",
              "  <thead>\n",
              "    <tr style=\"text-align: right;\">\n",
              "      <th></th>\n",
              "      <th>Domain_Id</th>\n",
              "      <th>Domain_Status_Code</th>\n",
              "      <th>Application_Id</th>\n",
              "      <th>Application_Status_Code</th>\n",
              "      <th>Asset_Id</th>\n",
              "      <th>Asset_Status_Code</th>\n",
              "      <th>Asset_Type_Id</th>\n",
              "      <th>Privacy_Level_Id</th>\n",
              "      <th>Attribute_Id</th>\n",
              "      <th>Attribute_Status_Code</th>\n",
              "    </tr>\n",
              "  </thead>\n",
              "  <tbody>\n",
              "    <tr>\n",
              "      <th>count</th>\n",
              "      <td>4133.000000</td>\n",
              "      <td>4133.0</td>\n",
              "      <td>4133.000000</td>\n",
              "      <td>4133.0</td>\n",
              "      <td>4133.000000</td>\n",
              "      <td>4133.000000</td>\n",
              "      <td>4133.000000</td>\n",
              "      <td>4133.000000</td>\n",
              "      <td>4133.000000</td>\n",
              "      <td>4133.000000</td>\n",
              "    </tr>\n",
              "    <tr>\n",
              "      <th>mean</th>\n",
              "      <td>7.288168</td>\n",
              "      <td>1.0</td>\n",
              "      <td>32.568836</td>\n",
              "      <td>1.0</td>\n",
              "      <td>217.097992</td>\n",
              "      <td>1.008226</td>\n",
              "      <td>1.189451</td>\n",
              "      <td>-0.331720</td>\n",
              "      <td>2173.253327</td>\n",
              "      <td>1.009436</td>\n",
              "    </tr>\n",
              "    <tr>\n",
              "      <th>std</th>\n",
              "      <td>3.175863</td>\n",
              "      <td>0.0</td>\n",
              "      <td>19.112937</td>\n",
              "      <td>0.0</td>\n",
              "      <td>129.265674</td>\n",
              "      <td>0.128020</td>\n",
              "      <td>0.391914</td>\n",
              "      <td>1.417479</td>\n",
              "      <td>1294.975998</td>\n",
              "      <td>0.136184</td>\n",
              "    </tr>\n",
              "    <tr>\n",
              "      <th>min</th>\n",
              "      <td>1.000000</td>\n",
              "      <td>1.0</td>\n",
              "      <td>1.000000</td>\n",
              "      <td>1.0</td>\n",
              "      <td>1.000000</td>\n",
              "      <td>1.000000</td>\n",
              "      <td>1.000000</td>\n",
              "      <td>-1.000000</td>\n",
              "      <td>1.000000</td>\n",
              "      <td>1.000000</td>\n",
              "    </tr>\n",
              "    <tr>\n",
              "      <th>25%</th>\n",
              "      <td>7.000000</td>\n",
              "      <td>1.0</td>\n",
              "      <td>15.000000</td>\n",
              "      <td>1.0</td>\n",
              "      <td>109.000000</td>\n",
              "      <td>1.000000</td>\n",
              "      <td>1.000000</td>\n",
              "      <td>-1.000000</td>\n",
              "      <td>1039.000000</td>\n",
              "      <td>1.000000</td>\n",
              "    </tr>\n",
              "    <tr>\n",
              "      <th>50%</th>\n",
              "      <td>7.000000</td>\n",
              "      <td>1.0</td>\n",
              "      <td>25.000000</td>\n",
              "      <td>1.0</td>\n",
              "      <td>222.000000</td>\n",
              "      <td>1.000000</td>\n",
              "      <td>1.000000</td>\n",
              "      <td>-1.000000</td>\n",
              "      <td>2145.000000</td>\n",
              "      <td>1.000000</td>\n",
              "    </tr>\n",
              "    <tr>\n",
              "      <th>75%</th>\n",
              "      <td>7.000000</td>\n",
              "      <td>1.0</td>\n",
              "      <td>52.000000</td>\n",
              "      <td>1.0</td>\n",
              "      <td>320.000000</td>\n",
              "      <td>1.000000</td>\n",
              "      <td>1.000000</td>\n",
              "      <td>-1.000000</td>\n",
              "      <td>3195.000000</td>\n",
              "      <td>1.000000</td>\n",
              "    </tr>\n",
              "    <tr>\n",
              "      <th>max</th>\n",
              "      <td>19.000000</td>\n",
              "      <td>1.0</td>\n",
              "      <td>56.000000</td>\n",
              "      <td>1.0</td>\n",
              "      <td>428.000000</td>\n",
              "      <td>3.000000</td>\n",
              "      <td>2.000000</td>\n",
              "      <td>4.000000</td>\n",
              "      <td>4460.000000</td>\n",
              "      <td>3.000000</td>\n",
              "    </tr>\n",
              "  </tbody>\n",
              "</table>\n",
              "</div>\n",
              "      <button class=\"colab-df-convert\" onclick=\"convertToInteractive('df-b5205b3a-c698-4887-8d98-d9c32435fa35')\"\n",
              "              title=\"Convert this dataframe to an interactive table.\"\n",
              "              style=\"display:none;\">\n",
              "        \n",
              "  <svg xmlns=\"http://www.w3.org/2000/svg\" height=\"24px\"viewBox=\"0 0 24 24\"\n",
              "       width=\"24px\">\n",
              "    <path d=\"M0 0h24v24H0V0z\" fill=\"none\"/>\n",
              "    <path d=\"M18.56 5.44l.94 2.06.94-2.06 2.06-.94-2.06-.94-.94-2.06-.94 2.06-2.06.94zm-11 1L8.5 8.5l.94-2.06 2.06-.94-2.06-.94L8.5 2.5l-.94 2.06-2.06.94zm10 10l.94 2.06.94-2.06 2.06-.94-2.06-.94-.94-2.06-.94 2.06-2.06.94z\"/><path d=\"M17.41 7.96l-1.37-1.37c-.4-.4-.92-.59-1.43-.59-.52 0-1.04.2-1.43.59L10.3 9.45l-7.72 7.72c-.78.78-.78 2.05 0 2.83L4 21.41c.39.39.9.59 1.41.59.51 0 1.02-.2 1.41-.59l7.78-7.78 2.81-2.81c.8-.78.8-2.07 0-2.86zM5.41 20L4 18.59l7.72-7.72 1.47 1.35L5.41 20z\"/>\n",
              "  </svg>\n",
              "      </button>\n",
              "      \n",
              "  <style>\n",
              "    .colab-df-container {\n",
              "      display:flex;\n",
              "      flex-wrap:wrap;\n",
              "      gap: 12px;\n",
              "    }\n",
              "\n",
              "    .colab-df-convert {\n",
              "      background-color: #E8F0FE;\n",
              "      border: none;\n",
              "      border-radius: 50%;\n",
              "      cursor: pointer;\n",
              "      display: none;\n",
              "      fill: #1967D2;\n",
              "      height: 32px;\n",
              "      padding: 0 0 0 0;\n",
              "      width: 32px;\n",
              "    }\n",
              "\n",
              "    .colab-df-convert:hover {\n",
              "      background-color: #E2EBFA;\n",
              "      box-shadow: 0px 1px 2px rgba(60, 64, 67, 0.3), 0px 1px 3px 1px rgba(60, 64, 67, 0.15);\n",
              "      fill: #174EA6;\n",
              "    }\n",
              "\n",
              "    [theme=dark] .colab-df-convert {\n",
              "      background-color: #3B4455;\n",
              "      fill: #D2E3FC;\n",
              "    }\n",
              "\n",
              "    [theme=dark] .colab-df-convert:hover {\n",
              "      background-color: #434B5C;\n",
              "      box-shadow: 0px 1px 3px 1px rgba(0, 0, 0, 0.15);\n",
              "      filter: drop-shadow(0px 1px 2px rgba(0, 0, 0, 0.3));\n",
              "      fill: #FFFFFF;\n",
              "    }\n",
              "  </style>\n",
              "\n",
              "      <script>\n",
              "        const buttonEl =\n",
              "          document.querySelector('#df-b5205b3a-c698-4887-8d98-d9c32435fa35 button.colab-df-convert');\n",
              "        buttonEl.style.display =\n",
              "          google.colab.kernel.accessAllowed ? 'block' : 'none';\n",
              "\n",
              "        async function convertToInteractive(key) {\n",
              "          const element = document.querySelector('#df-b5205b3a-c698-4887-8d98-d9c32435fa35');\n",
              "          const dataTable =\n",
              "            await google.colab.kernel.invokeFunction('convertToInteractive',\n",
              "                                                     [key], {});\n",
              "          if (!dataTable) return;\n",
              "\n",
              "          const docLinkHtml = 'Like what you see? Visit the ' +\n",
              "            '<a target=\"_blank\" href=https://colab.research.google.com/notebooks/data_table.ipynb>data table notebook</a>'\n",
              "            + ' to learn more about interactive tables.';\n",
              "          element.innerHTML = '';\n",
              "          dataTable['output_type'] = 'display_data';\n",
              "          await google.colab.output.renderOutput(dataTable, element);\n",
              "          const docLink = document.createElement('div');\n",
              "          docLink.innerHTML = docLinkHtml;\n",
              "          element.appendChild(docLink);\n",
              "        }\n",
              "      </script>\n",
              "    </div>\n",
              "  </div>\n",
              "  "
            ],
            "text/plain": [
              "         Domain_Id  Domain_Status_Code  ...  Attribute_Id  Attribute_Status_Code\n",
              "count  4133.000000              4133.0  ...   4133.000000            4133.000000\n",
              "mean      7.288168                 1.0  ...   2173.253327               1.009436\n",
              "std       3.175863                 0.0  ...   1294.975998               0.136184\n",
              "min       1.000000                 1.0  ...      1.000000               1.000000\n",
              "25%       7.000000                 1.0  ...   1039.000000               1.000000\n",
              "50%       7.000000                 1.0  ...   2145.000000               1.000000\n",
              "75%       7.000000                 1.0  ...   3195.000000               1.000000\n",
              "max      19.000000                 1.0  ...   4460.000000               3.000000\n",
              "\n",
              "[8 rows x 10 columns]"
            ]
          },
          "metadata": {},
          "execution_count": 11
        }
      ]
    },
    {
      "cell_type": "code",
      "source": [
        "data.isnull().any()"
      ],
      "metadata": {
        "id": "ymfwzlv5hkw8",
        "colab": {
          "base_uri": "https://localhost:8080/"
        },
        "outputId": "9827f89d-9c5b-4a18-ad01-b994b1a313fa"
      },
      "execution_count": 12,
      "outputs": [
        {
          "output_type": "execute_result",
          "data": {
            "text/plain": [
              "Domain_Id                   False\n",
              "Domain_Name                 False\n",
              "Domain_Desc                 False\n",
              "Domain_Code                 False\n",
              "Domain_Status               False\n",
              "Domain_Status_Code          False\n",
              "Application_Id              False\n",
              "Application_Name            False\n",
              "Application_Code            False\n",
              "Application_Desc            False\n",
              "Application_Status          False\n",
              "Application_Status_Code     False\n",
              "Asset_Id                    False\n",
              "Asset_Technical_Name        False\n",
              "Asset_Business_Name         False\n",
              "Asset_Business_Desc          True\n",
              "Asset_Status                False\n",
              "Asset_Status_Code           False\n",
              "Asset_Server_Name           False\n",
              "Asset_Database              False\n",
              "Asset_Schema                False\n",
              "Asset_Type_Id               False\n",
              "Asset_Type_Name             False\n",
              "Asset_Type_Desc             False\n",
              "Privacy_Level_Id            False\n",
              "Asset_Privacy_Level         False\n",
              "Asset_Privacy_Desc          False\n",
              "Attribute_Id                False\n",
              "Attribute_Technical_Name    False\n",
              "Attribute_Business_Name     False\n",
              "Attribute_Business_Desc      True\n",
              "Attribute_Business_Rule      True\n",
              "Attribute_Data_Type          True\n",
              "Attribute_IsPK              False\n",
              "Attribute_IsNullable        False\n",
              "Attribute_Status            False\n",
              "Attribute_Status_Code       False\n",
              "dtype: bool"
            ]
          },
          "metadata": {},
          "execution_count": 12
        }
      ]
    },
    {
      "cell_type": "code",
      "source": [
        "is_na = data[data.isna().any(axis=1)]"
      ],
      "metadata": {
        "id": "2glQ7Hkzhk8c"
      },
      "execution_count": 13,
      "outputs": []
    },
    {
      "cell_type": "code",
      "source": [
        "len(is_na)"
      ],
      "metadata": {
        "id": "uk-Wb_mjizsK",
        "colab": {
          "base_uri": "https://localhost:8080/"
        },
        "outputId": "e156a21c-a97d-44a7-c24f-3ec4d48583d5"
      },
      "execution_count": 14,
      "outputs": [
        {
          "output_type": "execute_result",
          "data": {
            "text/plain": [
              "3792"
            ]
          },
          "metadata": {},
          "execution_count": 14
        }
      ]
    },
    {
      "cell_type": "code",
      "source": [
        "is_na.tail()"
      ],
      "metadata": {
        "id": "zCWh_4CFjPoN",
        "colab": {
          "base_uri": "https://localhost:8080/",
          "height": 357
        },
        "outputId": "18a4b66e-ff76-4d38-de93-d638ef447478"
      },
      "execution_count": 15,
      "outputs": [
        {
          "output_type": "execute_result",
          "data": {
            "text/html": [
              "\n",
              "  <div id=\"df-aa59c6ad-9961-4945-acd8-e11561921bdc\">\n",
              "    <div class=\"colab-df-container\">\n",
              "      <div>\n",
              "<style scoped>\n",
              "    .dataframe tbody tr th:only-of-type {\n",
              "        vertical-align: middle;\n",
              "    }\n",
              "\n",
              "    .dataframe tbody tr th {\n",
              "        vertical-align: top;\n",
              "    }\n",
              "\n",
              "    .dataframe thead th {\n",
              "        text-align: right;\n",
              "    }\n",
              "</style>\n",
              "<table border=\"1\" class=\"dataframe\">\n",
              "  <thead>\n",
              "    <tr style=\"text-align: right;\">\n",
              "      <th></th>\n",
              "      <th>Domain_Id</th>\n",
              "      <th>Domain_Name</th>\n",
              "      <th>Domain_Desc</th>\n",
              "      <th>Domain_Code</th>\n",
              "      <th>Domain_Status</th>\n",
              "      <th>Domain_Status_Code</th>\n",
              "      <th>Application_Id</th>\n",
              "      <th>Application_Name</th>\n",
              "      <th>Application_Code</th>\n",
              "      <th>Application_Desc</th>\n",
              "      <th>Application_Status</th>\n",
              "      <th>Application_Status_Code</th>\n",
              "      <th>Asset_Id</th>\n",
              "      <th>Asset_Technical_Name</th>\n",
              "      <th>Asset_Business_Name</th>\n",
              "      <th>Asset_Business_Desc</th>\n",
              "      <th>Asset_Status</th>\n",
              "      <th>Asset_Status_Code</th>\n",
              "      <th>Asset_Server_Name</th>\n",
              "      <th>Asset_Database</th>\n",
              "      <th>Asset_Schema</th>\n",
              "      <th>Asset_Type_Id</th>\n",
              "      <th>Asset_Type_Name</th>\n",
              "      <th>Asset_Type_Desc</th>\n",
              "      <th>Privacy_Level_Id</th>\n",
              "      <th>Asset_Privacy_Level</th>\n",
              "      <th>Asset_Privacy_Desc</th>\n",
              "      <th>Attribute_Id</th>\n",
              "      <th>Attribute_Technical_Name</th>\n",
              "      <th>Attribute_Business_Name</th>\n",
              "      <th>Attribute_Business_Desc</th>\n",
              "      <th>Attribute_Business_Rule</th>\n",
              "      <th>Attribute_Data_Type</th>\n",
              "      <th>Attribute_IsPK</th>\n",
              "      <th>Attribute_IsNullable</th>\n",
              "      <th>Attribute_Status</th>\n",
              "      <th>Attribute_Status_Code</th>\n",
              "    </tr>\n",
              "  </thead>\n",
              "  <tbody>\n",
              "    <tr>\n",
              "      <th>4128</th>\n",
              "      <td>7</td>\n",
              "      <td>ICT</td>\n",
              "      <td>ICT department</td>\n",
              "      <td>ICT</td>\n",
              "      <td>Active</td>\n",
              "      <td>1</td>\n",
              "      <td>15</td>\n",
              "      <td>sidecar</td>\n",
              "      <td>SIDECAR</td>\n",
              "      <td>sidecar is metadata management system.</td>\n",
              "      <td>Active</td>\n",
              "      <td>1</td>\n",
              "      <td>106</td>\n",
              "      <td>Config_AssetList</td>\n",
              "      <td>Configuration asset list</td>\n",
              "      <td>Contains all the required parameters to launch...</td>\n",
              "      <td>Active</td>\n",
              "      <td>1</td>\n",
              "      <td>DESKTOP-5JVNT8I</td>\n",
              "      <td>sidecar_Dev</td>\n",
              "      <td>dbo</td>\n",
              "      <td>1</td>\n",
              "      <td>Table</td>\n",
              "      <td>Database table</td>\n",
              "      <td>-1</td>\n",
              "      <td>Not defined</td>\n",
              "      <td>-</td>\n",
              "      <td>4456</td>\n",
              "      <td>Config_AssetList_Data_Source</td>\n",
              "      <td>Config AssetList Data Source</td>\n",
              "      <td>Data source for the scan</td>\n",
              "      <td>NaN</td>\n",
              "      <td>nvarchar (64)</td>\n",
              "      <td>No</td>\n",
              "      <td>Yes</td>\n",
              "      <td>Active</td>\n",
              "      <td>1</td>\n",
              "    </tr>\n",
              "    <tr>\n",
              "      <th>4129</th>\n",
              "      <td>7</td>\n",
              "      <td>ICT</td>\n",
              "      <td>ICT department</td>\n",
              "      <td>ICT</td>\n",
              "      <td>Active</td>\n",
              "      <td>1</td>\n",
              "      <td>15</td>\n",
              "      <td>sidecar</td>\n",
              "      <td>SIDECAR</td>\n",
              "      <td>sidecar is metadata management system.</td>\n",
              "      <td>Active</td>\n",
              "      <td>1</td>\n",
              "      <td>87</td>\n",
              "      <td>Attribute</td>\n",
              "      <td>Attribute</td>\n",
              "      <td>Contains the list of attributes that character...</td>\n",
              "      <td>Active</td>\n",
              "      <td>1</td>\n",
              "      <td>DESKTOP-5JVNT8I</td>\n",
              "      <td>sidecar_Dev</td>\n",
              "      <td>dbo</td>\n",
              "      <td>1</td>\n",
              "      <td>Table</td>\n",
              "      <td>Database table</td>\n",
              "      <td>-1</td>\n",
              "      <td>Not defined</td>\n",
              "      <td>-</td>\n",
              "      <td>4457</td>\n",
              "      <td>Attribute_Sample_Data</td>\n",
              "      <td>Attribute sample data</td>\n",
              "      <td>Sample data of the attribute.</td>\n",
              "      <td>NaN</td>\n",
              "      <td>nvarchar (MAX)</td>\n",
              "      <td>No</td>\n",
              "      <td>Yes</td>\n",
              "      <td>Active</td>\n",
              "      <td>1</td>\n",
              "    </tr>\n",
              "    <tr>\n",
              "      <th>4130</th>\n",
              "      <td>7</td>\n",
              "      <td>ICT</td>\n",
              "      <td>ICT department</td>\n",
              "      <td>ICT</td>\n",
              "      <td>Active</td>\n",
              "      <td>1</td>\n",
              "      <td>15</td>\n",
              "      <td>sidecar</td>\n",
              "      <td>SIDECAR</td>\n",
              "      <td>sidecar is metadata management system.</td>\n",
              "      <td>Active</td>\n",
              "      <td>1</td>\n",
              "      <td>81</td>\n",
              "      <td>Property</td>\n",
              "      <td>Custom properties</td>\n",
              "      <td>This table contains the all custom properties ...</td>\n",
              "      <td>Active</td>\n",
              "      <td>1</td>\n",
              "      <td>DESKTOP-5JVNT8I</td>\n",
              "      <td>sidecar_Dev</td>\n",
              "      <td>dbo</td>\n",
              "      <td>1</td>\n",
              "      <td>Table</td>\n",
              "      <td>Database table</td>\n",
              "      <td>-1</td>\n",
              "      <td>Not defined</td>\n",
              "      <td>-</td>\n",
              "      <td>4458</td>\n",
              "      <td>Property_IsDQ</td>\n",
              "      <td>Property IsDQ</td>\n",
              "      <td>Flag that indicates if the property is a data ...</td>\n",
              "      <td>NaN</td>\n",
              "      <td>bit</td>\n",
              "      <td>No</td>\n",
              "      <td>Yes</td>\n",
              "      <td>Active</td>\n",
              "      <td>1</td>\n",
              "    </tr>\n",
              "    <tr>\n",
              "      <th>4131</th>\n",
              "      <td>7</td>\n",
              "      <td>ICT</td>\n",
              "      <td>ICT department</td>\n",
              "      <td>ICT</td>\n",
              "      <td>Active</td>\n",
              "      <td>1</td>\n",
              "      <td>15</td>\n",
              "      <td>sidecar</td>\n",
              "      <td>SIDECAR</td>\n",
              "      <td>sidecar is metadata management system.</td>\n",
              "      <td>Active</td>\n",
              "      <td>1</td>\n",
              "      <td>81</td>\n",
              "      <td>Property</td>\n",
              "      <td>Custom properties</td>\n",
              "      <td>This table contains the all custom properties ...</td>\n",
              "      <td>Active</td>\n",
              "      <td>1</td>\n",
              "      <td>DESKTOP-5JVNT8I</td>\n",
              "      <td>sidecar_Dev</td>\n",
              "      <td>dbo</td>\n",
              "      <td>1</td>\n",
              "      <td>Table</td>\n",
              "      <td>Database table</td>\n",
              "      <td>-1</td>\n",
              "      <td>Not defined</td>\n",
              "      <td>-</td>\n",
              "      <td>4459</td>\n",
              "      <td>Property_DQ_Calculation</td>\n",
              "      <td>Property DQ Calculation</td>\n",
              "      <td>Data quality calculation of the custom property</td>\n",
              "      <td>NaN</td>\n",
              "      <td>varchar (50)</td>\n",
              "      <td>No</td>\n",
              "      <td>Yes</td>\n",
              "      <td>Active</td>\n",
              "      <td>1</td>\n",
              "    </tr>\n",
              "    <tr>\n",
              "      <th>4132</th>\n",
              "      <td>7</td>\n",
              "      <td>ICT</td>\n",
              "      <td>ICT department</td>\n",
              "      <td>ICT</td>\n",
              "      <td>Active</td>\n",
              "      <td>1</td>\n",
              "      <td>15</td>\n",
              "      <td>sidecar</td>\n",
              "      <td>SIDECAR</td>\n",
              "      <td>sidecar is metadata management system.</td>\n",
              "      <td>Active</td>\n",
              "      <td>1</td>\n",
              "      <td>81</td>\n",
              "      <td>Property</td>\n",
              "      <td>Custom properties</td>\n",
              "      <td>This table contains the all custom properties ...</td>\n",
              "      <td>Active</td>\n",
              "      <td>1</td>\n",
              "      <td>DESKTOP-5JVNT8I</td>\n",
              "      <td>sidecar_Dev</td>\n",
              "      <td>dbo</td>\n",
              "      <td>1</td>\n",
              "      <td>Table</td>\n",
              "      <td>Database table</td>\n",
              "      <td>-1</td>\n",
              "      <td>Not defined</td>\n",
              "      <td>-</td>\n",
              "      <td>4460</td>\n",
              "      <td>Property_DQ_Output_Format</td>\n",
              "      <td>Property DQ Output Format</td>\n",
              "      <td>Data quality output format of the custom property</td>\n",
              "      <td>NaN</td>\n",
              "      <td>varchar (20)</td>\n",
              "      <td>No</td>\n",
              "      <td>Yes</td>\n",
              "      <td>Active</td>\n",
              "      <td>1</td>\n",
              "    </tr>\n",
              "  </tbody>\n",
              "</table>\n",
              "</div>\n",
              "      <button class=\"colab-df-convert\" onclick=\"convertToInteractive('df-aa59c6ad-9961-4945-acd8-e11561921bdc')\"\n",
              "              title=\"Convert this dataframe to an interactive table.\"\n",
              "              style=\"display:none;\">\n",
              "        \n",
              "  <svg xmlns=\"http://www.w3.org/2000/svg\" height=\"24px\"viewBox=\"0 0 24 24\"\n",
              "       width=\"24px\">\n",
              "    <path d=\"M0 0h24v24H0V0z\" fill=\"none\"/>\n",
              "    <path d=\"M18.56 5.44l.94 2.06.94-2.06 2.06-.94-2.06-.94-.94-2.06-.94 2.06-2.06.94zm-11 1L8.5 8.5l.94-2.06 2.06-.94-2.06-.94L8.5 2.5l-.94 2.06-2.06.94zm10 10l.94 2.06.94-2.06 2.06-.94-2.06-.94-.94-2.06-.94 2.06-2.06.94z\"/><path d=\"M17.41 7.96l-1.37-1.37c-.4-.4-.92-.59-1.43-.59-.52 0-1.04.2-1.43.59L10.3 9.45l-7.72 7.72c-.78.78-.78 2.05 0 2.83L4 21.41c.39.39.9.59 1.41.59.51 0 1.02-.2 1.41-.59l7.78-7.78 2.81-2.81c.8-.78.8-2.07 0-2.86zM5.41 20L4 18.59l7.72-7.72 1.47 1.35L5.41 20z\"/>\n",
              "  </svg>\n",
              "      </button>\n",
              "      \n",
              "  <style>\n",
              "    .colab-df-container {\n",
              "      display:flex;\n",
              "      flex-wrap:wrap;\n",
              "      gap: 12px;\n",
              "    }\n",
              "\n",
              "    .colab-df-convert {\n",
              "      background-color: #E8F0FE;\n",
              "      border: none;\n",
              "      border-radius: 50%;\n",
              "      cursor: pointer;\n",
              "      display: none;\n",
              "      fill: #1967D2;\n",
              "      height: 32px;\n",
              "      padding: 0 0 0 0;\n",
              "      width: 32px;\n",
              "    }\n",
              "\n",
              "    .colab-df-convert:hover {\n",
              "      background-color: #E2EBFA;\n",
              "      box-shadow: 0px 1px 2px rgba(60, 64, 67, 0.3), 0px 1px 3px 1px rgba(60, 64, 67, 0.15);\n",
              "      fill: #174EA6;\n",
              "    }\n",
              "\n",
              "    [theme=dark] .colab-df-convert {\n",
              "      background-color: #3B4455;\n",
              "      fill: #D2E3FC;\n",
              "    }\n",
              "\n",
              "    [theme=dark] .colab-df-convert:hover {\n",
              "      background-color: #434B5C;\n",
              "      box-shadow: 0px 1px 3px 1px rgba(0, 0, 0, 0.15);\n",
              "      filter: drop-shadow(0px 1px 2px rgba(0, 0, 0, 0.3));\n",
              "      fill: #FFFFFF;\n",
              "    }\n",
              "  </style>\n",
              "\n",
              "      <script>\n",
              "        const buttonEl =\n",
              "          document.querySelector('#df-aa59c6ad-9961-4945-acd8-e11561921bdc button.colab-df-convert');\n",
              "        buttonEl.style.display =\n",
              "          google.colab.kernel.accessAllowed ? 'block' : 'none';\n",
              "\n",
              "        async function convertToInteractive(key) {\n",
              "          const element = document.querySelector('#df-aa59c6ad-9961-4945-acd8-e11561921bdc');\n",
              "          const dataTable =\n",
              "            await google.colab.kernel.invokeFunction('convertToInteractive',\n",
              "                                                     [key], {});\n",
              "          if (!dataTable) return;\n",
              "\n",
              "          const docLinkHtml = 'Like what you see? Visit the ' +\n",
              "            '<a target=\"_blank\" href=https://colab.research.google.com/notebooks/data_table.ipynb>data table notebook</a>'\n",
              "            + ' to learn more about interactive tables.';\n",
              "          element.innerHTML = '';\n",
              "          dataTable['output_type'] = 'display_data';\n",
              "          await google.colab.output.renderOutput(dataTable, element);\n",
              "          const docLink = document.createElement('div');\n",
              "          docLink.innerHTML = docLinkHtml;\n",
              "          element.appendChild(docLink);\n",
              "        }\n",
              "      </script>\n",
              "    </div>\n",
              "  </div>\n",
              "  "
            ],
            "text/plain": [
              "      Domain_Id Domain_Name  ... Attribute_Status Attribute_Status_Code\n",
              "4128          7         ICT  ...           Active                     1\n",
              "4129          7         ICT  ...           Active                     1\n",
              "4130          7         ICT  ...           Active                     1\n",
              "4131          7         ICT  ...           Active                     1\n",
              "4132          7         ICT  ...           Active                     1\n",
              "\n",
              "[5 rows x 37 columns]"
            ]
          },
          "metadata": {},
          "execution_count": 15
        }
      ]
    },
    {
      "cell_type": "code",
      "source": [
        "np.sort(data[\"Asset_Id\"].unique())"
      ],
      "metadata": {
        "id": "ZEBEkQ38khuV"
      },
      "execution_count": null,
      "outputs": []
    },
    {
      "cell_type": "code",
      "source": [
        "# how many values per column, value_counts() per feature\n",
        "# plot distributions barplot or histogramm\n",
        "for col in data.columns:\n",
        "  print (f\"Column Name, Number of unique values: \\n{col}, {data[col].nunique()}\\nValue Counts: \\n{data[col].value_counts()}\\n\\n----------------------\")"
      ],
      "metadata": {
        "id": "R__SOjgLmIZH"
      },
      "execution_count": null,
      "outputs": []
    },
    {
      "cell_type": "code",
      "source": [
        "data[\"Attribute_Technical_Name\"].value_counts()"
      ],
      "metadata": {
        "id": "6OkPW9ohVhrt",
        "colab": {
          "base_uri": "https://localhost:8080/"
        },
        "outputId": "30e20818-8a60-4afa-daf9-7e253ec522ad"
      },
      "execution_count": 18,
      "outputs": [
        {
          "output_type": "execute_result",
          "data": {
            "text/plain": [
              "ModifiedDate            73\n",
              "SYS_LastModified        49\n",
              "LastEditedBy            49\n",
              "SYS_LastModifiedBy      46\n",
              "ValidFrom               38\n",
              "                        ..\n",
              "cumulative_intensity     1\n",
              "intensity_level          1\n",
              "incompatibility          1\n",
              "side_b_2nd               1\n",
              "Property_IsDQ            1\n",
              "Name: Attribute_Technical_Name, Length: 1998, dtype: int64"
            ]
          },
          "metadata": {},
          "execution_count": 18
        }
      ]
    },
    {
      "cell_type": "code",
      "source": [
        "data[\"Attribute_Technical_Name\"].value_counts()[:40].plot(kind=\"barh\")\n",
        "fig = plt.gcf()\n",
        "fig.set_size_inches(16,10)\n",
        "plt.show()"
      ],
      "metadata": {
        "id": "Z3Tv-pBiO0_b",
        "colab": {
          "base_uri": "https://localhost:8080/",
          "height": 592
        },
        "outputId": "6ad242a7-bd6f-4e6d-bb1e-a4a41a4417c0"
      },
      "execution_count": 19,
      "outputs": [
        {
          "output_type": "display_data",
          "data": {
            "image/png": "[encoded data removed]",
            "text/plain": [
              "<Figure size 1152x720 with 1 Axes>"
            ]
          },
          "metadata": {}
        }
      ]
    },
    {
      "cell_type": "code",
      "source": [
        "data[\"Attribute_Business_Name\"].value_counts()[:40].plot(kind=\"barh\")\n",
        "fig = plt.gcf()\n",
        "fig.set_size_inches(16,10)\n",
        "plt.show()"
      ],
      "metadata": {
        "id": "B4xusTPMPNJ_",
        "colab": {
          "base_uri": "https://localhost:8080/",
          "height": 550
        },
        "outputId": "0a0f47f3-e3dd-4363-df07-dfe5693d7528"
      },
      "execution_count": 20,
      "outputs": [
        {
          "output_type": "display_data",
          "data": {
            "image/png": "[encoded data removed]",
            "text/plain": [
              "<Figure size 1152x720 with 1 Axes>"
            ]
          },
          "metadata": {}
        }
      ]
    },
    {
      "cell_type": "code",
      "source": [
        "data[\"Attribute_Technical_Name\"].astype(str)"
      ],
      "metadata": {
        "colab": {
          "base_uri": "https://localhost:8080/"
        },
        "id": "r9QTqCkP5q4-",
        "outputId": "f211dff2-56f1-45cc-aafc-870b27869899"
      },
      "execution_count": 21,
      "outputs": [
        {
          "output_type": "execute_result",
          "data": {
            "text/plain": [
              "0                                 ID\n",
              "1                            GNDR_CD\n",
              "2                    LIVG_ARNGMNT_CD\n",
              "3                       MRTL_STUS_CD\n",
              "4                         OCUPATN_CD\n",
              "                    ...             \n",
              "4128    Config_AssetList_Data_Source\n",
              "4129           Attribute_Sample_Data\n",
              "4130                   Property_IsDQ\n",
              "4131         Property_DQ_Calculation\n",
              "4132       Property_DQ_Output_Format\n",
              "Name: Attribute_Technical_Name, Length: 4133, dtype: object"
            ]
          },
          "metadata": {},
          "execution_count": 21
        }
      ]
    },
    {
      "cell_type": "markdown",
      "metadata": {
        "id": "e6Id6r0oYnFs"
      },
      "source": [
        "### Exploring Basic Models\n",
        "\n",
        "First we will try to generate the Business Name from the technical name, which should be a relatively straightforward problem. \n",
        "\n",
        "There are two basic approaches we can try. \n",
        "\n",
        "1. Similarity-based Model\n",
        "2. Rule-based Model"
      ]
    },
    {
      "cell_type": "markdown",
      "source": [
        "Text preprocessing:\n",
        "- try removing contractions (last step)\n",
        "- strip whitespaces\n",
        "- remove underscores\n",
        "- evtl. remove numbers (if it makes sense, for some data sets that might be a terrible idea --> genetic data/loci information etc.)\n",
        "- remove accentuation\n",
        "- remove special characters\n",
        "- evtl. remove punctuation\n",
        "- is lemmatization possible?\n",
        "- remove tabs (if there even are any)\n",
        "- change everything to lowercase\n",
        "- IDEA: Use probabilistic word expansion [source](https://loeb.nyc/blog/data-science-word-expander) (Word_expander) to expand abbreviated technical names? Symspell \n"
      ],
      "metadata": {
        "id": "XPFnxvWHrZIW"
      }
    },
    {
      "cell_type": "code",
      "source": [
        ""
      ],
      "metadata": {
        "id": "ebB-dmdIWY5V"
      },
      "execution_count": 21,
      "outputs": []
    },
    {
      "cell_type": "code",
      "source": [
        "# preprocess and normalize Text\n",
        "\n",
        "# in case text not english\n",
        "def remove_accented_chars(text):\n",
        "  text = unicodedata.normalize('NFKD', text).encode('ascii', 'ignore').decode('utf-8', 'ignore')\n",
        "  return text\n",
        "\n",
        "# preprocessing\n",
        "def pre_process_text(labels):\n",
        "  norm_docs = []\n",
        "  for string in tqdm.tqdm(labels):\n",
        "    string = string.replace(\"_\", \" \")\n",
        "    string = string.translate(string.maketrans(\"\\n\\t\\r\", \"   \"))\n",
        "    string = remove_accented_chars(string) \n",
        "    # and inset a space where a number follows a letter et vice versa\n",
        "    string = re.sub(r'(?<=\\d)(?=[^\\d\\s])|(?<=[^\\d\\s])(?=\\d)', ' ', string)\n",
        "    # insert space where an uppercase letter follows a lowercase letter\n",
        "    string = re.sub(r\"(?<![A-Z\\W])(?=[A-Z])\", \" \", string)\n",
        "    string = contractions.fix(string)\n",
        "    # where XXXX number to XXXX number replace - with to IN PROGRESS\n",
        "    string = string.replace(\"-\", \" to \")\n",
        "    # remove special characters or whitespaces\n",
        "    string = re.sub(r\"[^a-zA-Z0-9\\s]\", \"\", string, flags=re.I|re.A)\n",
        "    string = string.lower()\n",
        "    string = string.strip()\n",
        "    string = string.split(\" \")\n",
        "    norm_docs.append(string)\n",
        "  return norm_docs"
      ],
      "metadata": {
        "id": "EHslUr7m-I34"
      },
      "execution_count": 22,
      "outputs": []
    },
    {
      "cell_type": "code",
      "source": [
        "list1 = [\"PAF1234567\",\"ABC123553\", \"hep3\", \"obsolete_3\"]\n",
        "pre_process_text(list1)"
      ],
      "metadata": {
        "colab": {
          "base_uri": "https://localhost:8080/"
        },
        "id": "fKjl_eHwhCST",
        "outputId": "3e891dda-e6f0-4e28-88d5-0be67ee0ecb0"
      },
      "execution_count": 23,
      "outputs": [
        {
          "output_type": "stream",
          "name": "stderr",
          "text": [
            "100%|██████████| 4/4 [00:00<00:00, 4437.24it/s]\n"
          ]
        },
        {
          "output_type": "execute_result",
          "data": {
            "text/plain": [
              "[['paf', '1234567'], ['abc', '123553'], ['hep', '3'], ['obsolete', '3']]"
            ]
          },
          "metadata": {},
          "execution_count": 23
        }
      ]
    },
    {
      "cell_type": "code",
      "source": [
        "data[\"Attribute_Technical_Name\"]"
      ],
      "metadata": {
        "id": "rYA00Om_bdZc",
        "colab": {
          "base_uri": "https://localhost:8080/"
        },
        "outputId": "28724912-7b4b-4fd3-b3ac-5e07bb96e2e5"
      },
      "execution_count": 24,
      "outputs": [
        {
          "output_type": "execute_result",
          "data": {
            "text/plain": [
              "0                                 ID\n",
              "1                            GNDR_CD\n",
              "2                    LIVG_ARNGMNT_CD\n",
              "3                       MRTL_STUS_CD\n",
              "4                         OCUPATN_CD\n",
              "                    ...             \n",
              "4128    Config_AssetList_Data_Source\n",
              "4129           Attribute_Sample_Data\n",
              "4130                   Property_IsDQ\n",
              "4131         Property_DQ_Calculation\n",
              "4132       Property_DQ_Output_Format\n",
              "Name: Attribute_Technical_Name, Length: 4133, dtype: object"
            ]
          },
          "metadata": {},
          "execution_count": 24
        }
      ]
    },
    {
      "cell_type": "code",
      "source": [
        "#paf = data[data['Attribute_Technical_Name'].str.startswith('P_AF')]\n",
        "# data.Attribute_Technical_Name.str.startswith('Paf')\n",
        "#data_no_paf = data[~data['Attribute_Technical_Name'].isin(['P_AF'])]\n",
        "data_no_paf = data[data['Attribute_Technical_Name'].str.contains(\"P_AF\")==False]"
      ],
      "metadata": {
        "id": "BdjbGcAgqRyX"
      },
      "execution_count": 25,
      "outputs": []
    },
    {
      "cell_type": "code",
      "source": [
        "data_no_paf"
      ],
      "metadata": {
        "id": "QEVva9j8stCu",
        "colab": {
          "base_uri": "https://localhost:8080/",
          "height": 922
        },
        "outputId": "34fd790d-2f54-4bb9-aa1b-8e363fc78070"
      },
      "execution_count": 26,
      "outputs": [
        {
          "output_type": "execute_result",
          "data": {
            "text/html": [
              "\n",
              "  <div id=\"df-aa46bc53-c0dc-482d-b807-cc826ba9e1d4\">\n",
              "    <div class=\"colab-df-container\">\n",
              "      <div>\n",
              "<style scoped>\n",
              "    .dataframe tbody tr th:only-of-type {\n",
              "        vertical-align: middle;\n",
              "    }\n",
              "\n",
              "    .dataframe tbody tr th {\n",
              "        vertical-align: top;\n",
              "    }\n",
              "\n",
              "    .dataframe thead th {\n",
              "        text-align: right;\n",
              "    }\n",
              "</style>\n",
              "<table border=\"1\" class=\"dataframe\">\n",
              "  <thead>\n",
              "    <tr style=\"text-align: right;\">\n",
              "      <th></th>\n",
              "      <th>Domain_Id</th>\n",
              "      <th>Domain_Name</th>\n",
              "      <th>Domain_Desc</th>\n",
              "      <th>Domain_Code</th>\n",
              "      <th>Domain_Status</th>\n",
              "      <th>Domain_Status_Code</th>\n",
              "      <th>Application_Id</th>\n",
              "      <th>Application_Name</th>\n",
              "      <th>Application_Code</th>\n",
              "      <th>Application_Desc</th>\n",
              "      <th>Application_Status</th>\n",
              "      <th>Application_Status_Code</th>\n",
              "      <th>Asset_Id</th>\n",
              "      <th>Asset_Technical_Name</th>\n",
              "      <th>Asset_Business_Name</th>\n",
              "      <th>Asset_Business_Desc</th>\n",
              "      <th>Asset_Status</th>\n",
              "      <th>Asset_Status_Code</th>\n",
              "      <th>Asset_Server_Name</th>\n",
              "      <th>Asset_Database</th>\n",
              "      <th>Asset_Schema</th>\n",
              "      <th>Asset_Type_Id</th>\n",
              "      <th>Asset_Type_Name</th>\n",
              "      <th>Asset_Type_Desc</th>\n",
              "      <th>Privacy_Level_Id</th>\n",
              "      <th>Asset_Privacy_Level</th>\n",
              "      <th>Asset_Privacy_Desc</th>\n",
              "      <th>Attribute_Id</th>\n",
              "      <th>Attribute_Technical_Name</th>\n",
              "      <th>Attribute_Business_Name</th>\n",
              "      <th>Attribute_Business_Desc</th>\n",
              "      <th>Attribute_Business_Rule</th>\n",
              "      <th>Attribute_Data_Type</th>\n",
              "      <th>Attribute_IsPK</th>\n",
              "      <th>Attribute_IsNullable</th>\n",
              "      <th>Attribute_Status</th>\n",
              "      <th>Attribute_Status_Code</th>\n",
              "    </tr>\n",
              "  </thead>\n",
              "  <tbody>\n",
              "    <tr>\n",
              "      <th>0</th>\n",
              "      <td>1</td>\n",
              "      <td>Patient administrative</td>\n",
              "      <td>Patient administrative data (demographic &amp; adm...</td>\n",
              "      <td>PAT_ADM</td>\n",
              "      <td>Active</td>\n",
              "      <td>1</td>\n",
              "      <td>1</td>\n",
              "      <td>Patient Manager</td>\n",
              "      <td>PATMAN</td>\n",
              "      <td>Patient Manager tool is the application allowi...</td>\n",
              "      <td>Active</td>\n",
              "      <td>1</td>\n",
              "      <td>1</td>\n",
              "      <td>PMS_PT</td>\n",
              "      <td>Patient</td>\n",
              "      <td>Patient table Contain personal information abo...</td>\n",
              "      <td>Active</td>\n",
              "      <td>1</td>\n",
              "      <td>SWT01_PRD</td>\n",
              "      <td>PMS</td>\n",
              "      <td>dbo</td>\n",
              "      <td>1</td>\n",
              "      <td>Table</td>\n",
              "      <td>Database table</td>\n",
              "      <td>4</td>\n",
              "      <td>Level 4 - Highly sensitive</td>\n",
              "      <td>Highly sensitive - Internal use</td>\n",
              "      <td>1</td>\n",
              "      <td>ID</td>\n",
              "      <td>Technical Id of the patient</td>\n",
              "      <td>The Primary Key (surrogate unique identifier) ...</td>\n",
              "      <td>NaN</td>\n",
              "      <td>NUMBER (38)</td>\n",
              "      <td>Yes</td>\n",
              "      <td>Yes</td>\n",
              "      <td>Active</td>\n",
              "      <td>1</td>\n",
              "    </tr>\n",
              "    <tr>\n",
              "      <th>1</th>\n",
              "      <td>1</td>\n",
              "      <td>Patient administrative</td>\n",
              "      <td>Patient administrative data (demographic &amp; adm...</td>\n",
              "      <td>PAT_ADM</td>\n",
              "      <td>Active</td>\n",
              "      <td>1</td>\n",
              "      <td>1</td>\n",
              "      <td>Patient Manager</td>\n",
              "      <td>PATMAN</td>\n",
              "      <td>Patient Manager tool is the application allowi...</td>\n",
              "      <td>Active</td>\n",
              "      <td>1</td>\n",
              "      <td>1</td>\n",
              "      <td>PMS_PT</td>\n",
              "      <td>Patient</td>\n",
              "      <td>Patient table Contain personal information abo...</td>\n",
              "      <td>Active</td>\n",
              "      <td>1</td>\n",
              "      <td>SWT01_PRD</td>\n",
              "      <td>PMS</td>\n",
              "      <td>dbo</td>\n",
              "      <td>1</td>\n",
              "      <td>Table</td>\n",
              "      <td>Database table</td>\n",
              "      <td>4</td>\n",
              "      <td>Level 4 - Highly sensitive</td>\n",
              "      <td>Highly sensitive - Internal use</td>\n",
              "      <td>2</td>\n",
              "      <td>GNDR_CD</td>\n",
              "      <td>Gender Code</td>\n",
              "      <td>Code of GENDER CODE defined as: The gender of ...</td>\n",
              "      <td>If Gender code = M then Male, F = Female, or U...</td>\n",
              "      <td>VARCHAR2 (80)</td>\n",
              "      <td>No</td>\n",
              "      <td>No</td>\n",
              "      <td>Active</td>\n",
              "      <td>1</td>\n",
              "    </tr>\n",
              "    <tr>\n",
              "      <th>2</th>\n",
              "      <td>1</td>\n",
              "      <td>Patient administrative</td>\n",
              "      <td>Patient administrative data (demographic &amp; adm...</td>\n",
              "      <td>PAT_ADM</td>\n",
              "      <td>Active</td>\n",
              "      <td>1</td>\n",
              "      <td>1</td>\n",
              "      <td>Patient Manager</td>\n",
              "      <td>PATMAN</td>\n",
              "      <td>Patient Manager tool is the application allowi...</td>\n",
              "      <td>Active</td>\n",
              "      <td>1</td>\n",
              "      <td>1</td>\n",
              "      <td>PMS_PT</td>\n",
              "      <td>Patient</td>\n",
              "      <td>Patient table Contain personal information abo...</td>\n",
              "      <td>Active</td>\n",
              "      <td>1</td>\n",
              "      <td>SWT01_PRD</td>\n",
              "      <td>PMS</td>\n",
              "      <td>dbo</td>\n",
              "      <td>1</td>\n",
              "      <td>Table</td>\n",
              "      <td>Database table</td>\n",
              "      <td>4</td>\n",
              "      <td>Level 4 - Highly sensitive</td>\n",
              "      <td>Highly sensitive - Internal use</td>\n",
              "      <td>3</td>\n",
              "      <td>LIVG_ARNGMNT_CD</td>\n",
              "      <td>Living arrangement</td>\n",
              "      <td>Code of LIVING ARRANGEMENT CODE defined as: A ...</td>\n",
              "      <td>NaN</td>\n",
              "      <td>VARCHAR2 (80)</td>\n",
              "      <td>No</td>\n",
              "      <td>No</td>\n",
              "      <td>Active</td>\n",
              "      <td>1</td>\n",
              "    </tr>\n",
              "    <tr>\n",
              "      <th>3</th>\n",
              "      <td>1</td>\n",
              "      <td>Patient administrative</td>\n",
              "      <td>Patient administrative data (demographic &amp; adm...</td>\n",
              "      <td>PAT_ADM</td>\n",
              "      <td>Active</td>\n",
              "      <td>1</td>\n",
              "      <td>1</td>\n",
              "      <td>Patient Manager</td>\n",
              "      <td>PATMAN</td>\n",
              "      <td>Patient Manager tool is the application allowi...</td>\n",
              "      <td>Active</td>\n",
              "      <td>1</td>\n",
              "      <td>1</td>\n",
              "      <td>PMS_PT</td>\n",
              "      <td>Patient</td>\n",
              "      <td>Patient table Contain personal information abo...</td>\n",
              "      <td>Active</td>\n",
              "      <td>1</td>\n",
              "      <td>SWT01_PRD</td>\n",
              "      <td>PMS</td>\n",
              "      <td>dbo</td>\n",
              "      <td>1</td>\n",
              "      <td>Table</td>\n",
              "      <td>Database table</td>\n",
              "      <td>4</td>\n",
              "      <td>Level 4 - Highly sensitive</td>\n",
              "      <td>Highly sensitive - Internal use</td>\n",
              "      <td>4</td>\n",
              "      <td>MRTL_STUS_CD</td>\n",
              "      <td>Marital status code</td>\n",
              "      <td>Code of MARITAL STATUS CODE defined as: Party'...</td>\n",
              "      <td>NaN</td>\n",
              "      <td>VARCHAR2 (80)</td>\n",
              "      <td>No</td>\n",
              "      <td>No</td>\n",
              "      <td>Active</td>\n",
              "      <td>1</td>\n",
              "    </tr>\n",
              "    <tr>\n",
              "      <th>4</th>\n",
              "      <td>1</td>\n",
              "      <td>Patient administrative</td>\n",
              "      <td>Patient administrative data (demographic &amp; adm...</td>\n",
              "      <td>PAT_ADM</td>\n",
              "      <td>Active</td>\n",
              "      <td>1</td>\n",
              "      <td>1</td>\n",
              "      <td>Patient Manager</td>\n",
              "      <td>PATMAN</td>\n",
              "      <td>Patient Manager tool is the application allowi...</td>\n",
              "      <td>Active</td>\n",
              "      <td>1</td>\n",
              "      <td>1</td>\n",
              "      <td>PMS_PT</td>\n",
              "      <td>Patient</td>\n",
              "      <td>Patient table Contain personal information abo...</td>\n",
              "      <td>Active</td>\n",
              "      <td>1</td>\n",
              "      <td>SWT01_PRD</td>\n",
              "      <td>PMS</td>\n",
              "      <td>dbo</td>\n",
              "      <td>1</td>\n",
              "      <td>Table</td>\n",
              "      <td>Database table</td>\n",
              "      <td>4</td>\n",
              "      <td>Level 4 - Highly sensitive</td>\n",
              "      <td>Highly sensitive - Internal use</td>\n",
              "      <td>5</td>\n",
              "      <td>OCUPATN_CD</td>\n",
              "      <td>Occupation code</td>\n",
              "      <td>Code of OCCUPATION CODE defined as: The occupa...</td>\n",
              "      <td>NaN</td>\n",
              "      <td>VARCHAR2 (80)</td>\n",
              "      <td>No</td>\n",
              "      <td>No</td>\n",
              "      <td>Active</td>\n",
              "      <td>1</td>\n",
              "    </tr>\n",
              "    <tr>\n",
              "      <th>...</th>\n",
              "      <td>...</td>\n",
              "      <td>...</td>\n",
              "      <td>...</td>\n",
              "      <td>...</td>\n",
              "      <td>...</td>\n",
              "      <td>...</td>\n",
              "      <td>...</td>\n",
              "      <td>...</td>\n",
              "      <td>...</td>\n",
              "      <td>...</td>\n",
              "      <td>...</td>\n",
              "      <td>...</td>\n",
              "      <td>...</td>\n",
              "      <td>...</td>\n",
              "      <td>...</td>\n",
              "      <td>...</td>\n",
              "      <td>...</td>\n",
              "      <td>...</td>\n",
              "      <td>...</td>\n",
              "      <td>...</td>\n",
              "      <td>...</td>\n",
              "      <td>...</td>\n",
              "      <td>...</td>\n",
              "      <td>...</td>\n",
              "      <td>...</td>\n",
              "      <td>...</td>\n",
              "      <td>...</td>\n",
              "      <td>...</td>\n",
              "      <td>...</td>\n",
              "      <td>...</td>\n",
              "      <td>...</td>\n",
              "      <td>...</td>\n",
              "      <td>...</td>\n",
              "      <td>...</td>\n",
              "      <td>...</td>\n",
              "      <td>...</td>\n",
              "      <td>...</td>\n",
              "    </tr>\n",
              "    <tr>\n",
              "      <th>4128</th>\n",
              "      <td>7</td>\n",
              "      <td>ICT</td>\n",
              "      <td>ICT department</td>\n",
              "      <td>ICT</td>\n",
              "      <td>Active</td>\n",
              "      <td>1</td>\n",
              "      <td>15</td>\n",
              "      <td>sidecar</td>\n",
              "      <td>SIDECAR</td>\n",
              "      <td>sidecar is metadata management system.</td>\n",
              "      <td>Active</td>\n",
              "      <td>1</td>\n",
              "      <td>106</td>\n",
              "      <td>Config_AssetList</td>\n",
              "      <td>Configuration asset list</td>\n",
              "      <td>Contains all the required parameters to launch...</td>\n",
              "      <td>Active</td>\n",
              "      <td>1</td>\n",
              "      <td>DESKTOP-5JVNT8I</td>\n",
              "      <td>sidecar_Dev</td>\n",
              "      <td>dbo</td>\n",
              "      <td>1</td>\n",
              "      <td>Table</td>\n",
              "      <td>Database table</td>\n",
              "      <td>-1</td>\n",
              "      <td>Not defined</td>\n",
              "      <td>-</td>\n",
              "      <td>4456</td>\n",
              "      <td>Config_AssetList_Data_Source</td>\n",
              "      <td>Config AssetList Data Source</td>\n",
              "      <td>Data source for the scan</td>\n",
              "      <td>NaN</td>\n",
              "      <td>nvarchar (64)</td>\n",
              "      <td>No</td>\n",
              "      <td>Yes</td>\n",
              "      <td>Active</td>\n",
              "      <td>1</td>\n",
              "    </tr>\n",
              "    <tr>\n",
              "      <th>4129</th>\n",
              "      <td>7</td>\n",
              "      <td>ICT</td>\n",
              "      <td>ICT department</td>\n",
              "      <td>ICT</td>\n",
              "      <td>Active</td>\n",
              "      <td>1</td>\n",
              "      <td>15</td>\n",
              "      <td>sidecar</td>\n",
              "      <td>SIDECAR</td>\n",
              "      <td>sidecar is metadata management system.</td>\n",
              "      <td>Active</td>\n",
              "      <td>1</td>\n",
              "      <td>87</td>\n",
              "      <td>Attribute</td>\n",
              "      <td>Attribute</td>\n",
              "      <td>Contains the list of attributes that character...</td>\n",
              "      <td>Active</td>\n",
              "      <td>1</td>\n",
              "      <td>DESKTOP-5JVNT8I</td>\n",
              "      <td>sidecar_Dev</td>\n",
              "      <td>dbo</td>\n",
              "      <td>1</td>\n",
              "      <td>Table</td>\n",
              "      <td>Database table</td>\n",
              "      <td>-1</td>\n",
              "      <td>Not defined</td>\n",
              "      <td>-</td>\n",
              "      <td>4457</td>\n",
              "      <td>Attribute_Sample_Data</td>\n",
              "      <td>Attribute sample data</td>\n",
              "      <td>Sample data of the attribute.</td>\n",
              "      <td>NaN</td>\n",
              "      <td>nvarchar (MAX)</td>\n",
              "      <td>No</td>\n",
              "      <td>Yes</td>\n",
              "      <td>Active</td>\n",
              "      <td>1</td>\n",
              "    </tr>\n",
              "    <tr>\n",
              "      <th>4130</th>\n",
              "      <td>7</td>\n",
              "      <td>ICT</td>\n",
              "      <td>ICT department</td>\n",
              "      <td>ICT</td>\n",
              "      <td>Active</td>\n",
              "      <td>1</td>\n",
              "      <td>15</td>\n",
              "      <td>sidecar</td>\n",
              "      <td>SIDECAR</td>\n",
              "      <td>sidecar is metadata management system.</td>\n",
              "      <td>Active</td>\n",
              "      <td>1</td>\n",
              "      <td>81</td>\n",
              "      <td>Property</td>\n",
              "      <td>Custom properties</td>\n",
              "      <td>This table contains the all custom properties ...</td>\n",
              "      <td>Active</td>\n",
              "      <td>1</td>\n",
              "      <td>DESKTOP-5JVNT8I</td>\n",
              "      <td>sidecar_Dev</td>\n",
              "      <td>dbo</td>\n",
              "      <td>1</td>\n",
              "      <td>Table</td>\n",
              "      <td>Database table</td>\n",
              "      <td>-1</td>\n",
              "      <td>Not defined</td>\n",
              "      <td>-</td>\n",
              "      <td>4458</td>\n",
              "      <td>Property_IsDQ</td>\n",
              "      <td>Property IsDQ</td>\n",
              "      <td>Flag that indicates if the property is a data ...</td>\n",
              "      <td>NaN</td>\n",
              "      <td>bit</td>\n",
              "      <td>No</td>\n",
              "      <td>Yes</td>\n",
              "      <td>Active</td>\n",
              "      <td>1</td>\n",
              "    </tr>\n",
              "    <tr>\n",
              "      <th>4131</th>\n",
              "      <td>7</td>\n",
              "      <td>ICT</td>\n",
              "      <td>ICT department</td>\n",
              "      <td>ICT</td>\n",
              "      <td>Active</td>\n",
              "      <td>1</td>\n",
              "      <td>15</td>\n",
              "      <td>sidecar</td>\n",
              "      <td>SIDECAR</td>\n",
              "      <td>sidecar is metadata management system.</td>\n",
              "      <td>Active</td>\n",
              "      <td>1</td>\n",
              "      <td>81</td>\n",
              "      <td>Property</td>\n",
              "      <td>Custom properties</td>\n",
              "      <td>This table contains the all custom properties ...</td>\n",
              "      <td>Active</td>\n",
              "      <td>1</td>\n",
              "      <td>DESKTOP-5JVNT8I</td>\n",
              "      <td>sidecar_Dev</td>\n",
              "      <td>dbo</td>\n",
              "      <td>1</td>\n",
              "      <td>Table</td>\n",
              "      <td>Database table</td>\n",
              "      <td>-1</td>\n",
              "      <td>Not defined</td>\n",
              "      <td>-</td>\n",
              "      <td>4459</td>\n",
              "      <td>Property_DQ_Calculation</td>\n",
              "      <td>Property DQ Calculation</td>\n",
              "      <td>Data quality calculation of the custom property</td>\n",
              "      <td>NaN</td>\n",
              "      <td>varchar (50)</td>\n",
              "      <td>No</td>\n",
              "      <td>Yes</td>\n",
              "      <td>Active</td>\n",
              "      <td>1</td>\n",
              "    </tr>\n",
              "    <tr>\n",
              "      <th>4132</th>\n",
              "      <td>7</td>\n",
              "      <td>ICT</td>\n",
              "      <td>ICT department</td>\n",
              "      <td>ICT</td>\n",
              "      <td>Active</td>\n",
              "      <td>1</td>\n",
              "      <td>15</td>\n",
              "      <td>sidecar</td>\n",
              "      <td>SIDECAR</td>\n",
              "      <td>sidecar is metadata management system.</td>\n",
              "      <td>Active</td>\n",
              "      <td>1</td>\n",
              "      <td>81</td>\n",
              "      <td>Property</td>\n",
              "      <td>Custom properties</td>\n",
              "      <td>This table contains the all custom properties ...</td>\n",
              "      <td>Active</td>\n",
              "      <td>1</td>\n",
              "      <td>DESKTOP-5JVNT8I</td>\n",
              "      <td>sidecar_Dev</td>\n",
              "      <td>dbo</td>\n",
              "      <td>1</td>\n",
              "      <td>Table</td>\n",
              "      <td>Database table</td>\n",
              "      <td>-1</td>\n",
              "      <td>Not defined</td>\n",
              "      <td>-</td>\n",
              "      <td>4460</td>\n",
              "      <td>Property_DQ_Output_Format</td>\n",
              "      <td>Property DQ Output Format</td>\n",
              "      <td>Data quality output format of the custom property</td>\n",
              "      <td>NaN</td>\n",
              "      <td>varchar (20)</td>\n",
              "      <td>No</td>\n",
              "      <td>Yes</td>\n",
              "      <td>Active</td>\n",
              "      <td>1</td>\n",
              "    </tr>\n",
              "  </tbody>\n",
              "</table>\n",
              "<p>3941 rows × 37 columns</p>\n",
              "</div>\n",
              "      <button class=\"colab-df-convert\" onclick=\"convertToInteractive('df-aa46bc53-c0dc-482d-b807-cc826ba9e1d4')\"\n",
              "              title=\"Convert this dataframe to an interactive table.\"\n",
              "              style=\"display:none;\">\n",
              "        \n",
              "  <svg xmlns=\"http://www.w3.org/2000/svg\" height=\"24px\"viewBox=\"0 0 24 24\"\n",
              "       width=\"24px\">\n",
              "    <path d=\"M0 0h24v24H0V0z\" fill=\"none\"/>\n",
              "    <path d=\"M18.56 5.44l.94 2.06.94-2.06 2.06-.94-2.06-.94-.94-2.06-.94 2.06-2.06.94zm-11 1L8.5 8.5l.94-2.06 2.06-.94-2.06-.94L8.5 2.5l-.94 2.06-2.06.94zm10 10l.94 2.06.94-2.06 2.06-.94-2.06-.94-.94-2.06-.94 2.06-2.06.94z\"/><path d=\"M17.41 7.96l-1.37-1.37c-.4-.4-.92-.59-1.43-.59-.52 0-1.04.2-1.43.59L10.3 9.45l-7.72 7.72c-.78.78-.78 2.05 0 2.83L4 21.41c.39.39.9.59 1.41.59.51 0 1.02-.2 1.41-.59l7.78-7.78 2.81-2.81c.8-.78.8-2.07 0-2.86zM5.41 20L4 18.59l7.72-7.72 1.47 1.35L5.41 20z\"/>\n",
              "  </svg>\n",
              "      </button>\n",
              "      \n",
              "  <style>\n",
              "    .colab-df-container {\n",
              "      display:flex;\n",
              "      flex-wrap:wrap;\n",
              "      gap: 12px;\n",
              "    }\n",
              "\n",
              "    .colab-df-convert {\n",
              "      background-color: #E8F0FE;\n",
              "      border: none;\n",
              "      border-radius: 50%;\n",
              "      cursor: pointer;\n",
              "      display: none;\n",
              "      fill: #1967D2;\n",
              "      height: 32px;\n",
              "      padding: 0 0 0 0;\n",
              "      width: 32px;\n",
              "    }\n",
              "\n",
              "    .colab-df-convert:hover {\n",
              "      background-color: #E2EBFA;\n",
              "      box-shadow: 0px 1px 2px rgba(60, 64, 67, 0.3), 0px 1px 3px 1px rgba(60, 64, 67, 0.15);\n",
              "      fill: #174EA6;\n",
              "    }\n",
              "\n",
              "    [theme=dark] .colab-df-convert {\n",
              "      background-color: #3B4455;\n",
              "      fill: #D2E3FC;\n",
              "    }\n",
              "\n",
              "    [theme=dark] .colab-df-convert:hover {\n",
              "      background-color: #434B5C;\n",
              "      box-shadow: 0px 1px 3px 1px rgba(0, 0, 0, 0.15);\n",
              "      filter: drop-shadow(0px 1px 2px rgba(0, 0, 0, 0.3));\n",
              "      fill: #FFFFFF;\n",
              "    }\n",
              "  </style>\n",
              "\n",
              "      <script>\n",
              "        const buttonEl =\n",
              "          document.querySelector('#df-aa46bc53-c0dc-482d-b807-cc826ba9e1d4 button.colab-df-convert');\n",
              "        buttonEl.style.display =\n",
              "          google.colab.kernel.accessAllowed ? 'block' : 'none';\n",
              "\n",
              "        async function convertToInteractive(key) {\n",
              "          const element = document.querySelector('#df-aa46bc53-c0dc-482d-b807-cc826ba9e1d4');\n",
              "          const dataTable =\n",
              "            await google.colab.kernel.invokeFunction('convertToInteractive',\n",
              "                                                     [key], {});\n",
              "          if (!dataTable) return;\n",
              "\n",
              "          const docLinkHtml = 'Like what you see? Visit the ' +\n",
              "            '<a target=\"_blank\" href=https://colab.research.google.com/notebooks/data_table.ipynb>data table notebook</a>'\n",
              "            + ' to learn more about interactive tables.';\n",
              "          element.innerHTML = '';\n",
              "          dataTable['output_type'] = 'display_data';\n",
              "          await google.colab.output.renderOutput(dataTable, element);\n",
              "          const docLink = document.createElement('div');\n",
              "          docLink.innerHTML = docLinkHtml;\n",
              "          element.appendChild(docLink);\n",
              "        }\n",
              "      </script>\n",
              "    </div>\n",
              "  </div>\n",
              "  "
            ],
            "text/plain": [
              "      Domain_Id             Domain_Name  ... Attribute_Status Attribute_Status_Code\n",
              "0             1  Patient administrative  ...           Active                     1\n",
              "1             1  Patient administrative  ...           Active                     1\n",
              "2             1  Patient administrative  ...           Active                     1\n",
              "3             1  Patient administrative  ...           Active                     1\n",
              "4             1  Patient administrative  ...           Active                     1\n",
              "...         ...                     ...  ...              ...                   ...\n",
              "4128          7                     ICT  ...           Active                     1\n",
              "4129          7                     ICT  ...           Active                     1\n",
              "4130          7                     ICT  ...           Active                     1\n",
              "4131          7                     ICT  ...           Active                     1\n",
              "4132          7                     ICT  ...           Active                     1\n",
              "\n",
              "[3941 rows x 37 columns]"
            ]
          },
          "metadata": {},
          "execution_count": 26
        }
      ]
    },
    {
      "cell_type": "code",
      "source": [
        "data[\"prep_tech_data\"] = pre_process_text(data[\"Attribute_Technical_Name\"])"
      ],
      "metadata": {
        "id": "afodtCa7Osfw",
        "colab": {
          "base_uri": "https://localhost:8080/"
        },
        "outputId": "5873f228-9ef2-4c48-c821-4cdfdff3430d"
      },
      "execution_count": 27,
      "outputs": [
        {
          "output_type": "stream",
          "name": "stderr",
          "text": [
            "100%|██████████| 4133/4133 [00:00<00:00, 53255.73it/s]\n"
          ]
        }
      ]
    },
    {
      "cell_type": "code",
      "source": [
        "data[\"prep_business_data\"]= pre_process_text(data[\"Attribute_Business_Name\"])"
      ],
      "metadata": {
        "id": "nn0UWvp0opaN",
        "colab": {
          "base_uri": "https://localhost:8080/"
        },
        "outputId": "1827297b-7807-4513-8eff-e23214b529d6"
      },
      "execution_count": 28,
      "outputs": [
        {
          "output_type": "stream",
          "name": "stderr",
          "text": [
            "100%|██████████| 4133/4133 [00:00<00:00, 50712.51it/s]\n"
          ]
        }
      ]
    },
    {
      "cell_type": "code",
      "source": [
        "prep_tech_data = pre_process_text(data_no_paf[\"Attribute_Technical_Name\"])\n",
        "tech_word_list = sum(prep_tech_data, [])\n",
        "tech_word_series = pd.Series(tech_word_list)\n",
        "tech_word_series.value_counts()[:40].plot(kind=\"barh\")\n",
        "fig = plt.gcf()\n",
        "fig.set_size_inches(16,10)\n",
        "plt.show()"
      ],
      "metadata": {
        "id": "ZRaVhlcCi_fx",
        "colab": {
          "base_uri": "https://localhost:8080/",
          "height": 609
        },
        "outputId": "b2901a03-342c-4d86-f41b-2f2be378514d"
      },
      "execution_count": 51,
      "outputs": [
        {
          "output_type": "stream",
          "name": "stderr",
          "text": [
            "100%|██████████| 3941/3941 [00:00<00:00, 13333.97it/s]\n"
          ]
        },
        {
          "output_type": "display_data",
          "data": {
            "image/png": "[encoded data removed]",
            "text/plain": [
              "<Figure size 1152x720 with 1 Axes>"
            ]
          },
          "metadata": {}
        }
      ]
    },
    {
      "cell_type": "code",
      "source": [
        "prep_business_data= pre_process_text(data_no_paf[\"Attribute_Business_Name\"])\n",
        "business_word_list = sum(prep_business_data, [])\n",
        "business_word_series = pd.Series(business_word_list)\n",
        "business_word_series.value_counts()[:40].plot(kind=\"barh\")\n",
        "fig = plt.gcf()\n",
        "fig.set_size_inches(16,10)\n",
        "plt.show()"
      ],
      "metadata": {
        "id": "OKvjFcrh00oC",
        "colab": {
          "base_uri": "https://localhost:8080/",
          "height": 609
        },
        "outputId": "0851f6a7-922a-4ed9-915b-5c6d5f9d8d08"
      },
      "execution_count": 30,
      "outputs": [
        {
          "output_type": "stream",
          "name": "stderr",
          "text": [
            "100%|██████████| 3941/3941 [00:00<00:00, 23712.92it/s]\n"
          ]
        },
        {
          "output_type": "display_data",
          "data": {
            "image/png": "[encoded data removed]",
            "text/plain": [
              "<Figure size 1152x720 with 1 Axes>"
            ]
          },
          "metadata": {}
        }
      ]
    },
    {
      "cell_type": "markdown",
      "source": [
        "## !!! TODO: value_counts and NUNIQUE for each business/tehcnical name and each business/tewchnical word!!!!!! --> REDUCE NUMBER OF INPUT CATEGORIES\n",
        "\n",
        "AND because we need to know MAX_VOCAB_SIZE for fasttext (nunique may be no higher than 75% of MAX_VOCAB_SIZE)"
      ],
      "metadata": {
        "id": "ulKiKRKk6XH2"
      }
    },
    {
      "cell_type": "code",
      "source": [
        "# word level number of unique values\n",
        "print(business_word_series.nunique())\n",
        "print(tech_word_series.nunique())\n",
        "print(business_word_series.nunique()-tech_word_series.nunique())"
      ],
      "metadata": {
        "colab": {
          "base_uri": "https://localhost:8080/"
        },
        "id": "D6yfVNQHz_nI",
        "outputId": "bf0c2e19-8609-4585-b39d-52411c0ecae1"
      },
      "execution_count": 55,
      "outputs": [
        {
          "output_type": "stream",
          "name": "stdout",
          "text": [
            "1351\n",
            "994\n",
            "357\n"
          ]
        }
      ]
    },
    {
      "cell_type": "code",
      "source": [
        "# label level number of unique values\n",
        "print(data[\"Attribute_Business_Name\"].nunique())\n",
        "print(data[\"Attribute_Technical_Name\"].nunique())\n",
        "print(data[\"Attribute_Business_Name\"].nunique()-data[\"Attribute_Technical_Name\"].nunique())"
      ],
      "metadata": {
        "colab": {
          "base_uri": "https://localhost:8080/"
        },
        "id": "T_6AE4bwz_ZV",
        "outputId": "035939c0-67e5-490d-c29c-d35980ffe08b"
      },
      "execution_count": 58,
      "outputs": [
        {
          "output_type": "stream",
          "name": "stdout",
          "text": [
            "2099\n",
            "1998\n",
            "101\n"
          ]
        }
      ]
    },
    {
      "cell_type": "markdown",
      "source": [
        "Does this mean word-wise selection is wiser?"
      ],
      "metadata": {
        "id": "kFp3jD7k1NDU"
      }
    },
    {
      "cell_type": "code",
      "source": [
        "# histogram of string length in characters\n",
        "data['Attribute_Technical_Name'].str.len().hist()\n",
        "plt.show()"
      ],
      "metadata": {
        "id": "cchuucfJ_Ykx",
        "colab": {
          "base_uri": "https://localhost:8080/",
          "height": 349
        },
        "outputId": "6ba60d8c-02fc-4609-f6fb-ebfb667af293"
      },
      "execution_count": 32,
      "outputs": [
        {
          "output_type": "display_data",
          "data": {
            "image/png": "[encoded data removed]",
            "text/plain": [
              "<Figure size 576x396 with 1 Axes>"
            ]
          },
          "metadata": {}
        }
      ]
    },
    {
      "cell_type": "code",
      "source": [
        "# as above in characters\n",
        "data['Attribute_Business_Name'].str.len().hist()\n",
        "plt.show()"
      ],
      "metadata": {
        "id": "Q4pM6uIW_Ydu",
        "colab": {
          "base_uri": "https://localhost:8080/",
          "height": 350
        },
        "outputId": "39b76bb7-61fc-437a-d48d-7d5a1dee1022"
      },
      "execution_count": 33,
      "outputs": [
        {
          "output_type": "display_data",
          "data": {
            "image/png": "[encoded data removed]",
            "text/plain": [
              "<Figure size 576x396 with 1 Axes>"
            ]
          },
          "metadata": {}
        }
      ]
    },
    {
      "cell_type": "code",
      "source": [
        "# histogram of string length in words\n",
        "data.Attribute_Technical_Name.str.split().\\\n",
        "    map(lambda x: len(x)).\\\n",
        "    hist()\n",
        "plt.show()"
      ],
      "metadata": {
        "id": "9IPQz8-5_YVJ",
        "colab": {
          "base_uri": "https://localhost:8080/",
          "height": 347
        },
        "outputId": "9f7c03da-0579-439b-c5f3-285f58efd11a"
      },
      "execution_count": 34,
      "outputs": [
        {
          "output_type": "display_data",
          "data": {
            "image/png": "[encoded data removed]",
            "text/plain": [
              "<Figure size 576x396 with 1 Axes>"
            ]
          },
          "metadata": {}
        }
      ]
    },
    {
      "cell_type": "code",
      "source": [
        "# histogram of string length in words\n",
        "data.Attribute_Business_Name.str.split().\\\n",
        "    map(lambda x: len(x)).\\\n",
        "    hist()\n",
        "plt.show()"
      ],
      "metadata": {
        "id": "43zzUPMF_YHC",
        "colab": {
          "base_uri": "https://localhost:8080/",
          "height": 347
        },
        "outputId": "6204f515-51f4-4319-c0fb-8d4c16d49d7d"
      },
      "execution_count": 35,
      "outputs": [
        {
          "output_type": "display_data",
          "data": {
            "image/png": "[encoded data removed]",
            "text/plain": [
              "<Figure size 576x396 with 1 Axes>"
            ]
          },
          "metadata": {}
        }
      ]
    },
    {
      "cell_type": "code",
      "source": [
        "# average word length\n",
        "data['Attribute_Technical_Name'].str.split().\\\n",
        "   apply(lambda x : [len(i) for i in x]). \\\n",
        "   map(lambda x: np.mean(x)).hist()\n",
        "plt.show()"
      ],
      "metadata": {
        "id": "iQsnTRqfBT3v",
        "colab": {
          "base_uri": "https://localhost:8080/",
          "height": 347
        },
        "outputId": "accdfc5d-38a6-4a83-ded4-aefc445a58ab"
      },
      "execution_count": 36,
      "outputs": [
        {
          "output_type": "display_data",
          "data": {
            "image/png": "[encoded data removed]",
            "text/plain": [
              "<Figure size 576x396 with 1 Axes>"
            ]
          },
          "metadata": {}
        }
      ]
    },
    {
      "cell_type": "code",
      "source": [
        "# average word length\n",
        "data['Attribute_Business_Name'].str.split().\\\n",
        "   apply(lambda x : [len(i) for i in x]). \\\n",
        "   map(lambda x: np.mean(x)).hist()\n",
        "plt.show()"
      ],
      "metadata": {
        "id": "moW8ZdAmBUCX",
        "colab": {
          "base_uri": "https://localhost:8080/",
          "height": 347
        },
        "outputId": "23580533-4e72-4799-e564-f2205be79729"
      },
      "execution_count": 37,
      "outputs": [
        {
          "output_type": "display_data",
          "data": {
            "image/png": "[encoded data removed]",
            "text/plain": [
              "<Figure size 576x396 with 1 Axes>"
            ]
          },
          "metadata": {}
        }
      ]
    },
    {
      "cell_type": "code",
      "source": [
        "import nltk\n",
        "nltk.download('stopwords')\n",
        "from nltk.corpus import stopwords\n",
        "\n",
        "stop=set(stopwords.words('english'))"
      ],
      "metadata": {
        "id": "oaZTt0cCB72A",
        "colab": {
          "base_uri": "https://localhost:8080/"
        },
        "outputId": "a67584d8-0c79-4352-91ef-cd4242efe156"
      },
      "execution_count": 38,
      "outputs": [
        {
          "output_type": "stream",
          "name": "stdout",
          "text": [
            "[nltk_data] Downloading package stopwords to /root/nltk_data...\n",
            "[nltk_data]   Unzipping corpora/stopwords.zip.\n"
          ]
        }
      ]
    },
    {
      "cell_type": "code",
      "source": [
        "corpus=[]\n",
        "new= data_no_paf['Attribute_Business_Name'].str.split()\n",
        "new=new.values.tolist()\n",
        "corpus=[word for i in new for word in i]\n",
        "\n",
        "from collections import defaultdict\n",
        "dic=defaultdict(int)\n",
        "for word in corpus:\n",
        "    if word in stop:\n",
        "        dic[word]+=1"
      ],
      "metadata": {
        "id": "K5UND8USGYn_"
      },
      "execution_count": 39,
      "outputs": []
    },
    {
      "cell_type": "code",
      "source": [
        "# Code Snippet for Top Stopwords Barchart\n",
        "\n",
        "import matplotlib.pyplot as plt\n",
        "import numpy as np\n",
        "from nltk.corpus import stopwords\n",
        "\n",
        "def plot_top_stopwords_barchart(text):\n",
        "    stop=set(stopwords.words('english'))\n",
        "    \n",
        "    new= text.str.split()\n",
        "    new=new.values.tolist()\n",
        "    corpus=[word for i in new for word in i]\n",
        "    from collections import defaultdict\n",
        "    dic=defaultdict(int)\n",
        "    for word in corpus:\n",
        "        if word in stop:\n",
        "            dic[word]+=1\n",
        "            \n",
        "    top=sorted(dic.items(), key=lambda x:x[1],reverse=True)[:10] \n",
        "    x,y=zip(*top)\n",
        "    plt.bar(x,y)\n"
      ],
      "metadata": {
        "id": "c-I2B2UtlQl8"
      },
      "execution_count": 40,
      "outputs": []
    },
    {
      "cell_type": "code",
      "source": [
        "\n",
        "plot_top_stopwords_barchart(data_no_paf['Attribute_Business_Name'])"
      ],
      "metadata": {
        "id": "YNv8lpd_YLnT",
        "colab": {
          "base_uri": "https://localhost:8080/",
          "height": 347
        },
        "outputId": "ab1414fb-4d9f-4637-dfca-a0fa6dd29081"
      },
      "execution_count": 41,
      "outputs": [
        {
          "output_type": "display_data",
          "data": {
            "image/png": "[encoded data removed]",
            "text/plain": [
              "<Figure size 576x396 with 1 Axes>"
            ]
          },
          "metadata": {}
        }
      ]
    },
    {
      "cell_type": "code",
      "source": [
        "from collections import Counter\n",
        "\n",
        "counter=Counter(corpus)\n",
        "most=counter.most_common()\n",
        "\n",
        "x, y= [], []\n",
        "for word,count in most[:40]:\n",
        "    if (word not in stop):\n",
        "        x.append(word)\n",
        "        y.append(count)\n",
        "        \n",
        "sns.barplot(x=y,y=x)\n",
        "fig = plt.gcf()\n",
        "fig.set_size_inches(16,10)\n",
        "plt.show()"
      ],
      "metadata": {
        "id": "XW_dyuoDYje9",
        "colab": {
          "base_uri": "https://localhost:8080/",
          "height": 592
        },
        "outputId": "280e0c97-e110-4658-9f92-c35bab6d6286"
      },
      "execution_count": 42,
      "outputs": [
        {
          "output_type": "display_data",
          "data": {
            "image/png": "[encoded data removed]",
            "text/plain": [
              "<Figure size 1152x720 with 1 Axes>"
            ]
          },
          "metadata": {}
        }
      ]
    },
    {
      "cell_type": "code",
      "source": [
        "from nltk.util import ngrams\n",
        "list(ngrams(['I' ,'went','to','the','river','bank'],2))"
      ],
      "metadata": {
        "id": "zW7QVK1dZH7f",
        "colab": {
          "base_uri": "https://localhost:8080/"
        },
        "outputId": "3b1c90c3-5252-48cd-ed83-2053ff0d0065"
      },
      "execution_count": 43,
      "outputs": [
        {
          "output_type": "execute_result",
          "data": {
            "text/plain": [
              "[('I', 'went'),\n",
              " ('went', 'to'),\n",
              " ('to', 'the'),\n",
              " ('the', 'river'),\n",
              " ('river', 'bank')]"
            ]
          },
          "metadata": {},
          "execution_count": 43
        }
      ]
    },
    {
      "cell_type": "code",
      "source": [
        "def get_top_ngrams(corpus, n=None):\n",
        "    vec = CountVectorizer(ngram_range=(n, n)).fit(corpus)\n",
        "    bag_of_words = vec.transform(corpus)\n",
        "    sum_words = bag_of_words.sum(axis=0) \n",
        "    words_freq = [(word, sum_words[0, idx]) \n",
        "                  for word, idx in vec.vocabulary_.items()]\n",
        "    words_freq =sorted(words_freq, key = lambda x: x[1], reverse=True)\n",
        "    return words_freq[:10]"
      ],
      "metadata": {
        "id": "YdLl6lcnZHts"
      },
      "execution_count": 44,
      "outputs": []
    },
    {
      "cell_type": "code",
      "source": [
        "top_n_bigrams_attribute_business_name = get_top_ngrams(data_no_paf[\"Attribute_Business_Name\"],2)[:40]\n",
        "x,y=map(list,zip(*top_n_bigrams_attribute_business_name)) \n",
        "sns.barplot(x=y,y=x)\n",
        "plt.show()"
      ],
      "metadata": {
        "id": "aPYwefgNZV0i",
        "colab": {
          "base_uri": "https://localhost:8080/",
          "height": 347
        },
        "outputId": "b46018b4-0319-4ef7-bec9-7ae66b436de9"
      },
      "execution_count": 45,
      "outputs": [
        {
          "output_type": "display_data",
          "data": {
            "image/png": "[encoded data removed]",
            "text/plain": [
              "<Figure size 576x396 with 1 Axes>"
            ]
          },
          "metadata": {}
        }
      ]
    },
    {
      "cell_type": "code",
      "source": [
        "top_tri_grams_attribute_business_name=get_top_ngrams(data_no_paf['Attribute_Business_Name'],n=3)\n",
        "x,y=map(list,zip(*top_tri_grams_attribute_business_name))\n",
        "sns.barplot(x=y,y=x)\n",
        "plt.show()"
      ],
      "metadata": {
        "id": "rwzVk0oAcFEg",
        "colab": {
          "base_uri": "https://localhost:8080/",
          "height": 347
        },
        "outputId": "9c808ba4-bbdf-47a2-ecdd-d55d2affe8d2"
      },
      "execution_count": 46,
      "outputs": [
        {
          "output_type": "display_data",
          "data": {
            "image/png": "[encoded data removed]",
            "text/plain": [
              "<Figure size 576x396 with 1 Axes>"
            ]
          },
          "metadata": {}
        }
      ]
    },
    {
      "cell_type": "code",
      "source": [
        "# let's try topic modelling with pycaret instead\n",
        "# https://towardsdatascience.com/topic-modeling-on-pycaret-2ce0c65ba3ff\n",
        "!pip install --upgrade pycaret"
      ],
      "metadata": {
        "id": "sNpDzKYMkhGp",
        "colab": {
          "base_uri": "https://localhost:8080/",
          "height": 1000
        },
        "outputId": "c4027cb1-5fea-4368-a3ba-e2de850ddc71"
      },
      "execution_count": 47,
      "outputs": [
        {
          "output_type": "stream",
          "name": "stdout",
          "text": [
            "Collecting pycaret\n",
            "  Downloading pycaret-2.3.6-py3-none-any.whl (301 kB)\n",
            "\u001b[K     |████████████████████████████████| 301 kB 9.3 MB/s \n",
            "\u001b[?25hCollecting pyod\n",
            "  Downloading pyod-0.9.7.tar.gz (114 kB)\n",
            "\u001b[K     |████████████████████████████████| 114 kB 56.6 MB/s \n",
            "\u001b[?25hRequirement already satisfied: cufflinks>=0.17.0 in /usr/local/lib/python3.7/dist-packages (from pycaret) (0.17.3)\n",
            "Requirement already satisfied: matplotlib in /usr/local/lib/python3.7/dist-packages (from pycaret) (3.2.2)\n",
            "Collecting pandas-profiling>=2.8.0\n",
            "  Downloading pandas_profiling-3.1.0-py2.py3-none-any.whl (261 kB)\n",
            "\u001b[K     |████████████████████████████████| 261 kB 50.3 MB/s \n",
            "\u001b[?25hRequirement already satisfied: pyyaml<6.0.0 in /usr/local/lib/python3.7/dist-packages (from pycaret) (3.13)\n",
            "Collecting lightgbm>=2.3.1\n",
            "  Downloading lightgbm-3.3.2-py3-none-manylinux1_x86_64.whl (2.0 MB)\n",
            "\u001b[K     |████████████████████████████████| 2.0 MB 46.9 MB/s \n",
            "\u001b[?25hCollecting kmodes>=0.10.1\n",
            "  Downloading kmodes-0.11.1-py2.py3-none-any.whl (19 kB)\n",
            "Requirement already satisfied: IPython in /usr/local/lib/python3.7/dist-packages (from pycaret) (5.5.0)\n",
            "Requirement already satisfied: pandas in /usr/local/lib/python3.7/dist-packages (from pycaret) (1.3.5)\n",
            "Requirement already satisfied: gensim<4.0.0 in /usr/local/lib/python3.7/dist-packages (from pycaret) (3.6.0)\n",
            "Requirement already satisfied: plotly>=4.4.1 in /usr/local/lib/python3.7/dist-packages (from pycaret) (5.5.0)\n",
            "Requirement already satisfied: yellowbrick>=1.0.1 in /usr/local/lib/python3.7/dist-packages (from pycaret) (1.3.post1)\n",
            "Requirement already satisfied: nltk in /usr/local/lib/python3.7/dist-packages (from pycaret) (3.2.5)\n",
            "Collecting pyLDAvis\n",
            "  Downloading pyLDAvis-3.3.1.tar.gz (1.7 MB)\n",
            "\u001b[K     |████████████████████████████████| 1.7 MB 57.4 MB/s \n",
            "\u001b[?25h  Installing build dependencies ... \u001b[?25l\u001b[?25hdone\n",
            "  Getting requirements to build wheel ... \u001b[?25l\u001b[?25hdone\n",
            "  Installing backend dependencies ... \u001b[?25l\u001b[?25hdone\n",
            "    Preparing wheel metadata ... \u001b[?25l\u001b[?25hdone\n",
            "Collecting Boruta\n",
            "  Downloading Boruta-0.3-py3-none-any.whl (56 kB)\n",
            "\u001b[K     |████████████████████████████████| 56 kB 6.1 MB/s \n",
            "\u001b[?25hCollecting umap-learn\n",
            "  Downloading umap-learn-0.5.2.tar.gz (86 kB)\n",
            "\u001b[K     |████████████████████████████████| 86 kB 8.6 MB/s \n",
            "\u001b[?25hCollecting mlxtend>=0.17.0\n",
            "  Downloading mlxtend-0.19.0-py2.py3-none-any.whl (1.3 MB)\n",
            "\u001b[K     |████████████████████████████████| 1.3 MB 55.6 MB/s \n",
            "\u001b[?25hRequirement already satisfied: ipywidgets in /usr/local/lib/python3.7/dist-packages (from pycaret) (7.6.5)\n",
            "Requirement already satisfied: joblib in /usr/local/lib/python3.7/dist-packages (from pycaret) (1.1.0)\n",
            "Requirement already satisfied: seaborn in /usr/local/lib/python3.7/dist-packages (from pycaret) (0.11.2)\n",
            "Requirement already satisfied: scipy<=1.5.4 in /usr/local/lib/python3.7/dist-packages (from pycaret) (1.4.1)\n",
            "Collecting mlflow\n",
            "  Downloading mlflow-1.23.1-py3-none-any.whl (15.6 MB)\n",
            "\u001b[K     |████████████████████████████████| 15.6 MB 52.5 MB/s \n",
            "\u001b[?25hRequirement already satisfied: textblob in /usr/local/lib/python3.7/dist-packages (from pycaret) (0.15.3)\n",
            "Collecting scikit-learn==0.23.2\n",
            "  Downloading scikit_learn-0.23.2-cp37-cp37m-manylinux1_x86_64.whl (6.8 MB)\n",
            "\u001b[K     |████████████████████████████████| 6.8 MB 46.0 MB/s \n",
            "\u001b[?25hCollecting scikit-plot\n",
            "  Downloading scikit_plot-0.3.7-py3-none-any.whl (33 kB)\n",
            "Requirement already satisfied: wordcloud in /usr/local/lib/python3.7/dist-packages (from pycaret) (1.5.0)\n",
            "Collecting imbalanced-learn==0.7.0\n",
            "  Downloading imbalanced_learn-0.7.0-py3-none-any.whl (167 kB)\n",
            "\u001b[K     |████████████████████████████████| 167 kB 78.4 MB/s \n",
            "\u001b[?25hRequirement already satisfied: spacy<2.4.0 in /usr/local/lib/python3.7/dist-packages (from pycaret) (2.2.4)\n",
            "Requirement already satisfied: numpy>=1.13.3 in /usr/local/lib/python3.7/dist-packages (from imbalanced-learn==0.7.0->pycaret) (1.19.5)\n",
            "Requirement already satisfied: threadpoolctl>=2.0.0 in /usr/local/lib/python3.7/dist-packages (from scikit-learn==0.23.2->pycaret) (3.1.0)\n",
            "Requirement already satisfied: six>=1.9.0 in /usr/local/lib/python3.7/dist-packages (from cufflinks>=0.17.0->pycaret) (1.15.0)\n",
            "Requirement already satisfied: colorlover>=0.2.1 in /usr/local/lib/python3.7/dist-packages (from cufflinks>=0.17.0->pycaret) (0.3.0)\n",
            "Requirement already satisfied: setuptools>=34.4.1 in /usr/local/lib/python3.7/dist-packages (from cufflinks>=0.17.0->pycaret) (57.4.0)\n",
            "Requirement already satisfied: smart-open>=1.2.1 in /usr/local/lib/python3.7/dist-packages (from gensim<4.0.0->pycaret) (5.2.1)\n",
            "Requirement already satisfied: decorator in /usr/local/lib/python3.7/dist-packages (from IPython->pycaret) (4.4.2)\n",
            "Requirement already satisfied: prompt-toolkit<2.0.0,>=1.0.4 in /usr/local/lib/python3.7/dist-packages (from IPython->pycaret) (1.0.18)\n",
            "Requirement already satisfied: pexpect in /usr/local/lib/python3.7/dist-packages (from IPython->pycaret) (4.8.0)\n",
            "Requirement already satisfied: pickleshare in /usr/local/lib/python3.7/dist-packages (from IPython->pycaret) (0.7.5)\n",
            "Requirement already satisfied: pygments in /usr/local/lib/python3.7/dist-packages (from IPython->pycaret) (2.6.1)\n",
            "Requirement already satisfied: traitlets>=4.2 in /usr/local/lib/python3.7/dist-packages (from IPython->pycaret) (5.1.1)\n",
            "Requirement already satisfied: simplegeneric>0.8 in /usr/local/lib/python3.7/dist-packages (from IPython->pycaret) (0.8.1)\n",
            "Requirement already satisfied: nbformat>=4.2.0 in /usr/local/lib/python3.7/dist-packages (from ipywidgets->pycaret) (5.1.3)\n",
            "Requirement already satisfied: widgetsnbextension~=3.5.0 in /usr/local/lib/python3.7/dist-packages (from ipywidgets->pycaret) (3.5.2)\n",
            "Requirement already satisfied: ipython-genutils~=0.2.0 in /usr/local/lib/python3.7/dist-packages (from ipywidgets->pycaret) (0.2.0)\n",
            "Requirement already satisfied: jupyterlab-widgets>=1.0.0 in /usr/local/lib/python3.7/dist-packages (from ipywidgets->pycaret) (1.0.2)\n",
            "Requirement already satisfied: ipykernel>=4.5.1 in /usr/local/lib/python3.7/dist-packages (from ipywidgets->pycaret) (4.10.1)\n",
            "Requirement already satisfied: jupyter-client in /usr/local/lib/python3.7/dist-packages (from ipykernel>=4.5.1->ipywidgets->pycaret) (5.3.5)\n",
            "Requirement already satisfied: tornado>=4.0 in /usr/local/lib/python3.7/dist-packages (from ipykernel>=4.5.1->ipywidgets->pycaret) (5.1.1)\n",
            "Requirement already satisfied: wheel in /usr/local/lib/python3.7/dist-packages (from lightgbm>=2.3.1->pycaret) (0.37.1)\n",
            "Requirement already satisfied: kiwisolver>=1.0.1 in /usr/local/lib/python3.7/dist-packages (from matplotlib->pycaret) (1.3.2)\n",
            "Requirement already satisfied: pyparsing!=2.0.4,!=2.1.2,!=2.1.6,>=2.0.1 in /usr/local/lib/python3.7/dist-packages (from matplotlib->pycaret) (3.0.7)\n",
            "Requirement already satisfied: python-dateutil>=2.1 in /usr/local/lib/python3.7/dist-packages (from matplotlib->pycaret) (2.8.2)\n",
            "Requirement already satisfied: cycler>=0.10 in /usr/local/lib/python3.7/dist-packages (from matplotlib->pycaret) (0.11.0)\n",
            "Requirement already satisfied: jupyter-core in /usr/local/lib/python3.7/dist-packages (from nbformat>=4.2.0->ipywidgets->pycaret) (4.9.1)\n",
            "Requirement already satisfied: jsonschema!=2.5.0,>=2.4 in /usr/local/lib/python3.7/dist-packages (from nbformat>=4.2.0->ipywidgets->pycaret) (4.3.3)\n",
            "Requirement already satisfied: importlib-metadata in /usr/local/lib/python3.7/dist-packages (from jsonschema!=2.5.0,>=2.4->nbformat>=4.2.0->ipywidgets->pycaret) (2.1.3)\n",
            "Requirement already satisfied: pyrsistent!=0.17.0,!=0.17.1,!=0.17.2,>=0.14.0 in /usr/local/lib/python3.7/dist-packages (from jsonschema!=2.5.0,>=2.4->nbformat>=4.2.0->ipywidgets->pycaret) (0.18.1)\n",
            "Requirement already satisfied: attrs>=17.4.0 in /usr/local/lib/python3.7/dist-packages (from jsonschema!=2.5.0,>=2.4->nbformat>=4.2.0->ipywidgets->pycaret) (21.4.0)\n",
            "Requirement already satisfied: importlib-resources>=1.4.0 in /usr/local/lib/python3.7/dist-packages (from jsonschema!=2.5.0,>=2.4->nbformat>=4.2.0->ipywidgets->pycaret) (5.4.0)\n",
            "Requirement already satisfied: typing-extensions in /usr/local/lib/python3.7/dist-packages (from jsonschema!=2.5.0,>=2.4->nbformat>=4.2.0->ipywidgets->pycaret) (3.10.0.2)\n",
            "Requirement already satisfied: zipp>=3.1.0 in /usr/local/lib/python3.7/dist-packages (from importlib-resources>=1.4.0->jsonschema!=2.5.0,>=2.4->nbformat>=4.2.0->ipywidgets->pycaret) (3.7.0)\n",
            "Requirement already satisfied: pytz>=2017.3 in /usr/local/lib/python3.7/dist-packages (from pandas->pycaret) (2018.9)\n",
            "Requirement already satisfied: markupsafe~=2.0.1 in /usr/local/lib/python3.7/dist-packages (from pandas-profiling>=2.8.0->pycaret) (2.0.1)\n",
            "Collecting visions[type_image_path]==0.7.4\n",
            "  Downloading visions-0.7.4-py3-none-any.whl (102 kB)\n",
            "\u001b[K     |████████████████████████████████| 102 kB 16.0 MB/s \n",
            "\u001b[?25hCollecting multimethod>=1.4\n",
            "  Downloading multimethod-1.7-py3-none-any.whl (9.5 kB)\n",
            "Collecting joblib\n",
            "  Downloading joblib-1.0.1-py3-none-any.whl (303 kB)\n",
            "\u001b[K     |████████████████████████████████| 303 kB 71.4 MB/s \n",
            "\u001b[?25hCollecting pyyaml<6.0.0\n",
            "  Downloading PyYAML-5.4.1-cp37-cp37m-manylinux1_x86_64.whl (636 kB)\n",
            "\u001b[K     |████████████████████████████████| 636 kB 77.2 MB/s \n",
            "\u001b[?25hCollecting requests>=2.24.0\n",
            "  Downloading requests-2.27.1-py2.py3-none-any.whl (63 kB)\n",
            "\u001b[K     |████████████████████████████████| 63 kB 2.3 MB/s \n",
            "\u001b[?25hCollecting pydantic>=1.8.1\n",
            "  Downloading pydantic-1.9.0-cp37-cp37m-manylinux_2_17_x86_64.manylinux2014_x86_64.whl (10.9 MB)\n",
            "\u001b[K     |████████████████████████████████| 10.9 MB 53.8 MB/s \n",
            "\u001b[?25hRequirement already satisfied: jinja2>=2.11.1 in /usr/local/lib/python3.7/dist-packages (from pandas-profiling>=2.8.0->pycaret) (2.11.3)\n",
            "Requirement already satisfied: tqdm>=4.48.2 in /usr/local/lib/python3.7/dist-packages (from pandas-profiling>=2.8.0->pycaret) (4.62.3)\n",
            "Collecting tangled-up-in-unicode==0.1.0\n",
            "  Downloading tangled_up_in_unicode-0.1.0-py3-none-any.whl (3.1 MB)\n",
            "\u001b[K     |████████████████████████████████| 3.1 MB 57.1 MB/s \n",
            "\u001b[?25hCollecting phik>=0.11.1\n",
            "  Downloading phik-0.12.0-cp37-cp37m-manylinux2010_x86_64.whl (675 kB)\n",
            "\u001b[K     |████████████████████████████████| 675 kB 77.0 MB/s \n",
            "\u001b[?25hCollecting htmlmin>=0.1.12\n",
            "  Downloading htmlmin-0.1.12.tar.gz (19 kB)\n",
            "Requirement already satisfied: missingno>=0.4.2 in /usr/local/lib/python3.7/dist-packages (from pandas-profiling>=2.8.0->pycaret) (0.5.0)\n",
            "Requirement already satisfied: networkx>=2.4 in /usr/local/lib/python3.7/dist-packages (from visions[type_image_path]==0.7.4->pandas-profiling>=2.8.0->pycaret) (2.6.3)\n",
            "Requirement already satisfied: Pillow in /usr/local/lib/python3.7/dist-packages (from visions[type_image_path]==0.7.4->pandas-profiling>=2.8.0->pycaret) (7.1.2)\n",
            "Collecting imagehash\n",
            "  Downloading ImageHash-4.2.1.tar.gz (812 kB)\n",
            "\u001b[K     |████████████████████████████████| 812 kB 48.2 MB/s \n",
            "\u001b[?25hCollecting scipy<=1.5.4\n",
            "  Downloading scipy-1.5.4-cp37-cp37m-manylinux1_x86_64.whl (25.9 MB)\n",
            "\u001b[K     |████████████████████████████████| 25.9 MB 1.2 MB/s \n",
            "\u001b[?25hRequirement already satisfied: tenacity>=6.2.0 in /usr/local/lib/python3.7/dist-packages (from plotly>=4.4.1->pycaret) (8.0.1)\n",
            "Requirement already satisfied: wcwidth in /usr/local/lib/python3.7/dist-packages (from prompt-toolkit<2.0.0,>=1.0.4->IPython->pycaret) (0.2.5)\n",
            "Requirement already satisfied: idna<4,>=2.5 in /usr/local/lib/python3.7/dist-packages (from requests>=2.24.0->pandas-profiling>=2.8.0->pycaret) (2.10)\n",
            "Requirement already satisfied: charset-normalizer~=2.0.0 in /usr/local/lib/python3.7/dist-packages (from requests>=2.24.0->pandas-profiling>=2.8.0->pycaret) (2.0.11)\n",
            "Requirement already satisfied: urllib3<1.27,>=1.21.1 in /usr/local/lib/python3.7/dist-packages (from requests>=2.24.0->pandas-profiling>=2.8.0->pycaret) (1.24.3)\n",
            "Requirement already satisfied: certifi>=2017.4.17 in /usr/local/lib/python3.7/dist-packages (from requests>=2.24.0->pandas-profiling>=2.8.0->pycaret) (2021.10.8)\n",
            "Requirement already satisfied: wasabi<1.1.0,>=0.4.0 in /usr/local/lib/python3.7/dist-packages (from spacy<2.4.0->pycaret) (0.9.0)\n",
            "Requirement already satisfied: murmurhash<1.1.0,>=0.28.0 in /usr/local/lib/python3.7/dist-packages (from spacy<2.4.0->pycaret) (1.0.6)\n",
            "Requirement already satisfied: blis<0.5.0,>=0.4.0 in /usr/local/lib/python3.7/dist-packages (from spacy<2.4.0->pycaret) (0.4.1)\n",
            "Requirement already satisfied: cymem<2.1.0,>=2.0.2 in /usr/local/lib/python3.7/dist-packages (from spacy<2.4.0->pycaret) (2.0.6)\n",
            "Requirement already satisfied: srsly<1.1.0,>=1.0.2 in /usr/local/lib/python3.7/dist-packages (from spacy<2.4.0->pycaret) (1.0.5)\n",
            "Requirement already satisfied: catalogue<1.1.0,>=0.0.7 in /usr/local/lib/python3.7/dist-packages (from spacy<2.4.0->pycaret) (1.0.0)\n",
            "Requirement already satisfied: plac<1.2.0,>=0.9.6 in /usr/local/lib/python3.7/dist-packages (from spacy<2.4.0->pycaret) (1.1.3)\n",
            "Requirement already satisfied: thinc==7.4.0 in /usr/local/lib/python3.7/dist-packages (from spacy<2.4.0->pycaret) (7.4.0)\n",
            "Requirement already satisfied: preshed<3.1.0,>=3.0.2 in /usr/local/lib/python3.7/dist-packages (from spacy<2.4.0->pycaret) (3.0.6)\n",
            "Requirement already satisfied: notebook>=4.4.1 in /usr/local/lib/python3.7/dist-packages (from widgetsnbextension~=3.5.0->ipywidgets->pycaret) (5.3.1)\n",
            "Requirement already satisfied: Send2Trash in /usr/local/lib/python3.7/dist-packages (from notebook>=4.4.1->widgetsnbextension~=3.5.0->ipywidgets->pycaret) (1.8.0)\n",
            "Requirement already satisfied: nbconvert in /usr/local/lib/python3.7/dist-packages (from notebook>=4.4.1->widgetsnbextension~=3.5.0->ipywidgets->pycaret) (5.6.1)\n",
            "Requirement already satisfied: terminado>=0.8.1 in /usr/local/lib/python3.7/dist-packages (from notebook>=4.4.1->widgetsnbextension~=3.5.0->ipywidgets->pycaret) (0.13.1)\n",
            "Requirement already satisfied: pyzmq>=13 in /usr/local/lib/python3.7/dist-packages (from jupyter-client->ipykernel>=4.5.1->ipywidgets->pycaret) (22.3.0)\n",
            "Requirement already satisfied: ptyprocess in /usr/local/lib/python3.7/dist-packages (from terminado>=0.8.1->notebook>=4.4.1->widgetsnbextension~=3.5.0->ipywidgets->pycaret) (0.7.0)\n",
            "Requirement already satisfied: PyWavelets in /usr/local/lib/python3.7/dist-packages (from imagehash->visions[type_image_path]==0.7.4->pandas-profiling>=2.8.0->pycaret) (1.2.0)\n",
            "Requirement already satisfied: sqlalchemy in /usr/local/lib/python3.7/dist-packages (from mlflow->pycaret) (1.4.31)\n",
            "Collecting gunicorn\n",
            "  Downloading gunicorn-20.1.0-py3-none-any.whl (79 kB)\n",
            "\u001b[K     |████████████████████████████████| 79 kB 10.3 MB/s \n",
            "\u001b[?25hRequirement already satisfied: Flask in /usr/local/lib/python3.7/dist-packages (from mlflow->pycaret) (1.1.4)\n",
            "Collecting alembic\n",
            "  Downloading alembic-1.7.6-py3-none-any.whl (210 kB)\n",
            "\u001b[K     |████████████████████████████████| 210 kB 79.8 MB/s \n",
            "\u001b[?25hCollecting databricks-cli>=0.8.7\n",
            "  Downloading databricks-cli-0.16.4.tar.gz (58 kB)\n",
            "\u001b[K     |████████████████████████████████| 58 kB 7.6 MB/s \n",
            "\u001b[?25hCollecting querystring-parser\n",
            "  Downloading querystring_parser-1.2.4-py2.py3-none-any.whl (7.9 kB)\n",
            "Requirement already satisfied: packaging in /usr/local/lib/python3.7/dist-packages (from mlflow->pycaret) (21.3)\n",
            "Collecting docker>=4.0.0\n",
            "  Downloading docker-5.0.3-py2.py3-none-any.whl (146 kB)\n",
            "\u001b[K     |████████████████████████████████| 146 kB 63.9 MB/s \n",
            "\u001b[?25hCollecting importlib-metadata\n",
            "  Downloading importlib_metadata-4.10.1-py3-none-any.whl (17 kB)\n",
            "Requirement already satisfied: sqlparse>=0.3.1 in /usr/local/lib/python3.7/dist-packages (from mlflow->pycaret) (0.4.2)\n",
            "Requirement already satisfied: protobuf>=3.7.0 in /usr/local/lib/python3.7/dist-packages (from mlflow->pycaret) (3.17.3)\n",
            "Collecting prometheus-flask-exporter\n",
            "  Downloading prometheus_flask_exporter-0.18.7-py3-none-any.whl (17 kB)\n",
            "Requirement already satisfied: entrypoints in /usr/local/lib/python3.7/dist-packages (from mlflow->pycaret) (0.4)\n",
            "Requirement already satisfied: cloudpickle in /usr/local/lib/python3.7/dist-packages (from mlflow->pycaret) (1.3.0)\n",
            "Collecting gitpython>=2.1.0\n",
            "  Downloading GitPython-3.1.26-py3-none-any.whl (180 kB)\n",
            "\u001b[K     |████████████████████████████████| 180 kB 64.6 MB/s \n",
            "\u001b[?25hRequirement already satisfied: click>=7.0 in /usr/local/lib/python3.7/dist-packages (from mlflow->pycaret) (8.0.3)\n",
            "Requirement already satisfied: tabulate>=0.7.7 in /usr/local/lib/python3.7/dist-packages (from databricks-cli>=0.8.7->mlflow->pycaret) (0.8.9)\n",
            "Collecting websocket-client>=0.32.0\n",
            "  Downloading websocket_client-1.2.3-py3-none-any.whl (53 kB)\n",
            "\u001b[K     |████████████████████████████████| 53 kB 2.7 MB/s \n",
            "\u001b[?25hCollecting gitdb<5,>=4.0.1\n",
            "  Downloading gitdb-4.0.9-py3-none-any.whl (63 kB)\n",
            "\u001b[K     |████████████████████████████████| 63 kB 2.4 MB/s \n",
            "\u001b[?25hCollecting smmap<6,>=3.0.1\n",
            "  Downloading smmap-5.0.0-py3-none-any.whl (24 kB)\n",
            "Collecting Mako\n",
            "  Downloading Mako-1.1.6-py2.py3-none-any.whl (75 kB)\n",
            "\u001b[K     |████████████████████████████████| 75 kB 6.7 MB/s \n",
            "\u001b[?25hRequirement already satisfied: greenlet!=0.4.17 in /usr/local/lib/python3.7/dist-packages (from sqlalchemy->mlflow->pycaret) (1.1.2)\n",
            "Requirement already satisfied: itsdangerous<2.0,>=0.24 in /usr/local/lib/python3.7/dist-packages (from Flask->mlflow->pycaret) (1.1.0)\n",
            "Requirement already satisfied: Werkzeug<2.0,>=0.15 in /usr/local/lib/python3.7/dist-packages (from Flask->mlflow->pycaret) (1.0.1)\n",
            "Collecting click>=7.0\n",
            "  Downloading click-7.1.2-py2.py3-none-any.whl (82 kB)\n",
            "\u001b[K     |████████████████████████████████| 82 kB 1.6 MB/s \n",
            "\u001b[?25hRequirement already satisfied: mistune<2,>=0.8.1 in /usr/local/lib/python3.7/dist-packages (from nbconvert->notebook>=4.4.1->widgetsnbextension~=3.5.0->ipywidgets->pycaret) (0.8.4)\n",
            "Requirement already satisfied: pandocfilters>=1.4.1 in /usr/local/lib/python3.7/dist-packages (from nbconvert->notebook>=4.4.1->widgetsnbextension~=3.5.0->ipywidgets->pycaret) (1.5.0)\n",
            "Requirement already satisfied: defusedxml in /usr/local/lib/python3.7/dist-packages (from nbconvert->notebook>=4.4.1->widgetsnbextension~=3.5.0->ipywidgets->pycaret) (0.7.1)\n",
            "Requirement already satisfied: testpath in /usr/local/lib/python3.7/dist-packages (from nbconvert->notebook>=4.4.1->widgetsnbextension~=3.5.0->ipywidgets->pycaret) (0.5.0)\n",
            "Requirement already satisfied: bleach in /usr/local/lib/python3.7/dist-packages (from nbconvert->notebook>=4.4.1->widgetsnbextension~=3.5.0->ipywidgets->pycaret) (4.1.0)\n",
            "Requirement already satisfied: webencodings in /usr/local/lib/python3.7/dist-packages (from bleach->nbconvert->notebook>=4.4.1->widgetsnbextension~=3.5.0->ipywidgets->pycaret) (0.5.1)\n",
            "Requirement already satisfied: prometheus-client in /usr/local/lib/python3.7/dist-packages (from prometheus-flask-exporter->mlflow->pycaret) (0.13.1)\n",
            "Requirement already satisfied: sklearn in /usr/local/lib/python3.7/dist-packages (from pyLDAvis->pycaret) (0.0)\n",
            "Collecting pyLDAvis\n",
            "  Downloading pyLDAvis-3.3.0.tar.gz (1.7 MB)\n",
            "\u001b[K     |████████████████████████████████| 1.7 MB 56.6 MB/s \n",
            "\u001b[?25h  Installing build dependencies ... \u001b[?25l\u001b[?25hdone\n",
            "  Getting requirements to build wheel ... \u001b[?25l\u001b[?25hdone\n",
            "  Installing backend dependencies ... \u001b[?25l\u001b[?25hdone\n",
            "    Preparing wheel metadata ... \u001b[?25l\u001b[?25hdone\n",
            "  Downloading pyLDAvis-3.2.2.tar.gz (1.7 MB)\n",
            "\u001b[K     |████████████████████████████████| 1.7 MB 45.9 MB/s \n",
            "\u001b[?25hRequirement already satisfied: numexpr in /usr/local/lib/python3.7/dist-packages (from pyLDAvis->pycaret) (2.8.1)\n",
            "Requirement already satisfied: future in /usr/local/lib/python3.7/dist-packages (from pyLDAvis->pycaret) (0.16.0)\n",
            "Collecting funcy\n",
            "  Downloading funcy-1.17-py2.py3-none-any.whl (33 kB)\n",
            "Requirement already satisfied: numba>=0.35 in /usr/local/lib/python3.7/dist-packages (from pyod->pycaret) (0.51.2)\n",
            "Requirement already satisfied: statsmodels in /usr/local/lib/python3.7/dist-packages (from pyod->pycaret) (0.10.2)\n",
            "Requirement already satisfied: llvmlite<0.35,>=0.34.0.dev0 in /usr/local/lib/python3.7/dist-packages (from numba>=0.35->pyod->pycaret) (0.34.0)\n",
            "Requirement already satisfied: patsy>=0.4.0 in /usr/local/lib/python3.7/dist-packages (from statsmodels->pyod->pycaret) (0.5.2)\n",
            "Collecting pynndescent>=0.5\n",
            "  Downloading pynndescent-0.5.6.tar.gz (1.1 MB)\n",
            "\u001b[K     |████████████████████████████████| 1.1 MB 54.7 MB/s \n",
            "\u001b[?25hBuilding wheels for collected packages: htmlmin, imagehash, databricks-cli, pyLDAvis, pyod, umap-learn, pynndescent\n",
            "  Building wheel for htmlmin (setup.py) ... \u001b[?25l\u001b[?25hdone\n",
            "  Created wheel for htmlmin: filename=htmlmin-0.1.12-py3-none-any.whl size=27098 sha256=8cf4597f7624cffced44eebef1ced963161f359d40dbeed29da66db361419591\n",
            "  Stored in directory: /root/.cache/pip/wheels/70/e1/52/5b14d250ba868768823940c3229e9950d201a26d0bd3ee8655\n",
            "  Building wheel for imagehash (setup.py) ... \u001b[?25l\u001b[?25hdone\n",
            "  Created wheel for imagehash: filename=ImageHash-4.2.1-py2.py3-none-any.whl size=295206 sha256=3ea7fd380cc905bb55587a485c4a4bcc9dbd325c8d610c92f0ee17c9e77a97ed\n",
            "  Stored in directory: /root/.cache/pip/wheels/4c/d5/59/5e3e297533ddb09407769762985d134135064c6831e29a914e\n",
            "  Building wheel for databricks-cli (setup.py) ... \u001b[?25l\u001b[?25hdone\n",
            "  Created wheel for databricks-cli: filename=databricks_cli-0.16.4-py3-none-any.whl size=106877 sha256=6234c4dc3cfdabab1de335297ad46818914326fad775271840d486b03fec7cce\n",
            "  Stored in directory: /root/.cache/pip/wheels/a2/a1/6d/fa1d22ea25ed8593887437fe1c7e00f6ef307fc240ccd4dc5c\n",
            "  Building wheel for pyLDAvis (setup.py) ... \u001b[?25l\u001b[?25hdone\n",
            "  Created wheel for pyLDAvis: filename=pyLDAvis-3.2.2-py2.py3-none-any.whl size=135617 sha256=40fda3d5d78b27ffc3c144ba9af514952030b421e6d9a1c76f542aad7ca15b81\n",
            "  Stored in directory: /root/.cache/pip/wheels/f8/b1/9b/560ac1931796b7303f7b517b949d2d31a4fbc512aad3b9f284\n",
            "  Building wheel for pyod (setup.py) ... \u001b[?25l\u001b[?25hdone\n",
            "  Created wheel for pyod: filename=pyod-0.9.7-py3-none-any.whl size=136279 sha256=9ff8865f99925cd7ff6d79dc9636b94654bbb098acebd4a317ab8855835dc35b\n",
            "  Stored in directory: /root/.cache/pip/wheels/ce/14/ae/60cbb36511e59bc12f8f0883805f586db3b315972b54865d33\n",
            "  Building wheel for umap-learn (setup.py) ... \u001b[?25l\u001b[?25hdone\n",
            "  Created wheel for umap-learn: filename=umap_learn-0.5.2-py3-none-any.whl size=82708 sha256=172c6d36dfb56081d8f19d62493f287119e497996efe71250dbd6ffd6025d9fd\n",
            "  Stored in directory: /root/.cache/pip/wheels/84/1b/c6/aaf68a748122632967cef4dffef68224eb16798b6793257d82\n",
            "  Building wheel for pynndescent (setup.py) ... \u001b[?25l\u001b[?25hdone\n",
            "  Created wheel for pynndescent: filename=pynndescent-0.5.6-py3-none-any.whl size=53943 sha256=632ceea6ad4ea87f77adf82f218fde42c088fd265b5659f3300d565cbe5178bc\n",
            "  Stored in directory: /root/.cache/pip/wheels/03/f1/56/f80d72741e400345b5a5b50ec3d929aca581bf45e0225d5c50\n",
            "Successfully built htmlmin imagehash databricks-cli pyLDAvis pyod umap-learn pynndescent\n",
            "Installing collected packages: importlib-metadata, tangled-up-in-unicode, smmap, scipy, multimethod, joblib, click, websocket-client, visions, scikit-learn, requests, Mako, imagehash, gitdb, querystring-parser, pyyaml, pynndescent, pydantic, prometheus-flask-exporter, phik, htmlmin, gunicorn, gitpython, funcy, docker, databricks-cli, alembic, umap-learn, scikit-plot, pyod, pyLDAvis, pandas-profiling, mlxtend, mlflow, lightgbm, kmodes, imbalanced-learn, Boruta, pycaret\n",
            "  Attempting uninstall: importlib-metadata\n",
            "    Found existing installation: importlib-metadata 2.1.3\n",
            "    Uninstalling importlib-metadata-2.1.3:\n",
            "      Successfully uninstalled importlib-metadata-2.1.3\n",
            "  Attempting uninstall: scipy\n",
            "    Found existing installation: scipy 1.4.1\n",
            "    Uninstalling scipy-1.4.1:\n",
            "      Successfully uninstalled scipy-1.4.1\n",
            "  Attempting uninstall: joblib\n",
            "    Found existing installation: joblib 1.1.0\n",
            "    Uninstalling joblib-1.1.0:\n",
            "      Successfully uninstalled joblib-1.1.0\n",
            "  Attempting uninstall: click\n",
            "    Found existing installation: click 8.0.3\n",
            "    Uninstalling click-8.0.3:\n",
            "      Successfully uninstalled click-8.0.3\n",
            "  Attempting uninstall: scikit-learn\n",
            "    Found existing installation: scikit-learn 1.0.2\n",
            "    Uninstalling scikit-learn-1.0.2:\n",
            "      Successfully uninstalled scikit-learn-1.0.2\n",
            "  Attempting uninstall: requests\n",
            "    Found existing installation: requests 2.23.0\n",
            "    Uninstalling requests-2.23.0:\n",
            "      Successfully uninstalled requests-2.23.0\n",
            "  Attempting uninstall: pyyaml\n",
            "    Found existing installation: PyYAML 3.13\n",
            "    Uninstalling PyYAML-3.13:\n",
            "      Successfully uninstalled PyYAML-3.13\n",
            "  Attempting uninstall: pandas-profiling\n",
            "    Found existing installation: pandas-profiling 1.4.1\n",
            "    Uninstalling pandas-profiling-1.4.1:\n",
            "      Successfully uninstalled pandas-profiling-1.4.1\n",
            "  Attempting uninstall: mlxtend\n",
            "    Found existing installation: mlxtend 0.14.0\n",
            "    Uninstalling mlxtend-0.14.0:\n",
            "      Successfully uninstalled mlxtend-0.14.0\n",
            "  Attempting uninstall: lightgbm\n",
            "    Found existing installation: lightgbm 2.2.3\n",
            "    Uninstalling lightgbm-2.2.3:\n",
            "      Successfully uninstalled lightgbm-2.2.3\n",
            "  Attempting uninstall: imbalanced-learn\n",
            "    Found existing installation: imbalanced-learn 0.8.1\n",
            "    Uninstalling imbalanced-learn-0.8.1:\n",
            "      Successfully uninstalled imbalanced-learn-0.8.1\n",
            "\u001b[31mERROR: pip's dependency resolver does not currently take into account all the packages that are installed. This behaviour is the source of the following dependency conflicts.\n",
            "watermark 2.3.0 requires importlib-metadata<3.0; python_version < \"3.8\", but you have importlib-metadata 4.10.1 which is incompatible.\n",
            "google-colab 1.0.0 requires requests~=2.23.0, but you have requests 2.27.1 which is incompatible.\n",
            "datascience 0.10.6 requires folium==0.2.1, but you have folium 0.8.3 which is incompatible.\n",
            "albumentations 0.1.12 requires imgaug<0.2.7,>=0.2.5, but you have imgaug 0.2.9 which is incompatible.\u001b[0m\n",
            "Successfully installed Boruta-0.3 Mako-1.1.6 alembic-1.7.6 click-7.1.2 databricks-cli-0.16.4 docker-5.0.3 funcy-1.17 gitdb-4.0.9 gitpython-3.1.26 gunicorn-20.1.0 htmlmin-0.1.12 imagehash-4.2.1 imbalanced-learn-0.7.0 importlib-metadata-4.10.1 joblib-1.0.1 kmodes-0.11.1 lightgbm-3.3.2 mlflow-1.23.1 mlxtend-0.19.0 multimethod-1.7 pandas-profiling-3.1.0 phik-0.12.0 prometheus-flask-exporter-0.18.7 pyLDAvis-3.2.2 pycaret-2.3.6 pydantic-1.9.0 pynndescent-0.5.6 pyod-0.9.7 pyyaml-5.4.1 querystring-parser-1.2.4 requests-2.27.1 scikit-learn-0.23.2 scikit-plot-0.3.7 scipy-1.5.4 smmap-5.0.0 tangled-up-in-unicode-0.1.0 umap-learn-0.5.2 visions-0.7.4 websocket-client-1.2.3\n"
          ]
        },
        {
          "output_type": "display_data",
          "data": {
            "application/vnd.colab-display-data+json": {
              "pip_warning": {
                "packages": [
                  "joblib",
                  "scipy",
                  "sklearn"
                ]
              }
            }
          },
          "metadata": {}
        }
      ]
    },
    {
      "cell_type": "code",
      "source": [
        "!python -m spacy download en_core_web_sm\n",
        "!python -m textblob.download_corpora\n"
      ],
      "metadata": {
        "id": "N2KdhBenk9H3",
        "colab": {
          "base_uri": "https://localhost:8080/"
        },
        "outputId": "f27c95bc-df86-4d53-9d88-589a2de0b456"
      },
      "execution_count": 48,
      "outputs": [
        {
          "output_type": "stream",
          "name": "stderr",
          "text": [
            "[autoreload of sklearn.base failed: Traceback (most recent call last):\n",
            "  File \"/usr/local/lib/python3.7/dist-packages/IPython/extensions/autoreload.py\", line 247, in check\n",
            "    superreload(m, reload, self.old_objects)\n",
            "ValueError: clone() requires a code object with 0 free vars, not 5\n",
            "]\n",
            "[autoreload of sklearn.utils failed: Traceback (most recent call last):\n",
            "  File \"/usr/local/lib/python3.7/dist-packages/IPython/extensions/autoreload.py\", line 247, in check\n",
            "    superreload(m, reload, self.old_objects)\n",
            "ValueError: safe_sqr() requires a code object with 0 free vars, not 5\n",
            "]\n",
            "[autoreload of scipy.sparse.sputils failed: Traceback (most recent call last):\n",
            "  File \"/usr/local/lib/python3.7/dist-packages/IPython/extensions/autoreload.py\", line 247, in check\n",
            "    superreload(m, reload, self.old_objects)\n",
            "ImportError: cannot import name 'prod' from 'scipy._lib._util' (/usr/local/lib/python3.7/dist-packages/scipy/_lib/_util.py)\n",
            "]\n",
            "[autoreload of scipy.sparse.bsr failed: Traceback (most recent call last):\n",
            "  File \"/usr/local/lib/python3.7/dist-packages/IPython/extensions/autoreload.py\", line 247, in check\n",
            "    superreload(m, reload, self.old_objects)\n",
            "ImportError: cannot import name 'csr_matmat_maxnnz' from 'scipy.sparse._sparsetools' (/usr/local/lib/python3.7/dist-packages/scipy/sparse/_sparsetools.cpython-37m-x86_64-linux-gnu.so)\n",
            "]\n",
            "[autoreload of sklearn.utils.class_weight failed: Traceback (most recent call last):\n",
            "  File \"/usr/local/lib/python3.7/dist-packages/IPython/extensions/autoreload.py\", line 247, in check\n",
            "    superreload(m, reload, self.old_objects)\n",
            "ValueError: compute_class_weight() requires a code object with 0 free vars, not 5\n",
            "]\n",
            "[autoreload of joblib.numpy_pickle failed: Traceback (most recent call last):\n",
            "  File \"/usr/local/lib/python3.7/dist-packages/IPython/extensions/autoreload.py\", line 247, in check\n",
            "    superreload(m, reload, self.old_objects)\n",
            "ValueError: Compressor 'zlib' already registered.\n",
            "]\n",
            "[autoreload of sklearn.utils.fixes failed: Traceback (most recent call last):\n",
            "  File \"/usr/local/lib/python3.7/dist-packages/IPython/extensions/autoreload.py\", line 247, in check\n",
            "    superreload(m, reload, self.old_objects)\n",
            "AttributeError: module 'scipy' has no attribute 'stats'\n",
            "]\n",
            "[autoreload of scipy.stats.stats failed: Traceback (most recent call last):\n",
            "  File \"/usr/local/lib/python3.7/dist-packages/IPython/extensions/autoreload.py\", line 247, in check\n",
            "    superreload(m, reload, self.old_objects)\n",
            "ValueError: median_absolute_deviation() requires a code object with 0 free vars, not 2\n",
            "]\n",
            "[autoreload of scipy.linalg.lapack failed: Traceback (most recent call last):\n",
            "  File \"/usr/local/lib/python3.7/dist-packages/IPython/extensions/autoreload.py\", line 247, in check\n",
            "    superreload(m, reload, self.old_objects)\n",
            "NameError: name 'ssyevx' is not defined\n",
            "]\n",
            "[autoreload of scipy.special failed: Traceback (most recent call last):\n",
            "  File \"/usr/local/lib/python3.7/dist-packages/IPython/extensions/autoreload.py\", line 247, in check\n",
            "    superreload(m, reload, self.old_objects)\n",
            "ImportError: cannot import name 'log_softmax' from 'scipy.special._logsumexp' (/usr/local/lib/python3.7/dist-packages/scipy/special/_logsumexp.py)\n",
            "]\n",
            "[autoreload of scipy.sparse.linalg.isolve.iterative failed: Traceback (most recent call last):\n",
            "  File \"/usr/local/lib/python3.7/dist-packages/IPython/extensions/autoreload.py\", line 247, in check\n",
            "    superreload(m, reload, self.old_objects)\n",
            "AttributeError: module 'scipy' has no attribute '_lib'\n",
            "]\n",
            "[autoreload of scipy.optimize.cobyla failed: Traceback (most recent call last):\n",
            "  File \"/usr/local/lib/python3.7/dist-packages/IPython/extensions/autoreload.py\", line 247, in check\n",
            "    superreload(m, reload, self.old_objects)\n",
            "ValueError: fmin_cobyla() requires a code object with 0 free vars, not 1\n",
            "]\n",
            "[autoreload of scipy.optimize._linprog failed: Traceback (most recent call last):\n",
            "  File \"/usr/local/lib/python3.7/dist-packages/IPython/extensions/autoreload.py\", line 247, in check\n",
            "    superreload(m, reload, self.old_objects)\n",
            "ImportError: cannot import name '_LPProblem' from 'scipy.optimize._linprog_util' (/usr/local/lib/python3.7/dist-packages/scipy/optimize/_linprog_util.py)\n",
            "]\n",
            "[autoreload of scipy.integrate._ode failed: Traceback (most recent call last):\n",
            "  File \"/usr/local/lib/python3.7/dist-packages/IPython/extensions/autoreload.py\", line 247, in check\n",
            "    superreload(m, reload, self.old_objects)\n",
            "AttributeError: module 'scipy.integrate._dop' has no attribute 'types'\n",
            "]\n",
            "[autoreload of scipy.interpolate._fitpack_impl failed: Traceback (most recent call last):\n",
            "  File \"/usr/local/lib/python3.7/dist-packages/IPython/extensions/autoreload.py\", line 247, in check\n",
            "    superreload(m, reload, self.old_objects)\n",
            "AttributeError: module 'scipy.interpolate.dfitpack' has no attribute 'types'\n",
            "]\n",
            "[autoreload of scipy.interpolate.fitpack2 failed: Traceback (most recent call last):\n",
            "  File \"/usr/local/lib/python3.7/dist-packages/IPython/extensions/autoreload.py\", line 247, in check\n",
            "    superreload(m, reload, self.old_objects)\n",
            "AttributeError: module 'scipy.interpolate.dfitpack' has no attribute 'types'\n",
            "]\n",
            "[autoreload of scipy.stats.kde failed: Traceback (most recent call last):\n",
            "  File \"/usr/local/lib/python3.7/dist-packages/IPython/extensions/autoreload.py\", line 247, in check\n",
            "    superreload(m, reload, self.old_objects)\n",
            "ImportError: cannot import name 'gaussian_kernel_estimate' from 'scipy.stats._stats' (/usr/local/lib/python3.7/dist-packages/scipy/stats/_stats.cpython-37m-x86_64-linux-gnu.so)\n",
            "]\n",
            "[autoreload of sklearn.utils.validation failed: Traceback (most recent call last):\n",
            "  File \"/usr/local/lib/python3.7/dist-packages/IPython/extensions/autoreload.py\", line 247, in check\n",
            "    superreload(m, reload, self.old_objects)\n",
            "ValueError: assert_all_finite() requires a code object with 0 free vars, not 4\n",
            "]\n",
            "[autoreload of sklearn.model_selection failed: Traceback (most recent call last):\n",
            "  File \"/usr/local/lib/python3.7/dist-packages/IPython/extensions/autoreload.py\", line 247, in check\n",
            "    superreload(m, reload, self.old_objects)\n",
            "ImportError: cannot import name 'fit_grid_point' from 'sklearn.model_selection._search' (/usr/local/lib/python3.7/dist-packages/sklearn/model_selection/_search.py)\n",
            "]\n",
            "[autoreload of sklearn.model_selection._split failed: Traceback (most recent call last):\n",
            "  File \"/usr/local/lib/python3.7/dist-packages/IPython/extensions/autoreload.py\", line 247, in check\n",
            "    superreload(m, reload, self.old_objects)\n",
            "ValueError: __init__() requires a code object with 0 free vars, not 4\n",
            "]\n",
            "[autoreload of sklearn.model_selection._validation failed: Traceback (most recent call last):\n",
            "  File \"/usr/local/lib/python3.7/dist-packages/IPython/extensions/autoreload.py\", line 247, in check\n",
            "    superreload(m, reload, self.old_objects)\n",
            "ValueError: cross_validate() requires a code object with 0 free vars, not 4\n",
            "]\n",
            "[autoreload of sklearn.utils.metaestimators failed: Traceback (most recent call last):\n",
            "  File \"/usr/local/lib/python3.7/dist-packages/IPython/extensions/autoreload.py\", line 247, in check\n",
            "    superreload(m, reload, self.old_objects)\n",
            "ValueError: __init__() requires a code object with 1 free vars, not 0\n",
            "]\n",
            "[autoreload of sklearn.metrics._ranking failed: Traceback (most recent call last):\n",
            "  File \"/usr/local/lib/python3.7/dist-packages/IPython/extensions/autoreload.py\", line 247, in check\n",
            "    superreload(m, reload, self.old_objects)\n",
            "ValueError: average_precision_score() requires a code object with 0 free vars, not 4\n",
            "]\n",
            "[autoreload of sklearn.utils.extmath failed: Traceback (most recent call last):\n",
            "  File \"/usr/local/lib/python3.7/dist-packages/IPython/extensions/autoreload.py\", line 247, in check\n",
            "    superreload(m, reload, self.old_objects)\n",
            "ValueError: safe_sparse_dot() requires a code object with 0 free vars, not 4\n",
            "]\n",
            "[autoreload of sklearn.utils.sparsefuncs failed: Traceback (most recent call last):\n",
            "  File \"/usr/local/lib/python3.7/dist-packages/IPython/extensions/autoreload.py\", line 247, in check\n",
            "    superreload(m, reload, self.old_objects)\n",
            "ValueError: incr_mean_variance_axis() requires a code object with 0 free vars, not 4\n",
            "]\n",
            "[autoreload of sklearn.preprocessing failed: Traceback (most recent call last):\n",
            "  File \"/usr/local/lib/python3.7/dist-packages/IPython/extensions/autoreload.py\", line 247, in check\n",
            "    superreload(m, reload, self.old_objects)\n",
            "ImportError: cannot import name 'PolynomialFeatures' from 'sklearn.preprocessing._data' (/usr/local/lib/python3.7/dist-packages/sklearn/preprocessing/_data.py)\n",
            "]\n",
            "[autoreload of sklearn.preprocessing._function_transformer failed: Traceback (most recent call last):\n",
            "  File \"/usr/local/lib/python3.7/dist-packages/IPython/extensions/autoreload.py\", line 247, in check\n",
            "    superreload(m, reload, self.old_objects)\n",
            "ValueError: __init__() requires a code object with 0 free vars, not 4\n",
            "]\n",
            "[autoreload of sklearn.preprocessing._data failed: Traceback (most recent call last):\n",
            "  File \"/usr/local/lib/python3.7/dist-packages/IPython/extensions/autoreload.py\", line 247, in check\n",
            "    superreload(m, reload, self.old_objects)\n",
            "ValueError: scale() requires a code object with 0 free vars, not 4\n",
            "]\n",
            "[autoreload of sklearn.preprocessing._encoders failed: Traceback (most recent call last):\n",
            "  File \"/usr/local/lib/python3.7/dist-packages/IPython/extensions/autoreload.py\", line 247, in check\n",
            "    superreload(m, reload, self.old_objects)\n",
            "ImportError: cannot import name '_encode_check_unknown' from 'sklearn.preprocessing._label' (/usr/local/lib/python3.7/dist-packages/sklearn/preprocessing/_label.py)\n",
            "]\n",
            "[autoreload of sklearn.preprocessing._label failed: Traceback (most recent call last):\n",
            "  File \"/usr/local/lib/python3.7/dist-packages/IPython/extensions/autoreload.py\", line 247, in check\n",
            "    superreload(m, reload, self.old_objects)\n",
            "ValueError: __init__() requires a code object with 0 free vars, not 4\n",
            "]\n",
            "[autoreload of sklearn.preprocessing._discretization failed: Traceback (most recent call last):\n",
            "  File \"/usr/local/lib/python3.7/dist-packages/IPython/extensions/autoreload.py\", line 247, in check\n",
            "    superreload(m, reload, self.old_objects)\n",
            "ValueError: __init__() requires a code object with 0 free vars, not 4\n",
            "]\n",
            "[autoreload of sklearn.metrics._classification failed: Traceback (most recent call last):\n",
            "  File \"/usr/local/lib/python3.7/dist-packages/IPython/extensions/autoreload.py\", line 247, in check\n",
            "    superreload(m, reload, self.old_objects)\n",
            "ValueError: accuracy_score() requires a code object with 0 free vars, not 4\n",
            "]\n",
            "[autoreload of sklearn.metrics.cluster._supervised failed: Traceback (most recent call last):\n",
            "  File \"/usr/local/lib/python3.7/dist-packages/IPython/extensions/autoreload.py\", line 247, in check\n",
            "    superreload(m, reload, self.old_objects)\n",
            "ValueError: contingency_matrix() requires a code object with 0 free vars, not 4\n",
            "]\n",
            "[autoreload of sklearn.metrics.cluster._unsupervised failed: Traceback (most recent call last):\n",
            "  File \"/usr/local/lib/python3.7/dist-packages/IPython/extensions/autoreload.py\", line 247, in check\n",
            "    superreload(m, reload, self.old_objects)\n",
            "ValueError: silhouette_score() requires a code object with 0 free vars, not 4\n",
            "]\n",
            "[autoreload of sklearn.metrics.pairwise failed: Traceback (most recent call last):\n",
            "  File \"/usr/local/lib/python3.7/dist-packages/IPython/extensions/autoreload.py\", line 247, in check\n",
            "    superreload(m, reload, self.old_objects)\n",
            "ValueError: check_pairwise_arrays() requires a code object with 0 free vars, not 4\n",
            "]\n",
            "[autoreload of sklearn.metrics.cluster._bicluster failed: Traceback (most recent call last):\n",
            "  File \"/usr/local/lib/python3.7/dist-packages/IPython/extensions/autoreload.py\", line 247, in check\n",
            "    superreload(m, reload, self.old_objects)\n",
            "ValueError: consensus_score() requires a code object with 0 free vars, not 4\n",
            "]\n",
            "[autoreload of sklearn.metrics._regression failed: Traceback (most recent call last):\n",
            "  File \"/usr/local/lib/python3.7/dist-packages/IPython/extensions/autoreload.py\", line 247, in check\n",
            "    superreload(m, reload, self.old_objects)\n",
            "ValueError: mean_absolute_error() requires a code object with 0 free vars, not 4\n",
            "]\n",
            "[autoreload of sklearn.metrics._scorer failed: Traceback (most recent call last):\n",
            "  File \"/usr/local/lib/python3.7/dist-packages/IPython/extensions/autoreload.py\", line 247, in check\n",
            "    superreload(m, reload, self.old_objects)\n",
            "ValueError: check_scoring() requires a code object with 0 free vars, not 4\n",
            "]\n",
            "[autoreload of sklearn.metrics._plot.roc_curve failed: Traceback (most recent call last):\n",
            "  File \"/usr/local/lib/python3.7/dist-packages/IPython/extensions/autoreload.py\", line 247, in check\n",
            "    superreload(m, reload, self.old_objects)\n",
            "ValueError: plot() requires a code object with 0 free vars, not 4\n",
            "]\n",
            "[autoreload of sklearn.metrics._plot.precision_recall_curve failed: Traceback (most recent call last):\n",
            "  File \"/usr/local/lib/python3.7/dist-packages/IPython/extensions/autoreload.py\", line 247, in check\n",
            "    superreload(m, reload, self.old_objects)\n",
            "ValueError: plot() requires a code object with 0 free vars, not 4\n",
            "]\n",
            "[autoreload of sklearn.metrics._plot.confusion_matrix failed: Traceback (most recent call last):\n",
            "  File \"/usr/local/lib/python3.7/dist-packages/IPython/extensions/autoreload.py\", line 247, in check\n",
            "    superreload(m, reload, self.old_objects)\n",
            "ValueError: plot() requires a code object with 0 free vars, not 4\n",
            "]\n",
            "[autoreload of sklearn.model_selection._search failed: Traceback (most recent call last):\n",
            "  File \"/usr/local/lib/python3.7/dist-packages/IPython/extensions/autoreload.py\", line 247, in check\n",
            "    superreload(m, reload, self.old_objects)\n",
            "ValueError: __init__() requires a code object with 0 free vars, not 4\n",
            "]\n",
            "[autoreload of sklearn.feature_extraction._dict_vectorizer failed: Traceback (most recent call last):\n",
            "  File \"/usr/local/lib/python3.7/dist-packages/IPython/extensions/autoreload.py\", line 247, in check\n",
            "    superreload(m, reload, self.old_objects)\n",
            "ValueError: __init__() requires a code object with 0 free vars, not 4\n",
            "]\n",
            "[autoreload of sklearn.feature_extraction._hash failed: Traceback (most recent call last):\n",
            "  File \"/usr/local/lib/python3.7/dist-packages/IPython/extensions/autoreload.py\", line 247, in check\n",
            "    superreload(m, reload, self.old_objects)\n",
            "ValueError: __init__() requires a code object with 0 free vars, not 4\n",
            "]\n",
            "[autoreload of sklearn.feature_extraction.image failed: Traceback (most recent call last):\n",
            "  File \"/usr/local/lib/python3.7/dist-packages/IPython/extensions/autoreload.py\", line 247, in check\n",
            "    superreload(m, reload, self.old_objects)\n",
            "ValueError: img_to_graph() requires a code object with 0 free vars, not 4\n",
            "]\n",
            "[autoreload of sklearn.feature_extraction.text failed: Traceback (most recent call last):\n",
            "  File \"/usr/local/lib/python3.7/dist-packages/IPython/extensions/autoreload.py\", line 247, in check\n",
            "    superreload(m, reload, self.old_objects)\n",
            "ValueError: __init__() requires a code object with 0 free vars, not 4\n",
            "]\n",
            "[autoreload of sklearn.datasets._base failed: Traceback (most recent call last):\n",
            "  File \"/usr/local/lib/python3.7/dist-packages/IPython/extensions/autoreload.py\", line 247, in check\n",
            "    superreload(m, reload, self.old_objects)\n",
            "ValueError: load_files() requires a code object with 0 free vars, not 4\n",
            "]\n",
            "[autoreload of sklearn.datasets._covtype failed: Traceback (most recent call last):\n",
            "  File \"/usr/local/lib/python3.7/dist-packages/IPython/extensions/autoreload.py\", line 247, in check\n",
            "    superreload(m, reload, self.old_objects)\n",
            "ValueError: fetch_covtype() requires a code object with 0 free vars, not 4\n",
            "]\n",
            "[autoreload of sklearn.datasets._kddcup99 failed: Traceback (most recent call last):\n",
            "  File \"/usr/local/lib/python3.7/dist-packages/IPython/extensions/autoreload.py\", line 247, in check\n",
            "    superreload(m, reload, self.old_objects)\n",
            "ValueError: fetch_kddcup99() requires a code object with 0 free vars, not 4\n",
            "]\n",
            "[autoreload of sklearn.datasets._lfw failed: Traceback (most recent call last):\n",
            "  File \"/usr/local/lib/python3.7/dist-packages/IPython/extensions/autoreload.py\", line 247, in check\n",
            "    superreload(m, reload, self.old_objects)\n",
            "ValueError: fetch_lfw_people() requires a code object with 0 free vars, not 4\n",
            "]\n",
            "[autoreload of sklearn.datasets._twenty_newsgroups failed: Traceback (most recent call last):\n",
            "  File \"/usr/local/lib/python3.7/dist-packages/IPython/extensions/autoreload.py\", line 247, in check\n",
            "    superreload(m, reload, self.old_objects)\n",
            "ValueError: fetch_20newsgroups() requires a code object with 0 free vars, not 4\n",
            "]\n",
            "[autoreload of sklearn.datasets._openml failed: Traceback (most recent call last):\n",
            "  File \"/usr/local/lib/python3.7/dist-packages/IPython/extensions/autoreload.py\", line 247, in check\n",
            "    superreload(m, reload, self.old_objects)\n",
            "ValueError: fetch_openml() requires a code object with 0 free vars, not 4\n",
            "]\n",
            "[autoreload of sklearn.datasets._samples_generator failed: Traceback (most recent call last):\n",
            "  File \"/usr/local/lib/python3.7/dist-packages/IPython/extensions/autoreload.py\", line 247, in check\n",
            "    superreload(m, reload, self.old_objects)\n",
            "ValueError: make_classification() requires a code object with 0 free vars, not 4\n",
            "]\n",
            "[autoreload of sklearn.datasets._svmlight_format_io failed: Traceback (most recent call last):\n",
            "  File \"/usr/local/lib/python3.7/dist-packages/IPython/extensions/autoreload.py\", line 247, in check\n",
            "    superreload(m, reload, self.old_objects)\n",
            "ValueError: load_svmlight_file() requires a code object with 0 free vars, not 4\n",
            "]\n",
            "[autoreload of sklearn.datasets._olivetti_faces failed: Traceback (most recent call last):\n",
            "  File \"/usr/local/lib/python3.7/dist-packages/IPython/extensions/autoreload.py\", line 247, in check\n",
            "    superreload(m, reload, self.old_objects)\n",
            "ValueError: fetch_olivetti_faces() requires a code object with 0 free vars, not 4\n",
            "]\n",
            "[autoreload of sklearn.datasets._species_distributions failed: Traceback (most recent call last):\n",
            "  File \"/usr/local/lib/python3.7/dist-packages/IPython/extensions/autoreload.py\", line 247, in check\n",
            "    superreload(m, reload, self.old_objects)\n",
            "ValueError: fetch_species_distributions() requires a code object with 0 free vars, not 4\n",
            "]\n",
            "[autoreload of sklearn.datasets._california_housing failed: Traceback (most recent call last):\n",
            "  File \"/usr/local/lib/python3.7/dist-packages/IPython/extensions/autoreload.py\", line 247, in check\n",
            "    superreload(m, reload, self.old_objects)\n",
            "ValueError: fetch_california_housing() requires a code object with 0 free vars, not 4\n",
            "]\n",
            "[autoreload of sklearn.datasets._rcv1 failed: Traceback (most recent call last):\n",
            "  File \"/usr/local/lib/python3.7/dist-packages/IPython/extensions/autoreload.py\", line 247, in check\n",
            "    superreload(m, reload, self.old_objects)\n",
            "ValueError: fetch_rcv1() requires a code object with 0 free vars, not 4\n",
            "]\n",
            "[autoreload of sklearn.svm._classes failed: Traceback (most recent call last):\n",
            "  File \"/usr/local/lib/python3.7/dist-packages/IPython/extensions/autoreload.py\", line 247, in check\n",
            "    superreload(m, reload, self.old_objects)\n",
            "ValueError: __init__() requires a code object with 0 free vars, not 4\n",
            "]\n",
            "[autoreload of sklearn.svm._base failed: Traceback (most recent call last):\n",
            "  File \"/usr/local/lib/python3.7/dist-packages/IPython/extensions/autoreload.py\", line 247, in check\n",
            "    superreload(m, reload, self.old_objects)\n",
            "ValueError: wrapped() requires a code object with 2 free vars, not 0\n",
            "]\n",
            "[autoreload of sklearn.linear_model._base failed: Traceback (most recent call last):\n",
            "  File \"/usr/local/lib/python3.7/dist-packages/IPython/extensions/autoreload.py\", line 247, in check\n",
            "    superreload(m, reload, self.old_objects)\n",
            "ValueError: __init__() requires a code object with 0 free vars, not 4\n",
            "]\n",
            "[autoreload of sklearn.linear_model._bayes failed: Traceback (most recent call last):\n",
            "  File \"/usr/local/lib/python3.7/dist-packages/IPython/extensions/autoreload.py\", line 247, in check\n",
            "    superreload(m, reload, self.old_objects)\n",
            "ValueError: __init__() requires a code object with 0 free vars, not 4\n",
            "]\n",
            "[autoreload of sklearn.linear_model._least_angle failed: Traceback (most recent call last):\n",
            "  File \"/usr/local/lib/python3.7/dist-packages/IPython/extensions/autoreload.py\", line 247, in check\n",
            "    superreload(m, reload, self.old_objects)\n",
            "ValueError: lars_path() requires a code object with 0 free vars, not 4\n",
            "]\n",
            "[autoreload of sklearn.linear_model._coordinate_descent failed: Traceback (most recent call last):\n",
            "  File \"/usr/local/lib/python3.7/dist-packages/IPython/extensions/autoreload.py\", line 247, in check\n",
            "    superreload(m, reload, self.old_objects)\n",
            "ValueError: lasso_path() requires a code object with 0 free vars, not 4\n",
            "]\n",
            "[autoreload of sklearn.linear_model._huber failed: Traceback (most recent call last):\n",
            "  File \"/usr/local/lib/python3.7/dist-packages/IPython/extensions/autoreload.py\", line 247, in check\n",
            "    superreload(m, reload, self.old_objects)\n",
            "ValueError: __init__() requires a code object with 0 free vars, not 4\n",
            "]\n",
            "[autoreload of sklearn.linear_model._stochastic_gradient failed: Traceback (most recent call last):\n",
            "  File \"/usr/local/lib/python3.7/dist-packages/IPython/extensions/autoreload.py\", line 247, in check\n",
            "    superreload(m, reload, self.old_objects)\n",
            "ValueError: __init__() requires a code object with 0 free vars, not 4\n",
            "]\n",
            "[autoreload of sklearn.linear_model._ridge failed: Traceback (most recent call last):\n",
            "  File \"/usr/local/lib/python3.7/dist-packages/IPython/extensions/autoreload.py\", line 247, in check\n",
            "    superreload(m, reload, self.old_objects)\n",
            "AttributeError: module 'scipy.sparse' has no attribute 'linalg'\n",
            "]\n",
            "[autoreload of sklearn.linear_model._sag failed: Traceback (most recent call last):\n",
            "  File \"/usr/local/lib/python3.7/dist-packages/IPython/extensions/autoreload.py\", line 247, in check\n",
            "    superreload(m, reload, self.old_objects)\n",
            "ValueError: sag_solver() requires a code object with 0 free vars, not 4\n",
            "]\n",
            "[autoreload of sklearn.linear_model._logistic failed: Traceback (most recent call last):\n",
            "  File \"/usr/local/lib/python3.7/dist-packages/IPython/extensions/autoreload.py\", line 247, in check\n",
            "    superreload(m, reload, self.old_objects)\n",
            "ValueError: __init__() requires a code object with 0 free vars, not 4\n",
            "]\n",
            "[autoreload of sklearn.linear_model._omp failed: Traceback (most recent call last):\n",
            "  File \"/usr/local/lib/python3.7/dist-packages/IPython/extensions/autoreload.py\", line 247, in check\n",
            "    superreload(m, reload, self.old_objects)\n",
            "ValueError: orthogonal_mp() requires a code object with 0 free vars, not 4\n",
            "]\n",
            "[autoreload of sklearn.linear_model._passive_aggressive failed: Traceback (most recent call last):\n",
            "  File \"/usr/local/lib/python3.7/dist-packages/IPython/extensions/autoreload.py\", line 247, in check\n",
            "    superreload(m, reload, self.old_objects)\n",
            "ValueError: __init__() requires a code object with 1 free vars, not 4\n",
            "]\n",
            "[autoreload of sklearn.linear_model._perceptron failed: Traceback (most recent call last):\n",
            "  File \"/usr/local/lib/python3.7/dist-packages/IPython/extensions/autoreload.py\", line 247, in check\n",
            "    superreload(m, reload, self.old_objects)\n",
            "ValueError: __init__() requires a code object with 1 free vars, not 4\n",
            "]\n",
            "[autoreload of sklearn.linear_model._ransac failed: Traceback (most recent call last):\n",
            "  File \"/usr/local/lib/python3.7/dist-packages/IPython/extensions/autoreload.py\", line 247, in check\n",
            "    superreload(m, reload, self.old_objects)\n",
            "ValueError: __init__() requires a code object with 0 free vars, not 4\n",
            "]\n",
            "[autoreload of sklearn.linear_model._theil_sen failed: Traceback (most recent call last):\n",
            "  File \"/usr/local/lib/python3.7/dist-packages/IPython/extensions/autoreload.py\", line 247, in check\n",
            "    superreload(m, reload, self.old_objects)\n",
            "ValueError: __init__() requires a code object with 0 free vars, not 4\n",
            "]\n",
            "[autoreload of sklearn.svm._bounds failed: Traceback (most recent call last):\n",
            "  File \"/usr/local/lib/python3.7/dist-packages/IPython/extensions/autoreload.py\", line 247, in check\n",
            "    superreload(m, reload, self.old_objects)\n",
            "ValueError: l1_min_c() requires a code object with 0 free vars, not 4\n",
            "]\n"
          ]
        },
        {
          "output_type": "stream",
          "name": "stdout",
          "text": [
            "Collecting en_core_web_sm==2.2.5\n",
            "  Downloading https://github.com/explosion/spacy-models/releases/download/en_core_web_sm-2.2.5/en_core_web_sm-2.2.5.tar.gz (12.0 MB)\n",
            "\u001b[K     |████████████████████████████████| 12.0 MB 7.8 MB/s \n",
            "\u001b[?25hRequirement already satisfied: spacy>=2.2.2 in /usr/local/lib/python3.7/dist-packages (from en_core_web_sm==2.2.5) (2.2.4)\n",
            "Requirement already satisfied: murmurhash<1.1.0,>=0.28.0 in /usr/local/lib/python3.7/dist-packages (from spacy>=2.2.2->en_core_web_sm==2.2.5) (1.0.6)\n",
            "Requirement already satisfied: plac<1.2.0,>=0.9.6 in /usr/local/lib/python3.7/dist-packages (from spacy>=2.2.2->en_core_web_sm==2.2.5) (1.1.3)\n",
            "Requirement already satisfied: requests<3.0.0,>=2.13.0 in /usr/local/lib/python3.7/dist-packages (from spacy>=2.2.2->en_core_web_sm==2.2.5) (2.27.1)\n",
            "Requirement already satisfied: preshed<3.1.0,>=3.0.2 in /usr/local/lib/python3.7/dist-packages (from spacy>=2.2.2->en_core_web_sm==2.2.5) (3.0.6)\n",
            "Requirement already satisfied: catalogue<1.1.0,>=0.0.7 in /usr/local/lib/python3.7/dist-packages (from spacy>=2.2.2->en_core_web_sm==2.2.5) (1.0.0)\n",
            "Requirement already satisfied: thinc==7.4.0 in /usr/local/lib/python3.7/dist-packages (from spacy>=2.2.2->en_core_web_sm==2.2.5) (7.4.0)\n",
            "Requirement already satisfied: tqdm<5.0.0,>=4.38.0 in /usr/local/lib/python3.7/dist-packages (from spacy>=2.2.2->en_core_web_sm==2.2.5) (4.62.3)\n",
            "Requirement already satisfied: setuptools in /usr/local/lib/python3.7/dist-packages (from spacy>=2.2.2->en_core_web_sm==2.2.5) (57.4.0)\n",
            "Requirement already satisfied: wasabi<1.1.0,>=0.4.0 in /usr/local/lib/python3.7/dist-packages (from spacy>=2.2.2->en_core_web_sm==2.2.5) (0.9.0)\n",
            "Requirement already satisfied: numpy>=1.15.0 in /usr/local/lib/python3.7/dist-packages (from spacy>=2.2.2->en_core_web_sm==2.2.5) (1.19.5)\n",
            "Requirement already satisfied: blis<0.5.0,>=0.4.0 in /usr/local/lib/python3.7/dist-packages (from spacy>=2.2.2->en_core_web_sm==2.2.5) (0.4.1)\n",
            "Requirement already satisfied: cymem<2.1.0,>=2.0.2 in /usr/local/lib/python3.7/dist-packages (from spacy>=2.2.2->en_core_web_sm==2.2.5) (2.0.6)\n",
            "Requirement already satisfied: srsly<1.1.0,>=1.0.2 in /usr/local/lib/python3.7/dist-packages (from spacy>=2.2.2->en_core_web_sm==2.2.5) (1.0.5)\n",
            "Requirement already satisfied: importlib-metadata>=0.20 in /usr/local/lib/python3.7/dist-packages (from catalogue<1.1.0,>=0.0.7->spacy>=2.2.2->en_core_web_sm==2.2.5) (4.10.1)\n",
            "Requirement already satisfied: typing-extensions>=3.6.4 in /usr/local/lib/python3.7/dist-packages (from importlib-metadata>=0.20->catalogue<1.1.0,>=0.0.7->spacy>=2.2.2->en_core_web_sm==2.2.5) (3.10.0.2)\n",
            "Requirement already satisfied: zipp>=0.5 in /usr/local/lib/python3.7/dist-packages (from importlib-metadata>=0.20->catalogue<1.1.0,>=0.0.7->spacy>=2.2.2->en_core_web_sm==2.2.5) (3.7.0)\n",
            "Requirement already satisfied: idna<4,>=2.5 in /usr/local/lib/python3.7/dist-packages (from requests<3.0.0,>=2.13.0->spacy>=2.2.2->en_core_web_sm==2.2.5) (2.10)\n",
            "Requirement already satisfied: certifi>=2017.4.17 in /usr/local/lib/python3.7/dist-packages (from requests<3.0.0,>=2.13.0->spacy>=2.2.2->en_core_web_sm==2.2.5) (2021.10.8)\n",
            "Requirement already satisfied: charset-normalizer~=2.0.0 in /usr/local/lib/python3.7/dist-packages (from requests<3.0.0,>=2.13.0->spacy>=2.2.2->en_core_web_sm==2.2.5) (2.0.11)\n",
            "Requirement already satisfied: urllib3<1.27,>=1.21.1 in /usr/local/lib/python3.7/dist-packages (from requests<3.0.0,>=2.13.0->spacy>=2.2.2->en_core_web_sm==2.2.5) (1.24.3)\n",
            "\u001b[38;5;2m✔ Download and installation successful\u001b[0m\n",
            "You can now load the model via spacy.load('en_core_web_sm')\n",
            "[nltk_data] Downloading package brown to /root/nltk_data...\n",
            "[nltk_data]   Unzipping corpora/brown.zip.\n",
            "[nltk_data] Downloading package punkt to /root/nltk_data...\n",
            "[nltk_data]   Unzipping tokenizers/punkt.zip.\n",
            "[nltk_data] Downloading package wordnet to /root/nltk_data...\n",
            "[nltk_data]   Unzipping corpora/wordnet.zip.\n",
            "[nltk_data] Downloading package averaged_perceptron_tagger to\n",
            "[nltk_data]     /root/nltk_data...\n",
            "[nltk_data]   Unzipping taggers/averaged_perceptron_tagger.zip.\n",
            "[nltk_data] Downloading package conll2000 to /root/nltk_data...\n",
            "[nltk_data]   Unzipping corpora/conll2000.zip.\n",
            "[nltk_data] Downloading package movie_reviews to /root/nltk_data...\n",
            "[nltk_data]   Unzipping corpora/movie_reviews.zip.\n",
            "Finished.\n"
          ]
        }
      ]
    },
    {
      "cell_type": "code",
      "source": [
        "from pycaret.nlp import *\n",
        "import scipy.linalg"
      ],
      "metadata": {
        "id": "p1QkpKq5lCh-"
      },
      "execution_count": 49,
      "outputs": []
    },
    {
      "cell_type": "code",
      "source": [
        "# initialize the setup\n",
        "nlp = setup(data = data, target = \"Attribute_Business_Name\", session_id = 42)"
      ],
      "metadata": {
        "id": "zevKOTrHLMDP",
        "colab": {
          "base_uri": "https://localhost:8080/",
          "height": 539,
          "referenced_widgets": [
            "79b3baad3b894c67aada9a85d1fd9e0e",
            "1022d29451c2403d8c371ebe362f2faa",
            "a2747525840c44369b2880fcb13f5db1"
          ]
        },
        "outputId": "8acc2c74-5b77-4f90-a0d8-965e4aa22394"
      },
      "execution_count": 50,
      "outputs": [
        {
          "output_type": "stream",
          "name": "stderr",
          "text": [
            "/usr/local/lib/python3.7/dist-packages/past/types/oldstr.py:5: DeprecationWarning: Using or importing the ABCs from 'collections' instead of from 'collections.abc' is deprecated since Python 3.3,and in 3.9 it will stop working\n",
            "  from collections import Iterable\n"
          ]
        },
        {
          "output_type": "display_data",
          "data": {
            "application/vnd.jupyter.widget-view+json": {
              "model_id": "79b3baad3b894c67aada9a85d1fd9e0e",
              "version_minor": 0,
              "version_major": 2
            },
            "text/plain": [
              "IntProgress(value=0, description='Processing: ', max=11)"
            ]
          },
          "metadata": {}
        },
        {
          "output_type": "display_data",
          "data": {
            "text/html": [
              "\n",
              "  <div id=\"df-858d555d-682b-47e4-bca2-70e7dc999fcd\">\n",
              "    <div class=\"colab-df-container\">\n",
              "      <div>\n",
              "<style scoped>\n",
              "    .dataframe tbody tr th:only-of-type {\n",
              "        vertical-align: middle;\n",
              "    }\n",
              "\n",
              "    .dataframe tbody tr th {\n",
              "        vertical-align: top;\n",
              "    }\n",
              "\n",
              "    .dataframe thead th {\n",
              "        text-align: right;\n",
              "    }\n",
              "</style>\n",
              "<table border=\"1\" class=\"dataframe\">\n",
              "  <thead>\n",
              "    <tr style=\"text-align: right;\">\n",
              "      <th></th>\n",
              "      <th></th>\n",
              "      <th></th>\n",
              "    </tr>\n",
              "    <tr>\n",
              "      <th></th>\n",
              "      <th></th>\n",
              "      <th></th>\n",
              "    </tr>\n",
              "  </thead>\n",
              "  <tbody>\n",
              "    <tr>\n",
              "      <th>Initiated</th>\n",
              "      <td>. . . . . . . . . . . . . . . . . .</td>\n",
              "      <td>10:07:44</td>\n",
              "    </tr>\n",
              "    <tr>\n",
              "      <th>Status</th>\n",
              "      <td>. . . . . . . . . . . . . . . . . .</td>\n",
              "      <td>Loading Dependencies</td>\n",
              "    </tr>\n",
              "    <tr>\n",
              "      <th>Step</th>\n",
              "      <td>. . . . . . . . . . . . . . . . . .</td>\n",
              "      <td>Step 0 of 9</td>\n",
              "    </tr>\n",
              "  </tbody>\n",
              "</table>\n",
              "</div>\n",
              "      <button class=\"colab-df-convert\" onclick=\"convertToInteractive('df-858d555d-682b-47e4-bca2-70e7dc999fcd')\"\n",
              "              title=\"Convert this dataframe to an interactive table.\"\n",
              "              style=\"display:none;\">\n",
              "        \n",
              "  <svg xmlns=\"http://www.w3.org/2000/svg\" height=\"24px\"viewBox=\"0 0 24 24\"\n",
              "       width=\"24px\">\n",
              "    <path d=\"M0 0h24v24H0V0z\" fill=\"none\"/>\n",
              "    <path d=\"M18.56 5.44l.94 2.06.94-2.06 2.06-.94-2.06-.94-.94-2.06-.94 2.06-2.06.94zm-11 1L8.5 8.5l.94-2.06 2.06-.94-2.06-.94L8.5 2.5l-.94 2.06-2.06.94zm10 10l.94 2.06.94-2.06 2.06-.94-2.06-.94-.94-2.06-.94 2.06-2.06.94z\"/><path d=\"M17.41 7.96l-1.37-1.37c-.4-.4-.92-.59-1.43-.59-.52 0-1.04.2-1.43.59L10.3 9.45l-7.72 7.72c-.78.78-.78 2.05 0 2.83L4 21.41c.39.39.9.59 1.41.59.51 0 1.02-.2 1.41-.59l7.78-7.78 2.81-2.81c.8-.78.8-2.07 0-2.86zM5.41 20L4 18.59l7.72-7.72 1.47 1.35L5.41 20z\"/>\n",
              "  </svg>\n",
              "      </button>\n",
              "      \n",
              "  <style>\n",
              "    .colab-df-container {\n",
              "      display:flex;\n",
              "      flex-wrap:wrap;\n",
              "      gap: 12px;\n",
              "    }\n",
              "\n",
              "    .colab-df-convert {\n",
              "      background-color: #E8F0FE;\n",
              "      border: none;\n",
              "      border-radius: 50%;\n",
              "      cursor: pointer;\n",
              "      display: none;\n",
              "      fill: #1967D2;\n",
              "      height: 32px;\n",
              "      padding: 0 0 0 0;\n",
              "      width: 32px;\n",
              "    }\n",
              "\n",
              "    .colab-df-convert:hover {\n",
              "      background-color: #E2EBFA;\n",
              "      box-shadow: 0px 1px 2px rgba(60, 64, 67, 0.3), 0px 1px 3px 1px rgba(60, 64, 67, 0.15);\n",
              "      fill: #174EA6;\n",
              "    }\n",
              "\n",
              "    [theme=dark] .colab-df-convert {\n",
              "      background-color: #3B4455;\n",
              "      fill: #D2E3FC;\n",
              "    }\n",
              "\n",
              "    [theme=dark] .colab-df-convert:hover {\n",
              "      background-color: #434B5C;\n",
              "      box-shadow: 0px 1px 3px 1px rgba(0, 0, 0, 0.15);\n",
              "      filter: drop-shadow(0px 1px 2px rgba(0, 0, 0, 0.3));\n",
              "      fill: #FFFFFF;\n",
              "    }\n",
              "  </style>\n",
              "\n",
              "      <script>\n",
              "        const buttonEl =\n",
              "          document.querySelector('#df-858d555d-682b-47e4-bca2-70e7dc999fcd button.colab-df-convert');\n",
              "        buttonEl.style.display =\n",
              "          google.colab.kernel.accessAllowed ? 'block' : 'none';\n",
              "\n",
              "        async function convertToInteractive(key) {\n",
              "          const element = document.querySelector('#df-858d555d-682b-47e4-bca2-70e7dc999fcd');\n",
              "          const dataTable =\n",
              "            await google.colab.kernel.invokeFunction('convertToInteractive',\n",
              "                                                     [key], {});\n",
              "          if (!dataTable) return;\n",
              "\n",
              "          const docLinkHtml = 'Like what you see? Visit the ' +\n",
              "            '<a target=\"_blank\" href=https://colab.research.google.com/notebooks/data_table.ipynb>data table notebook</a>'\n",
              "            + ' to learn more about interactive tables.';\n",
              "          element.innerHTML = '';\n",
              "          dataTable['output_type'] = 'display_data';\n",
              "          await google.colab.output.renderOutput(dataTable, element);\n",
              "          const docLink = document.createElement('div');\n",
              "          docLink.innerHTML = docLinkHtml;\n",
              "          element.appendChild(docLink);\n",
              "        }\n",
              "      </script>\n",
              "    </div>\n",
              "  </div>\n",
              "  "
            ],
            "text/plain": [
              "                                                                    \n",
              "                                                                    \n",
              "Initiated  . . . . . . . . . . . . . . . . . .              10:07:44\n",
              "Status     . . . . . . . . . . . . . . . . . .  Loading Dependencies\n",
              "Step       . . . . . . . . . . . . . . . . . .           Step 0 of 9"
            ]
          },
          "metadata": {}
        },
        {
          "output_type": "error",
          "ename": "AttributeError",
          "evalue": "ignored",
          "traceback": [
            "\u001b[0;31m---------------------------------------------------------------------------\u001b[0m",
            "\u001b[0;31mAttributeError\u001b[0m                            Traceback (most recent call last)",
            "\u001b[0;32m<ipython-input-50-6b5f2da732fc>\u001b[0m in \u001b[0;36m<module>\u001b[0;34m()\u001b[0m\n\u001b[1;32m      1\u001b[0m \u001b[0;31m# initialize the setup\u001b[0m\u001b[0;34m\u001b[0m\u001b[0;34m\u001b[0m\u001b[0;34m\u001b[0m\u001b[0m\n\u001b[0;32m----> 2\u001b[0;31m \u001b[0mnlp\u001b[0m \u001b[0;34m=\u001b[0m \u001b[0msetup\u001b[0m\u001b[0;34m(\u001b[0m\u001b[0mdata\u001b[0m \u001b[0;34m=\u001b[0m \u001b[0mdata\u001b[0m\u001b[0;34m,\u001b[0m \u001b[0mtarget\u001b[0m \u001b[0;34m=\u001b[0m \u001b[0;34m\"Attribute_Business_Name\"\u001b[0m\u001b[0;34m,\u001b[0m \u001b[0msession_id\u001b[0m \u001b[0;34m=\u001b[0m \u001b[0;36m42\u001b[0m\u001b[0;34m)\u001b[0m\u001b[0;34m\u001b[0m\u001b[0;34m\u001b[0m\u001b[0m\n\u001b[0m",
            "\u001b[0;32m/usr/local/lib/python3.7/dist-packages/pycaret/nlp.py\u001b[0m in \u001b[0;36msetup\u001b[0;34m(data, target, custom_stopwords, html, session_id, log_experiment, experiment_name, log_plots, log_data, verbose)\u001b[0m\n\u001b[1;32m    405\u001b[0m     \u001b[0;32mimport\u001b[0m \u001b[0mrandom\u001b[0m\u001b[0;34m\u001b[0m\u001b[0;34m\u001b[0m\u001b[0m\n\u001b[1;32m    406\u001b[0m     \u001b[0;32mimport\u001b[0m \u001b[0mspacy\u001b[0m\u001b[0;34m\u001b[0m\u001b[0;34m\u001b[0m\u001b[0m\n\u001b[0;32m--> 407\u001b[0;31m     \u001b[0;32mimport\u001b[0m \u001b[0mgensim\u001b[0m\u001b[0;34m\u001b[0m\u001b[0;34m\u001b[0m\u001b[0m\n\u001b[0m\u001b[1;32m    408\u001b[0m     \u001b[0;32mimport\u001b[0m \u001b[0mgensim\u001b[0m\u001b[0;34m.\u001b[0m\u001b[0mcorpora\u001b[0m \u001b[0;32mas\u001b[0m \u001b[0mcorpora\u001b[0m\u001b[0;34m\u001b[0m\u001b[0;34m\u001b[0m\u001b[0m\n\u001b[1;32m    409\u001b[0m     \u001b[0;32mfrom\u001b[0m \u001b[0mgensim\u001b[0m\u001b[0;34m.\u001b[0m\u001b[0mutils\u001b[0m \u001b[0;32mimport\u001b[0m \u001b[0msimple_preprocess\u001b[0m\u001b[0;34m\u001b[0m\u001b[0;34m\u001b[0m\u001b[0m\n",
            "\u001b[0;32m/usr/local/lib/python3.7/dist-packages/gensim/__init__.py\u001b[0m in \u001b[0;36m<module>\u001b[0;34m()\u001b[0m\n\u001b[1;32m      3\u001b[0m \"\"\"\n\u001b[1;32m      4\u001b[0m \u001b[0;34m\u001b[0m\u001b[0m\n\u001b[0;32m----> 5\u001b[0;31m \u001b[0;32mfrom\u001b[0m \u001b[0mgensim\u001b[0m \u001b[0;32mimport\u001b[0m \u001b[0mparsing\u001b[0m\u001b[0;34m,\u001b[0m \u001b[0mcorpora\u001b[0m\u001b[0;34m,\u001b[0m \u001b[0mmatutils\u001b[0m\u001b[0;34m,\u001b[0m \u001b[0minterfaces\u001b[0m\u001b[0;34m,\u001b[0m \u001b[0mmodels\u001b[0m\u001b[0;34m,\u001b[0m \u001b[0msimilarities\u001b[0m\u001b[0;34m,\u001b[0m \u001b[0msummarization\u001b[0m\u001b[0;34m,\u001b[0m \u001b[0mutils\u001b[0m  \u001b[0;31m# noqa:F401\u001b[0m\u001b[0;34m\u001b[0m\u001b[0;34m\u001b[0m\u001b[0m\n\u001b[0m\u001b[1;32m      6\u001b[0m \u001b[0;32mimport\u001b[0m \u001b[0mlogging\u001b[0m\u001b[0;34m\u001b[0m\u001b[0;34m\u001b[0m\u001b[0m\n\u001b[1;32m      7\u001b[0m \u001b[0;34m\u001b[0m\u001b[0m\n",
            "\u001b[0;32m/usr/local/lib/python3.7/dist-packages/gensim/corpora/__init__.py\u001b[0m in \u001b[0;36m<module>\u001b[0;34m()\u001b[0m\n\u001b[1;32m      4\u001b[0m \u001b[0;34m\u001b[0m\u001b[0m\n\u001b[1;32m      5\u001b[0m \u001b[0;31m# bring corpus classes directly into package namespace, to save some typing\u001b[0m\u001b[0;34m\u001b[0m\u001b[0;34m\u001b[0m\u001b[0;34m\u001b[0m\u001b[0m\n\u001b[0;32m----> 6\u001b[0;31m \u001b[0;32mfrom\u001b[0m \u001b[0;34m.\u001b[0m\u001b[0mindexedcorpus\u001b[0m \u001b[0;32mimport\u001b[0m \u001b[0mIndexedCorpus\u001b[0m  \u001b[0;31m# noqa:F401 must appear before the other classes\u001b[0m\u001b[0;34m\u001b[0m\u001b[0;34m\u001b[0m\u001b[0m\n\u001b[0m\u001b[1;32m      7\u001b[0m \u001b[0;34m\u001b[0m\u001b[0m\n\u001b[1;32m      8\u001b[0m \u001b[0;32mfrom\u001b[0m \u001b[0;34m.\u001b[0m\u001b[0mmmcorpus\u001b[0m \u001b[0;32mimport\u001b[0m \u001b[0mMmCorpus\u001b[0m  \u001b[0;31m# noqa:F401\u001b[0m\u001b[0;34m\u001b[0m\u001b[0;34m\u001b[0m\u001b[0m\n",
            "\u001b[0;32m/usr/local/lib/python3.7/dist-packages/gensim/corpora/indexedcorpus.py\u001b[0m in \u001b[0;36m<module>\u001b[0;34m()\u001b[0m\n\u001b[1;32m     13\u001b[0m \u001b[0;32mimport\u001b[0m \u001b[0mnumpy\u001b[0m\u001b[0;34m\u001b[0m\u001b[0;34m\u001b[0m\u001b[0m\n\u001b[1;32m     14\u001b[0m \u001b[0;34m\u001b[0m\u001b[0m\n\u001b[0;32m---> 15\u001b[0;31m \u001b[0;32mfrom\u001b[0m \u001b[0mgensim\u001b[0m \u001b[0;32mimport\u001b[0m \u001b[0minterfaces\u001b[0m\u001b[0;34m,\u001b[0m \u001b[0mutils\u001b[0m\u001b[0;34m\u001b[0m\u001b[0;34m\u001b[0m\u001b[0m\n\u001b[0m\u001b[1;32m     16\u001b[0m \u001b[0;34m\u001b[0m\u001b[0m\n\u001b[1;32m     17\u001b[0m \u001b[0mlogger\u001b[0m \u001b[0;34m=\u001b[0m \u001b[0mlogging\u001b[0m\u001b[0;34m.\u001b[0m\u001b[0mgetLogger\u001b[0m\u001b[0;34m(\u001b[0m\u001b[0m__name__\u001b[0m\u001b[0;34m)\u001b[0m\u001b[0;34m\u001b[0m\u001b[0;34m\u001b[0m\u001b[0m\n",
            "\u001b[0;32m/usr/local/lib/python3.7/dist-packages/gensim/interfaces.py\u001b[0m in \u001b[0;36m<module>\u001b[0;34m()\u001b[0m\n\u001b[1;32m     19\u001b[0m \u001b[0;32mimport\u001b[0m \u001b[0mlogging\u001b[0m\u001b[0;34m\u001b[0m\u001b[0;34m\u001b[0m\u001b[0m\n\u001b[1;32m     20\u001b[0m \u001b[0;34m\u001b[0m\u001b[0m\n\u001b[0;32m---> 21\u001b[0;31m \u001b[0;32mfrom\u001b[0m \u001b[0mgensim\u001b[0m \u001b[0;32mimport\u001b[0m \u001b[0mutils\u001b[0m\u001b[0;34m,\u001b[0m \u001b[0mmatutils\u001b[0m\u001b[0;34m\u001b[0m\u001b[0;34m\u001b[0m\u001b[0m\n\u001b[0m\u001b[1;32m     22\u001b[0m \u001b[0;32mfrom\u001b[0m \u001b[0msix\u001b[0m\u001b[0;34m.\u001b[0m\u001b[0mmoves\u001b[0m \u001b[0;32mimport\u001b[0m \u001b[0mxrange\u001b[0m\u001b[0;34m\u001b[0m\u001b[0;34m\u001b[0m\u001b[0m\n\u001b[1;32m     23\u001b[0m \u001b[0;34m\u001b[0m\u001b[0m\n",
            "\u001b[0;32m/usr/local/lib/python3.7/dist-packages/gensim/matutils.py\u001b[0m in \u001b[0;36m<module>\u001b[0;34m()\u001b[0m\n\u001b[1;32m    678\u001b[0m \u001b[0;34m\u001b[0m\u001b[0m\n\u001b[1;32m    679\u001b[0m \u001b[0;34m\u001b[0m\u001b[0m\n\u001b[0;32m--> 680\u001b[0;31m \u001b[0mblas_nrm2\u001b[0m \u001b[0;34m=\u001b[0m \u001b[0mblas\u001b[0m\u001b[0;34m(\u001b[0m\u001b[0;34m'nrm2'\u001b[0m\u001b[0;34m,\u001b[0m \u001b[0mnp\u001b[0m\u001b[0;34m.\u001b[0m\u001b[0marray\u001b[0m\u001b[0;34m(\u001b[0m\u001b[0;34m[\u001b[0m\u001b[0;34m]\u001b[0m\u001b[0;34m,\u001b[0m \u001b[0mdtype\u001b[0m\u001b[0;34m=\u001b[0m\u001b[0mfloat\u001b[0m\u001b[0;34m)\u001b[0m\u001b[0;34m)\u001b[0m\u001b[0;34m\u001b[0m\u001b[0;34m\u001b[0m\u001b[0m\n\u001b[0m\u001b[1;32m    681\u001b[0m \u001b[0mblas_scal\u001b[0m \u001b[0;34m=\u001b[0m \u001b[0mblas\u001b[0m\u001b[0;34m(\u001b[0m\u001b[0;34m'scal'\u001b[0m\u001b[0;34m,\u001b[0m \u001b[0mnp\u001b[0m\u001b[0;34m.\u001b[0m\u001b[0marray\u001b[0m\u001b[0;34m(\u001b[0m\u001b[0;34m[\u001b[0m\u001b[0;34m]\u001b[0m\u001b[0;34m,\u001b[0m \u001b[0mdtype\u001b[0m\u001b[0;34m=\u001b[0m\u001b[0mfloat\u001b[0m\u001b[0;34m)\u001b[0m\u001b[0;34m)\u001b[0m\u001b[0;34m\u001b[0m\u001b[0;34m\u001b[0m\u001b[0m\n\u001b[1;32m    682\u001b[0m \u001b[0;34m\u001b[0m\u001b[0m\n",
            "\u001b[0;32m/usr/local/lib/python3.7/dist-packages/gensim/matutils.py\u001b[0m in \u001b[0;36mblas\u001b[0;34m(name, ndarray)\u001b[0m\n\u001b[1;32m     47\u001b[0m \u001b[0;34m\u001b[0m\u001b[0m\n\u001b[1;32m     48\u001b[0m     \"\"\"\n\u001b[0;32m---> 49\u001b[0;31m     \u001b[0;32mreturn\u001b[0m \u001b[0mscipy\u001b[0m\u001b[0;34m.\u001b[0m\u001b[0mlinalg\u001b[0m\u001b[0;34m.\u001b[0m\u001b[0mget_blas_funcs\u001b[0m\u001b[0;34m(\u001b[0m\u001b[0;34m(\u001b[0m\u001b[0mname\u001b[0m\u001b[0;34m,\u001b[0m\u001b[0;34m)\u001b[0m\u001b[0;34m,\u001b[0m \u001b[0;34m(\u001b[0m\u001b[0mndarray\u001b[0m\u001b[0;34m,\u001b[0m\u001b[0;34m)\u001b[0m\u001b[0;34m)\u001b[0m\u001b[0;34m[\u001b[0m\u001b[0;36m0\u001b[0m\u001b[0;34m]\u001b[0m\u001b[0;34m\u001b[0m\u001b[0;34m\u001b[0m\u001b[0m\n\u001b[0m\u001b[1;32m     50\u001b[0m \u001b[0;34m\u001b[0m\u001b[0m\n\u001b[1;32m     51\u001b[0m \u001b[0;34m\u001b[0m\u001b[0m\n",
            "\u001b[0;31mAttributeError\u001b[0m: module 'scipy' has no attribute 'linalg'"
          ]
        }
      ]
    },
    {
      "cell_type": "code",
      "source": [
        "lda = create_model('lda', num_topics = 10, multi_core = True)"
      ],
      "metadata": {
        "id": "gs_8-DYhJo0V"
      },
      "execution_count": null,
      "outputs": []
    },
    {
      "cell_type": "code",
      "source": [
        "df_lda = assign_model(lda)"
      ],
      "metadata": {
        "id": "ZPuvHbYkJou1"
      },
      "execution_count": null,
      "outputs": []
    },
    {
      "cell_type": "code",
      "source": [
        "df_lda.head()"
      ],
      "metadata": {
        "id": "8dTuByIzJoq-"
      },
      "execution_count": null,
      "outputs": []
    },
    {
      "cell_type": "code",
      "source": [
        "from pycaret.utils import enable_colab\n",
        "enable_colab()"
      ],
      "metadata": {
        "id": "WX9bB0DYPSpB"
      },
      "execution_count": null,
      "outputs": []
    },
    {
      "cell_type": "markdown",
      "source": [
        " PyCarets offers a variety of plots. The type of graph generated will depend on the plot parameter. Here is the list of currently available visualizations:\n",
        "- ‘frequency’: Word Token Frequency (default)\n",
        "- ‘distribution’: Word Distribution Plot\n",
        "- ‘bigram’: Bigram Frequency Plot\n",
        "- ‘trigram’: Trigram Frequency Plot\n",
        "- ‘sentiment’: Sentiment Polarity Plot\n",
        "- ‘pos’: Part of Speech Frequency\n",
        "- ‘tsne’: t-SNE (3d) Dimension Plot\n",
        "- ‘topic_model’ : Topic Model (pyLDAvis)\n",
        "- ‘topic_distribution’ : Topic Infer Distribution\n",
        "- ‘wordcloud’: Word cloud\n",
        "- ‘umap’: UMAP Dimensionality Plot"
      ],
      "metadata": {
        "id": "v54DrtkUPmog"
      }
    },
    {
      "cell_type": "code",
      "source": [
        "plot_model(lda, plot=\"topic_model\")\n",
        "plot_model(lda, plot=\"topic_distribution\")"
      ],
      "metadata": {
        "id": "Gd2NiTTiP1Lw"
      },
      "execution_count": null,
      "outputs": []
    },
    {
      "cell_type": "code",
      "source": [
        "plot_model(lda, plot='frequency', topic_num = 'Topic 1')\n"
      ],
      "metadata": {
        "id": "fJjhX-I8JomP"
      },
      "execution_count": null,
      "outputs": []
    },
    {
      "cell_type": "markdown",
      "source": [
        "broken approach following"
      ],
      "metadata": {
        "id": "gYydelgckT3t"
      }
    },
    {
      "cell_type": "code",
      "source": [
        "import nltk\n",
        "from nltk import PorterStemmer, WordNetLemmatizer, word_tokenize \n",
        "nltk.download('punkt')\n",
        "nltk.download('wordnet')\n",
        "\n",
        "def preprocess_news(df):\n",
        "    corpus=[]\n",
        "    stem=PorterStemmer()\n",
        "    lem=WordNetLemmatizer()\n",
        "    for label in data['Attribute_Business_Name']:\n",
        "        words=[w for w in word_tokenize(label) if (w not in stop)]\n",
        "        \n",
        "        words=[lem.lemmatize(w) for w in words if len(w)>2]\n",
        "        \n",
        "        corpus.append(words)\n",
        "    return corpus\n",
        "\n",
        "corpus=preprocess_news(data)"
      ],
      "metadata": {
        "id": "et3l7607dpbR"
      },
      "execution_count": null,
      "outputs": []
    },
    {
      "cell_type": "code",
      "source": [
        "!pip install gensim"
      ],
      "metadata": {
        "id": "vBm7vYRmfs1D"
      },
      "execution_count": null,
      "outputs": []
    },
    {
      "cell_type": "code",
      "source": [
        "import gensim\n",
        "dic=gensim.corpora.Dictionary(corpus)\n",
        "bow_corpus = [dic.doc2bow(doc) for doc in corpus]"
      ],
      "metadata": {
        "id": "UUvgaliJfiXB"
      },
      "execution_count": null,
      "outputs": []
    },
    {
      "cell_type": "code",
      "source": [
        "lda_model = gensim.models.LdaMulticore(bow_corpus, \n",
        "                                   num_topics = 4, \n",
        "                                   id2word = dic,                                    \n",
        "                                   passes = 10,\n",
        "                                   workers = 2)\n",
        "lda_model.show_topics()\n"
      ],
      "metadata": {
        "id": "vSXIL1WGf1cJ"
      },
      "execution_count": null,
      "outputs": []
    },
    {
      "cell_type": "code",
      "source": [
        "!pip install pyldavis"
      ],
      "metadata": {
        "id": "JaQPJxOfgDHM"
      },
      "execution_count": null,
      "outputs": []
    },
    {
      "cell_type": "code",
      "source": [
        "# Code Snippet for Creating LDA visualization\n",
        "\n",
        "import numpy as np\n",
        "import nltk\n",
        "from nltk.corpus import stopwords\n",
        "import gensim\n",
        "from nltk.stem import WordNetLemmatizer,PorterStemmer\n",
        "from nltk.tokenize import word_tokenize\n",
        "import pyLDAvis.gensim_models\n",
        "\n",
        "\n",
        "def get_lda_objects(text):\n",
        "    nltk.download('stopwords')    \n",
        "    stop=set(stopwords.words('english'))\n",
        "\n",
        "    \n",
        "    def _preprocess_text(text):\n",
        "        corpus=[]\n",
        "        stem=PorterStemmer()\n",
        "        lem=WordNetLemmatizer()\n",
        "        for label in text:\n",
        "            words=[w for w in word_tokenize(label) if (w not in stop)]\n",
        "\n",
        "            words=[lem.lemmatize(w) for w in words if len(w)>2]\n",
        "\n",
        "            corpus.append(words)\n",
        "        return corpus\n",
        "    \n",
        "    corpus=_preprocess_text(text)\n",
        "    \n",
        "    dic=gensim.corpora.Dictionary(corpus)\n",
        "    bow_corpus = [dic.doc2bow(doc) for doc in corpus]\n",
        "    \n",
        "    lda_model =  gensim.models.LdaMulticore(bow_corpus, \n",
        "                                   num_topics = 4, \n",
        "                                   id2word = dic,                                    \n",
        "                                   passes = 10,\n",
        "                                   workers = 2)\n",
        "    \n",
        "    return lda_model, bow_corpus, dic\n",
        "\n",
        "def plot_lda_vis(lda_model, bow_corpus, dic):\n",
        "    pyLDAvis.enable_notebook()\n",
        "    vis = pyLDAvis.gensim_models.prepare(lda_model, bow_corpus, dic)\n",
        "    return vis"
      ],
      "metadata": {
        "id": "PyOTPdeyg-VM"
      },
      "execution_count": null,
      "outputs": []
    },
    {
      "cell_type": "code",
      "source": [
        "import pyLDAvis\n",
        "import pyLDAvis.gensim_models as gensimvis\n",
        "pyLDAvis.enable_notebook()\n",
        "\n",
        "vis = pyLDAvis.gensim_models.prepare(lda_model, bow_corpus, dic)\n",
        "vis"
      ],
      "metadata": {
        "id": "Nq-vcXxXf7zq"
      },
      "execution_count": null,
      "outputs": []
    },
    {
      "cell_type": "code",
      "source": [
        "pip install git+https://github.com/NBCLab/abbr"
      ],
      "metadata": {
        "id": "U1tIiSQVYXfc"
      },
      "execution_count": null,
      "outputs": []
    },
    {
      "cell_type": "code",
      "source": [
        "import abbr"
      ],
      "metadata": {
        "id": "-Me0b3exlukY"
      },
      "execution_count": null,
      "outputs": []
    },
    {
      "cell_type": "markdown",
      "source": [
        ""
      ],
      "metadata": {
        "id": "bUPfztsdluJy"
      }
    },
    {
      "cell_type": "code",
      "source": [
        "from abbr import findall, expandall\n"
      ],
      "metadata": {
        "id": "w56LrJFqloiN"
      },
      "execution_count": null,
      "outputs": []
    },
    {
      "cell_type": "code",
      "source": [
        "#prep_data = \" \".join(prep_data)\n",
        "abbr_data= []\n",
        "for string in prep_data:\n",
        "  map_object = map(expandall, string)\n",
        "  new_list = list(map_object)\n",
        "  abbr_data.append(new_list) \n"
      ],
      "metadata": {
        "id": "p0GMR6rQapmT"
      },
      "execution_count": null,
      "outputs": []
    },
    {
      "cell_type": "code",
      "source": [
        "# abbr did nothing: BOO!\n",
        "list_difference = [item for item in abbr_data if item not in prep_data]\n",
        "list_difference"
      ],
      "metadata": {
        "id": "Zvr9zIcf0BjP"
      },
      "execution_count": null,
      "outputs": []
    },
    {
      "cell_type": "markdown",
      "source": [
        ""
      ],
      "metadata": {
        "id": "nu5G1jHB-IcC"
      }
    },
    {
      "cell_type": "code",
      "source": [
        "# install autocorrect\n",
        "!pip install autocorrect"
      ],
      "metadata": {
        "id": "P-eahSgLaZIP"
      },
      "execution_count": null,
      "outputs": []
    },
    {
      "cell_type": "code",
      "source": [
        "from autocorrect import Speller\n",
        "# autocorrect will run faster as a numpy array"
      ],
      "metadata": {
        "id": "en-7Jx3k9tvb"
      },
      "execution_count": null,
      "outputs": []
    },
    {
      "cell_type": "code",
      "source": [
        "def autocorrect(doc):\n",
        "  autocorr_doc = []\n",
        "  spell = Speller() #spell(data)\n",
        "  # use lambda function and list comprehension to loop over strings\n",
        "  autocorr_text = [spell(x) for x in doc]\n",
        "  autocorr_doc.append(autocorr_text)\n",
        "  return autocorr_text #autocorr_doc"
      ],
      "metadata": {
        "id": "8wBRVsfb9xXy"
      },
      "execution_count": null,
      "outputs": []
    },
    {
      "cell_type": "code",
      "source": [
        "autocorrect(prep_data)\n"
      ],
      "metadata": {
        "id": "a1UVUjAZaZQd"
      },
      "execution_count": null,
      "outputs": []
    },
    {
      "cell_type": "code",
      "source": [
        "from wordcloud import WordCloud, STOPWORDS\n",
        "stopwords = set(STOPWORDS)\n",
        "\n",
        "def show_wordcloud(data):\n",
        "    wordcloud = WordCloud(\n",
        "        background_color='white',\n",
        "        stopwords=stopwords,\n",
        "        max_words=100,\n",
        "        max_font_size=30,\n",
        "        scale=3,\n",
        "        random_state=1)\n",
        "   \n",
        "    wordcloud=wordcloud.generate(str(data))\n",
        "\n",
        "    fig = plt.figure(1, figsize=(12, 12))\n",
        "    plt.axis('off')\n",
        "\n",
        "    plt.imshow(wordcloud)\n",
        "    plt.show()\n",
        "\n",
        "show_wordcloud(corpus)"
      ],
      "metadata": {
        "id": "IQXHaD1SJzAJ"
      },
      "execution_count": null,
      "outputs": []
    },
    {
      "cell_type": "code",
      "source": [
        ""
      ],
      "metadata": {
        "id": "4wlOepvAJy6b"
      },
      "execution_count": null,
      "outputs": []
    },
    {
      "cell_type": "code",
      "source": [
        ""
      ],
      "metadata": {
        "id": "zSt8-Qj2Jyy6"
      },
      "execution_count": null,
      "outputs": []
    },
    {
      "cell_type": "markdown",
      "metadata": {
        "tags": [],
        "id": "do2AkeX2YnFs"
      },
      "source": [
        "<div style=\"background:#EEEDF5;color:#303030\"><div style=\"margin-left: .2cm\">\n",
        "    <b>Comments:</b>\n",
        "</div></div>\n",
        "\n",
        "<div style=\"margin-left: 0.4cm\">\n",
        "    This Markdown cell is a template to write extended comments. e.g. explain the approach taken, or concepts behind algorithm chosen. Aim at having 2 lines at least. Anything smaller can be directly integrated in the code, or gathered together with other comments to form a bigger paragraph. Since this block is within a div element, you need to use html formatting syntax, not markdown\n",
        "</div>"
      ]
    },
    {
      "cell_type": "markdown",
      "metadata": {
        "tags": [],
        "id": "WydTl7kyYnFs"
      },
      "source": [
        "<div style=\"background:#EEEDF5;border:0.1cm solid #FDB100;color:#303030\">\n",
        "    <div style=\"margin: 0.2cm 0.2cm 0.2cm 0.2cm\">\n",
        "        <b style=\"color:#FDB100\">Title:</b> \n",
        "        This is a an example yellow box\n",
        "    </div>\n",
        "</div>"
      ]
    },
    {
      "cell_type": "markdown",
      "metadata": {
        "tags": [],
        "id": "j4hyUQSwYnFt"
      },
      "source": [
        "<div style=\"background:#EEEDF5;border:0.1cm solid #00BAE5;color:#303030\">\n",
        "    <div style=\"margin: 0.2cm 0.2cm 0.2cm 0.2cm\">\n",
        "        <b style=\"color:#00BAE5\">Note:</b>\n",
        "        This is an example Blue Box\n",
        "    </div>\n",
        "</div>"
      ]
    },
    {
      "cell_type": "markdown",
      "metadata": {
        "id": "5RGx4DtmYnFt"
      },
      "source": [
        "<div style=\"background:#EEEDF5;border:0.1cm solid #EF475B;color:#303030\">\n",
        "    <div style=\"margin: 0.2cm 0.2cm 0.2cm 0.2cm\">\n",
        "        <b style=\"color:#EF475B\">Warning:</b> \n",
        "        This is an example red box\n",
        "    </div>\n",
        "</div>"
      ]
    },
    {
      "cell_type": "markdown",
      "metadata": {
        "tags": [],
        "id": "Jw7PIJHdYnFt"
      },
      "source": [
        "<a id='P2' name=\"P2\"></a>\n",
        "## [Part 2 title here](#P0)"
      ]
    },
    {
      "cell_type": "markdown",
      "metadata": {
        "id": "uiyT-faAYnFt"
      },
      "source": [
        "<a id='P3' name=\"P3\"></a>\n",
        "## [Part 3 title here](#P0)"
      ]
    },
    {
      "cell_type": "markdown",
      "metadata": {
        "tags": [],
        "id": "CA0lXBcZYnFu"
      },
      "source": [
        "<a id='CL'></a>\n",
        "## [Conclusion](#P0)\n",
        "\n",
        "This is a pre-written conclusion in which we have nice figures."
      ]
    },
    {
      "cell_type": "markdown",
      "metadata": {
        "id": "lC2g6fGxYnFu"
      },
      "source": [
        "<div style=\"border-top:0.1cm solid #EF475B\"></div>\n",
        "    <strong><a href='#Q0'><div style=\"text-align: right\"> <h3>End of this Notebook.</h3></div></a></strong>"
      ]
    }
  ],
  "metadata": {
    "kernelspec": {
      "display_name": "Python 3",
      "name": "python3"
    },
    "language_info": {
      "name": "python"
    },
    "colab": {
      "name": "Sidecar_Project_EDA.ipynb",
      "provenance": [],
      "include_colab_link": true
    },
    "accelerator": "GPU",
    "widgets": {
      "application/vnd.jupyter.widget-state+json": {
        "79b3baad3b894c67aada9a85d1fd9e0e": {
          "model_module": "@jupyter-widgets/controls",
          "model_name": "IntProgressModel",
          "model_module_version": "1.5.0",
          "state": {
            "_view_name": "ProgressView",
            "style": "IPY_MODEL_1022d29451c2403d8c371ebe362f2faa",
            "_dom_classes": [],
            "description": "Processing: ",
            "_model_name": "IntProgressModel",
            "bar_style": "",
            "max": 11,
            "_view_module": "@jupyter-widgets/controls",
            "_model_module_version": "1.5.0",
            "value": 0,
            "_view_count": null,
            "_view_module_version": "1.5.0",
            "orientation": "horizontal",
            "min": 0,
            "description_tooltip": null,
            "_model_module": "@jupyter-widgets/controls",
            "layout": "IPY_MODEL_a2747525840c44369b2880fcb13f5db1"
          }
        },
        "1022d29451c2403d8c371ebe362f2faa": {
          "model_module": "@jupyter-widgets/controls",
          "model_name": "ProgressStyleModel",
          "model_module_version": "1.5.0",
          "state": {
            "_view_name": "StyleView",
            "_model_name": "ProgressStyleModel",
            "description_width": "",
            "_view_module": "@jupyter-widgets/base",
            "_model_module_version": "1.5.0",
            "_view_count": null,
            "_view_module_version": "1.2.0",
            "bar_color": null,
            "_model_module": "@jupyter-widgets/controls"
          }
        },
        "a2747525840c44369b2880fcb13f5db1": {
          "model_module": "@jupyter-widgets/base",
          "model_name": "LayoutModel",
          "model_module_version": "1.2.0",
          "state": {
            "_view_name": "LayoutView",
            "grid_template_rows": null,
            "right": null,
            "justify_content": null,
            "_view_module": "@jupyter-widgets/base",
            "overflow": null,
            "_model_module_version": "1.2.0",
            "_view_count": null,
            "flex_flow": null,
            "width": null,
            "min_width": null,
            "border": null,
            "align_items": null,
            "bottom": null,
            "_model_module": "@jupyter-widgets/base",
            "top": null,
            "grid_column": null,
            "overflow_y": null,
            "overflow_x": null,
            "grid_auto_flow": null,
            "grid_area": null,
            "grid_template_columns": null,
            "flex": null,
            "_model_name": "LayoutModel",
            "justify_items": null,
            "grid_row": null,
            "max_height": null,
            "align_content": null,
            "visibility": null,
            "align_self": null,
            "height": null,
            "min_height": null,
            "padding": null,
            "grid_auto_rows": null,
            "grid_gap": null,
            "max_width": null,
            "order": null,
            "_view_module_version": "1.2.0",
            "grid_template_areas": null,
            "object_position": null,
            "object_fit": null,
            "grid_auto_columns": null,
            "margin": null,
            "display": null,
            "left": null
          }
        }
      }
    }
  },
  "nbformat": 4,
  "nbformat_minor": 0
}