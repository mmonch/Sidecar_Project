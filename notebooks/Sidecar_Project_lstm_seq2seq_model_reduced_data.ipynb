{
  "cells": [
    {
      "cell_type": "markdown",
      "metadata": {
        "id": "view-in-github",
        "colab_type": "text"
      },
      "source": [
        "<a href=\"https://colab.research.google.com/github/mmonch/Sidecar_Project/blob/main/notebooks/Sidecar_Project_lstm_seq2seq_model_reduced_data.ipynb\" target=\"_parent\"><img src=\"https://colab.research.google.com/assets/colab-badge.svg\" alt=\"Open In Colab\"/></a>"
      ]
    },
    {
      "cell_type": "markdown",
      "metadata": {
        "id": "eIb_ydn-kWHQ"
      },
      "source": [
        "# Character-level recurrent sequence-to-sequence model"
      ]
    },
    {
      "cell_type": "markdown",
      "metadata": {
        "id": "I_YpcXAWkamu"
      },
      "source": [
        "Source: https://keras.io/examples/nlp/lstm_seq2seq/"
      ]
    },
    {
      "cell_type": "markdown",
      "metadata": {
        "id": "b6OJnJM7q1E7"
      },
      "source": [
        "## Setup"
      ]
    },
    {
      "cell_type": "code",
      "execution_count": null,
      "metadata": {
        "colab": {
          "base_uri": "https://localhost:8080/"
        },
        "id": "x2PGKuBXrkXI",
        "outputId": "c1e10bba-9bf4-4891-c70f-48c1b31b3316"
      },
      "outputs": [
        {
          "output_type": "stream",
          "name": "stdout",
          "text": [
            "Requirement already satisfied: contractions in /usr/local/lib/python3.7/dist-packages (0.1.66)\n",
            "Requirement already satisfied: textsearch>=0.0.21 in /usr/local/lib/python3.7/dist-packages (from contractions) (0.0.21)\n",
            "Requirement already satisfied: anyascii in /usr/local/lib/python3.7/dist-packages (from textsearch>=0.0.21->contractions) (0.3.0)\n",
            "Requirement already satisfied: pyahocorasick in /usr/local/lib/python3.7/dist-packages (from textsearch>=0.0.21->contractions) (1.4.2)\n"
          ]
        }
      ],
      "source": [
        "!pip install contractions"
      ]
    },
    {
      "cell_type": "code",
      "execution_count": null,
      "metadata": {
        "id": "DyZCa2ARkOnm"
      },
      "outputs": [],
      "source": [
        "# nlp packages\n",
        "import re\n",
        "import unicodedata\n",
        "import contractions\n",
        "import spacy\n",
        "import nltk\n",
        "\n",
        "# progressbar\n",
        "import tqdm\n",
        "\n",
        "# general packages\n",
        "import numpy as np\n",
        "import pandas as pd\n",
        "import tensorflow as tf\n",
        "from sklearn.model_selection import train_test_split\n",
        "\n",
        "# Deeplearing\n",
        "from tensorflow import keras\n",
        "import matplotlib.pyplot as plt"
      ]
    },
    {
      "cell_type": "code",
      "source": [
        "# fix random seed for reproducibility\n",
        "seed = 42\n",
        "\n",
        "# for numpy\n",
        "np.random.seed(seed)\n",
        "# for tenserflow.keras\n",
        "tf.random.set_seed(seed)"
      ],
      "metadata": {
        "id": "0rHCETaUkDci"
      },
      "execution_count": null,
      "outputs": []
    },
    {
      "cell_type": "markdown",
      "metadata": {
        "id": "flbw5AINq5sc"
      },
      "source": [
        "## Download the data"
      ]
    },
    {
      "cell_type": "code",
      "execution_count": null,
      "metadata": {
        "colab": {
          "base_uri": "https://localhost:8080/"
        },
        "id": "848tnZjuk1H1",
        "outputId": "902c78a2-cbc0-433e-a9ec-f63013123934"
      },
      "outputs": [
        {
          "output_type": "stream",
          "name": "stdout",
          "text": [
            "Drive already mounted at /content/gdrive; to attempt to forcibly remount, call drive.mount(\"/content/gdrive\", force_remount=True).\n"
          ]
        }
      ],
      "source": [
        "from google.colab import drive\n",
        "drive.mount('/content/gdrive')"
      ]
    },
    {
      "cell_type": "code",
      "execution_count": null,
      "metadata": {
        "id": "L5SPcebFlCaG"
      },
      "outputs": [],
      "source": [
        "data = pd.read_csv(\"gdrive/My Drive/SIDECAR_P/Sidecar_Data_Sample.csv\")"
      ]
    },
    {
      "cell_type": "code",
      "execution_count": null,
      "metadata": {
        "id": "-Ei53wRn11az"
      },
      "outputs": [],
      "source": [
        "top_n= data.Attribute_Business_Name.value_counts()[:100]\n",
        "top_n_df = data[data['Attribute_Business_Name'].map(data['Attribute_Business_Name'].value_counts()).isin(top_n)]"
      ]
    },
    {
      "cell_type": "code",
      "execution_count": null,
      "metadata": {
        "colab": {
          "base_uri": "https://localhost:8080/"
        },
        "id": "m2va_SMy-C9y",
        "outputId": "6b8c3e39-e552-4e26-e860-059811f4a56b"
      },
      "outputs": [
        {
          "output_type": "execute_result",
          "data": {
            "text/plain": [
              "2099"
            ]
          },
          "metadata": {},
          "execution_count": 7
        }
      ],
      "source": [
        "len(data['Attribute_Business_Name'].unique())"
      ]
    },
    {
      "cell_type": "code",
      "execution_count": null,
      "metadata": {
        "colab": {
          "base_uri": "https://localhost:8080/"
        },
        "id": "nEuepDqu-FdZ",
        "outputId": "c1013961-6f61-4c5f-a169-23db69b719ac"
      },
      "outputs": [
        {
          "output_type": "execute_result",
          "data": {
            "text/plain": [
              "115"
            ]
          },
          "metadata": {},
          "execution_count": 8
        }
      ],
      "source": [
        "len(top_n_df['Attribute_Business_Name'].unique())"
      ]
    },
    {
      "cell_type": "code",
      "execution_count": null,
      "metadata": {
        "colab": {
          "base_uri": "https://localhost:8080/"
        },
        "id": "Ezq1kcE977-v",
        "outputId": "c1eb2b3b-96f7-4414-e533-cbefe1243931"
      },
      "outputs": [
        {
          "output_type": "execute_result",
          "data": {
            "text/plain": [
              "100"
            ]
          },
          "metadata": {},
          "execution_count": 9
        }
      ],
      "source": [
        "len(top_n)"
      ]
    },
    {
      "cell_type": "code",
      "execution_count": null,
      "metadata": {
        "colab": {
          "base_uri": "https://localhost:8080/"
        },
        "id": "_MpbdWKl2bRb",
        "outputId": "f0031a19-1a13-49bb-dbed-b0c6228b5e03"
      },
      "outputs": [
        {
          "output_type": "execute_result",
          "data": {
            "text/plain": [
              "1343"
            ]
          },
          "metadata": {},
          "execution_count": 10
        }
      ],
      "source": [
        "len(top_n_df)"
      ]
    },
    {
      "cell_type": "code",
      "execution_count": null,
      "metadata": {
        "id": "roK3m0F4_DgC"
      },
      "outputs": [],
      "source": [
        "# if I wanted to run it with only the top 100 hard stop --> .index method\n",
        "# len(data[data['Attribute_Business_Name'].isin(data['Attribute_Business_Name'].value_counts()[:100].index)])"
      ]
    },
    {
      "cell_type": "markdown",
      "source": [
        "## Train Test Split"
      ],
      "metadata": {
        "id": "mytXo9EQ2z63"
      }
    },
    {
      "cell_type": "code",
      "source": [
        "train, test = train_test_split(top_n_df, test_size=0.2, random_state=42, stratify=top_n_df[\"Attribute_Business_Name\"])"
      ],
      "metadata": {
        "id": "w9_sYTcd24Zo"
      },
      "execution_count": null,
      "outputs": []
    },
    {
      "cell_type": "code",
      "source": [
        "print(\"Length of Training Set: \" + str(len(train)), \"\\nLength of Test Set: \" + str(len(test)))"
      ],
      "metadata": {
        "colab": {
          "base_uri": "https://localhost:8080/"
        },
        "id": "_Tsmbk1-4CsP",
        "outputId": "568d6741-35eb-4990-a344-bc0960f5e429"
      },
      "execution_count": null,
      "outputs": [
        {
          "output_type": "stream",
          "name": "stdout",
          "text": [
            "Length of Training Set: 1074 \n",
            "Length of Test Set: 269\n"
          ]
        }
      ]
    },
    {
      "cell_type": "code",
      "source": [
        "print(train.Attribute_Business_Name.value_counts(), test.Attribute_Business_Name.value_counts())"
      ],
      "metadata": {
        "colab": {
          "base_uri": "https://localhost:8080/"
        },
        "id": "ju4AtMjk4CP3",
        "outputId": "b4c474d2-45bf-456f-dd95-bc197e844f3d"
      },
      "execution_count": null,
      "outputs": [
        {
          "output_type": "stream",
          "name": "stdout",
          "text": [
            "Date and time the record was last updated.    56\n",
            "Last modified date                            46\n",
            "Last modified by                              41\n",
            "Last Edited By                                39\n",
            "Valid from                                    30\n",
            "                                              ..\n",
            "Discussion Object Id                           5\n",
            "Sponsor id                                     5\n",
            "Total amount excluding tax                     5\n",
            "Full name for this person                      5\n",
            "Total amount of tax                            5\n",
            "Name: Attribute_Business_Name, Length: 115, dtype: int64 Date and time the record was last updated.                                              14\n",
            "Last modified date                                                                      12\n",
            "Last modified by                                                                        11\n",
            "Last Edited By                                                                          10\n",
            "Valid from                                                                               8\n",
            "                                                                                        ..\n",
            "Description of the item supplied (Usually the stock item name but can be overridden)     1\n",
            "Postal Code                                                                              1\n",
            "visit occurrence id                                                                      1\n",
            "Total amount excluding tax                                                               1\n",
            "Classification attribute id                                                              1\n",
            "Name: Attribute_Business_Name, Length: 115, dtype: int64\n"
          ]
        }
      ]
    },
    {
      "cell_type": "markdown",
      "metadata": {
        "id": "ddSdDiGMq9fa"
      },
      "source": [
        "## Configurations"
      ]
    },
    {
      "cell_type": "code",
      "source": [
        "# for plotting\n",
        "plt.style.use(\"seaborn\")"
      ],
      "metadata": {
        "id": "hXPTUKpc1xt-"
      },
      "execution_count": null,
      "outputs": []
    },
    {
      "cell_type": "code",
      "execution_count": null,
      "metadata": {
        "id": "cIbFhHzNks8Z"
      },
      "outputs": [],
      "source": [
        "# for lstm seq 2 seq model\n",
        "batch_size = 64  # Batch size for training.\n",
        "epochs = 100  # Number of epochs to train for.\n",
        "latent_dim = 256  # Latent dimensionality of the encoding space."
      ]
    },
    {
      "cell_type": "markdown",
      "metadata": {
        "id": "u3xT7E5Vq_6q"
      },
      "source": [
        "## Prepare the data"
      ]
    },
    {
      "cell_type": "markdown",
      "metadata": {
        "id": "j0qyLJ1HrD-0"
      },
      "source": [
        "### Preprocess and normalize the data\n"
      ]
    },
    {
      "cell_type": "code",
      "execution_count": null,
      "metadata": {
        "id": "vkZjfRIHrQew"
      },
      "outputs": [],
      "source": [
        "# preprocess and normalize Text\n",
        "\n",
        "# in case text not english\n",
        "def remove_accented_chars(text):\n",
        "  text = unicodedata.normalize('NFKD', text).encode('ascii', 'ignore').decode('utf-8', 'ignore')\n",
        "  return text\n",
        "\n",
        "# preprocessing\n",
        "def pre_process_text(labels):\n",
        "  norm_docs = []\n",
        "  for string in tqdm.tqdm(labels):\n",
        "    string = string.replace(\"_\", \" \")\n",
        "    string = string.translate(string.maketrans(\"\\n\\t\\r\", \"   \"))\n",
        "    string = remove_accented_chars(string) \n",
        "    # and inset a space where a number follows a letter et vice versa\n",
        "    string = re.sub(r'(?<=\\d)(?=[^\\d\\s])|(?<=[^\\d\\s])(?=\\d)', ' ', string)\n",
        "    # insert space where an uppercase letter follows a lowercase letter\n",
        "    string = re.sub(r\"(?<![A-Z\\W])(?=[A-Z])\", \" \", string)\n",
        "    string = contractions.fix(string)\n",
        "    # where XXXX number to XXXX number replace - with to IN PROGRESS\n",
        "    string = string.replace(\"-\", \" to \")\n",
        "    # remove special characters or whitespaces\n",
        "    string = re.sub(r\"[^a-zA-Z0-9\\s]\", \"\", string, flags=re.I|re.A)\n",
        "    string = string.lower()\n",
        "    string = string.strip()\n",
        "    # string = string.split(\" \")\n",
        "    norm_docs.append(string)\n",
        "  return norm_docs\n",
        "\n",
        "# lemamtization\n",
        "\n",
        "#def spacy_lemmatize_text(text):\n",
        "    #text = nlp(text)\n",
        "    #text = ' '.join([word.lemma_ if word.lemma_ != '-PRON-' else word.text for word in text])\n",
        "    #return text"
      ]
    },
    {
      "cell_type": "markdown",
      "source": [
        "### Vectorize the Data"
      ],
      "metadata": {
        "id": "vy26nQqPyPH5"
      }
    },
    {
      "cell_type": "code",
      "source": [
        ""
      ],
      "metadata": {
        "id": "lc8634PweXQR"
      },
      "execution_count": null,
      "outputs": []
    },
    {
      "cell_type": "code",
      "source": [
        "# vectorize the data\n",
        "\n",
        "input_texts = pre_process_text(train[\"Attribute_Technical_Name\"])\n",
        "target_texts = [\"\\t\" + s + \"\\n\" for s in pre_process_text(train[\"Attribute_Business_Name\"])]\n",
        "input_characters = set()\n",
        "target_characters = set()\n",
        "for input_name, target_name in zip(input_texts, target_texts):\n",
        "  for char in input_name:\n",
        "    if char not in input_characters:\n",
        "      input_characters.add(char)\n",
        "  for char in target_name:\n",
        "    if char not in target_characters:\n",
        "      target_characters.add(char)\n",
        "\n",
        "input_characters = sorted(list(input_characters))\n",
        "target_characters = sorted(list(target_characters))\n",
        "num_encoder_tokens = len(input_characters)\n",
        "num_decoder_tokens = len(target_characters)\n",
        "max_encoder_seq_length = max([len(txt) for txt in input_texts])\n",
        "max_decoder_seq_length = max([len(txt) for txt in target_texts])\n",
        "\n",
        "print(\"Number of samples:\", len(input_texts))\n",
        "print(\"Number of unique input tokens:\", num_encoder_tokens)\n",
        "print(\"Number of unique output tokens:\", num_decoder_tokens)\n",
        "print(\"Max sequence length for inputs:\", max_encoder_seq_length)\n",
        "print(\"Max sequence length for outputs:\", max_decoder_seq_length)\n",
        "\n",
        "input_token_index = dict([(char, i) for i, char in enumerate(input_characters)])\n",
        "target_token_index = dict([(char, i) for i, char in enumerate(target_characters)])\n",
        "\n",
        "encoder_input_data = np.zeros(\n",
        "    (len(input_texts), max_encoder_seq_length, num_encoder_tokens), dtype=\"float32\"\n",
        ")\n",
        "decoder_input_data = np.zeros(\n",
        "    (len(input_texts), max_decoder_seq_length, num_decoder_tokens), dtype=\"float32\"\n",
        ")\n",
        "decoder_target_data = np.zeros(\n",
        "    (len(input_texts), max_decoder_seq_length, num_decoder_tokens), dtype=\"float32\"\n",
        ")\n",
        "\n",
        "for i, (input_text, target_text) in enumerate(zip(input_texts, target_texts)):\n",
        "    for t, char in enumerate(input_text):\n",
        "        encoder_input_data[i, t, input_token_index[char]] = 1.0\n",
        "    encoder_input_data[i, t + 1 :, input_token_index[\" \"]] = 1.0\n",
        "    for t, char in enumerate(target_text):\n",
        "        # decoder_target_data is ahead of decoder_input_data by one timestep\n",
        "        decoder_input_data[i, t, target_token_index[char]] = 1.0\n",
        "        if t > 0:\n",
        "            # decoder_target_data will be ahead by one timestep\n",
        "            # and will not include the start character.\n",
        "            decoder_target_data[i, t - 1, target_token_index[char]] = 1.0\n",
        "    decoder_input_data[i, t + 1 :, target_token_index[\" \"]] = 1.0\n",
        "    decoder_target_data[i, t:, target_token_index[\" \"]] = 1.0"
      ],
      "metadata": {
        "colab": {
          "base_uri": "https://localhost:8080/"
        },
        "id": "pcPJOIlnfFiJ",
        "outputId": "a03844cd-2d3b-42f4-c5e7-d291a4f7abde"
      },
      "execution_count": null,
      "outputs": [
        {
          "output_type": "stream",
          "name": "stderr",
          "text": [
            "100%|██████████| 1074/1074 [00:00<00:00, 60837.91it/s]\n",
            "100%|██████████| 1074/1074 [00:00<00:00, 60728.83it/s]"
          ]
        },
        {
          "output_type": "stream",
          "name": "stdout",
          "text": [
            "Number of samples: 1074\n",
            "Number of unique input tokens: 36\n",
            "Number of unique output tokens: 32\n",
            "Max sequence length for inputs: 36\n",
            "Max sequence length for outputs: 94\n"
          ]
        },
        {
          "output_type": "stream",
          "name": "stderr",
          "text": [
            "\n"
          ]
        }
      ]
    },
    {
      "cell_type": "code",
      "source": [
        "# Define an input sequence and process it.\n",
        "encoder_inputs = keras.Input(shape=(None, num_encoder_tokens))\n",
        "encoder = keras.layers.LSTM(latent_dim, return_state=True)\n",
        "encoder_outputs, state_h, state_c = encoder(encoder_inputs)\n",
        "\n",
        "# We discard `encoder_outputs` and only keep the states.\n",
        "encoder_states = [state_h, state_c]\n",
        "\n",
        "# Set up the decoder, using `encoder_states` as initial state.\n",
        "decoder_inputs = keras.Input(shape=(None, num_decoder_tokens))\n",
        "\n",
        "# We set up our decoder to return full output sequences,\n",
        "# and to return internal states as well. We don't use the\n",
        "# return states in the training model, but we will use them in inference.\n",
        "decoder_lstm = keras.layers.LSTM(latent_dim, return_sequences=True, return_state=True)\n",
        "decoder_outputs, _, _ = decoder_lstm(decoder_inputs, initial_state=encoder_states)\n",
        "decoder_dense = keras.layers.Dense(num_decoder_tokens, activation=\"softmax\")\n",
        "decoder_outputs = decoder_dense(decoder_outputs)\n",
        "\n",
        "# Define the model that will turn\n",
        "# `encoder_input_data` & `decoder_input_data` into `decoder_target_data`\n",
        "model = keras.Model([encoder_inputs, decoder_inputs], decoder_outputs)"
      ],
      "metadata": {
        "id": "oocvFQzSiOL1"
      },
      "execution_count": null,
      "outputs": []
    },
    {
      "cell_type": "code",
      "source": [
        "METRICS = [\n",
        "  \"accuracy\",\n",
        "  \"sparse_top_k_categorical_accuracy\",\n",
        "  \"sparse_categorical_crossentropy\"\n",
        "]\n"
      ],
      "metadata": {
        "id": "SjCckHvvlOli"
      },
      "execution_count": null,
      "outputs": []
    },
    {
      "cell_type": "code",
      "source": [
        "model.compile(\n",
        "    optimizer=\"rmsprop\", \n",
        "    loss=\"categorical_crossentropy\", \n",
        "    metrics=METRICS\n",
        ")\n",
        "\n",
        "mc = keras.callbacks.ModelCheckpoint(\n",
        "    'my_nmt_model_min_loss.h5', \n",
        "    monitor='val_loss', \n",
        "    verbose=1, \n",
        "    save_best_only=True, \n",
        "    mode='min'\n",
        ")\n",
        "    \n",
        "es = tf.keras.callbacks.EarlyStopping(\n",
        "    monitor='val_loss',\n",
        "    patience=10,\n",
        "    restore_best_weights=True,\n",
        "    verbose=1\n",
        ")\n",
        "\n",
        "history = model.fit(\n",
        "    [encoder_input_data, decoder_input_data],\n",
        "    decoder_target_data,\n",
        "    batch_size=batch_size,\n",
        "    epochs=epochs,\n",
        "    validation_split=0.2,\n",
        "    callbacks=[mc, es]\n",
        ")\n",
        "\n",
        "# Save model\n",
        "model.save(\"lstm_s2s_v1\")"
      ],
      "metadata": {
        "colab": {
          "base_uri": "https://localhost:8080/"
        },
        "id": "ga6z_OvVijMW",
        "outputId": "b1b11b83-5da6-4495-9b64-9eda7756d295"
      },
      "execution_count": null,
      "outputs": [
        {
          "output_type": "stream",
          "name": "stdout",
          "text": [
            "Epoch 1/100\n",
            "11/14 [======================>.......] - ETA: 0s - loss: 1.4521 - accuracy: 0.7251\n",
            "Epoch 00001: val_loss improved from inf to 0.89477, saving model to my_nmt_model_min_loss.h5\n",
            "14/14 [==============================] - 6s 104ms/step - loss: 1.3541 - accuracy: 0.7385 - val_loss: 0.8948 - val_accuracy: 0.8005\n",
            "Epoch 2/100\n",
            "13/14 [==========================>...] - ETA: 0s - loss: 0.8954 - accuracy: 0.8022\n",
            "Epoch 00002: val_loss improved from 0.89477 to 0.87091, saving model to my_nmt_model_min_loss.h5\n",
            "14/14 [==============================] - 0s 25ms/step - loss: 0.8935 - accuracy: 0.8024 - val_loss: 0.8709 - val_accuracy: 0.8009\n",
            "Epoch 3/100\n",
            "13/14 [==========================>...] - ETA: 0s - loss: 0.8747 - accuracy: 0.8011\n",
            "Epoch 00003: val_loss did not improve from 0.87091\n",
            "14/14 [==============================] - 0s 21ms/step - loss: 0.8667 - accuracy: 0.8027 - val_loss: 0.8820 - val_accuracy: 0.7995\n",
            "Epoch 4/100\n",
            "13/14 [==========================>...] - ETA: 0s - loss: 0.8443 - accuracy: 0.8021\n",
            "Epoch 00004: val_loss improved from 0.87091 to 0.79433, saving model to my_nmt_model_min_loss.h5\n",
            "14/14 [==============================] - 0s 23ms/step - loss: 0.8382 - accuracy: 0.8033 - val_loss: 0.7943 - val_accuracy: 0.8010\n",
            "Epoch 5/100\n",
            "12/14 [========================>.....] - ETA: 0s - loss: 0.8190 - accuracy: 0.8054\n",
            "Epoch 00005: val_loss improved from 0.79433 to 0.78803, saving model to my_nmt_model_min_loss.h5\n",
            "14/14 [==============================] - 0s 21ms/step - loss: 0.8260 - accuracy: 0.8040 - val_loss: 0.7880 - val_accuracy: 0.8018\n",
            "Epoch 6/100\n",
            "12/14 [========================>.....] - ETA: 0s - loss: 0.7812 - accuracy: 0.8034\n",
            "Epoch 00006: val_loss improved from 0.78803 to 0.75321, saving model to my_nmt_model_min_loss.h5\n",
            "14/14 [==============================] - 0s 22ms/step - loss: 0.7885 - accuracy: 0.8044 - val_loss: 0.7532 - val_accuracy: 0.7998\n",
            "Epoch 7/100\n",
            "11/14 [======================>.......] - ETA: 0s - loss: 0.7094 - accuracy: 0.8091\n",
            "Epoch 00007: val_loss improved from 0.75321 to 0.71944, saving model to my_nmt_model_min_loss.h5\n",
            "14/14 [==============================] - 0s 25ms/step - loss: 0.7469 - accuracy: 0.8060 - val_loss: 0.7194 - val_accuracy: 0.8011\n",
            "Epoch 8/100\n",
            "14/14 [==============================] - ETA: 0s - loss: 0.6841 - accuracy: 0.8068\n",
            "Epoch 00008: val_loss did not improve from 0.71944\n",
            "14/14 [==============================] - 0s 24ms/step - loss: 0.6841 - accuracy: 0.8068 - val_loss: 0.7223 - val_accuracy: 0.8005\n",
            "Epoch 9/100\n",
            "12/14 [========================>.....] - ETA: 0s - loss: 0.6767 - accuracy: 0.8075\n",
            "Epoch 00009: val_loss did not improve from 0.71944\n",
            "14/14 [==============================] - 0s 19ms/step - loss: 0.6769 - accuracy: 0.8078 - val_loss: 0.7227 - val_accuracy: 0.8046\n",
            "Epoch 10/100\n",
            "13/14 [==========================>...] - ETA: 0s - loss: 0.7094 - accuracy: 0.8109\n",
            "Epoch 00010: val_loss improved from 0.71944 to 0.66765, saving model to my_nmt_model_min_loss.h5\n",
            "14/14 [==============================] - 0s 23ms/step - loss: 0.7090 - accuracy: 0.8107 - val_loss: 0.6676 - val_accuracy: 0.8026\n",
            "Epoch 11/100\n",
            "13/14 [==========================>...] - ETA: 0s - loss: 0.6593 - accuracy: 0.8108\n",
            "Epoch 00011: val_loss improved from 0.66765 to 0.64977, saving model to my_nmt_model_min_loss.h5\n",
            "14/14 [==============================] - 0s 23ms/step - loss: 0.6543 - accuracy: 0.8121 - val_loss: 0.6498 - val_accuracy: 0.8082\n",
            "Epoch 12/100\n",
            "13/14 [==========================>...] - ETA: 0s - loss: 0.6359 - accuracy: 0.8132\n",
            "Epoch 00012: val_loss improved from 0.64977 to 0.63804, saving model to my_nmt_model_min_loss.h5\n",
            "14/14 [==============================] - 0s 31ms/step - loss: 0.6347 - accuracy: 0.8136 - val_loss: 0.6380 - val_accuracy: 0.8099\n",
            "Epoch 13/100\n",
            "14/14 [==============================] - ETA: 0s - loss: 0.7049 - accuracy: 0.8180\n",
            "Epoch 00013: val_loss improved from 0.63804 to 0.62874, saving model to my_nmt_model_min_loss.h5\n",
            "14/14 [==============================] - 0s 29ms/step - loss: 0.7049 - accuracy: 0.8180 - val_loss: 0.6287 - val_accuracy: 0.8149\n",
            "Epoch 14/100\n",
            "12/14 [========================>.....] - ETA: 0s - loss: 0.6179 - accuracy: 0.8179\n",
            "Epoch 00014: val_loss did not improve from 0.62874\n",
            "14/14 [==============================] - 0s 19ms/step - loss: 0.6074 - accuracy: 0.8206 - val_loss: 0.6295 - val_accuracy: 0.8148\n",
            "Epoch 15/100\n",
            "13/14 [==========================>...] - ETA: 0s - loss: 0.6006 - accuracy: 0.8220\n",
            "Epoch 00015: val_loss improved from 0.62874 to 0.60102, saving model to my_nmt_model_min_loss.h5\n",
            "14/14 [==============================] - 0s 24ms/step - loss: 0.5977 - accuracy: 0.8228 - val_loss: 0.6010 - val_accuracy: 0.8204\n",
            "Epoch 16/100\n",
            "13/14 [==========================>...] - ETA: 0s - loss: 0.6847 - accuracy: 0.8206\n",
            "Epoch 00016: val_loss improved from 0.60102 to 0.59747, saving model to my_nmt_model_min_loss.h5\n",
            "14/14 [==============================] - 0s 22ms/step - loss: 0.6824 - accuracy: 0.8204 - val_loss: 0.5975 - val_accuracy: 0.8205\n",
            "Epoch 17/100\n",
            "14/14 [==============================] - ETA: 0s - loss: 0.5693 - accuracy: 0.8300\n",
            "Epoch 00017: val_loss improved from 0.59747 to 0.57410, saving model to my_nmt_model_min_loss.h5\n",
            "14/14 [==============================] - 0s 25ms/step - loss: 0.5693 - accuracy: 0.8300 - val_loss: 0.5741 - val_accuracy: 0.8234\n",
            "Epoch 18/100\n",
            "12/14 [========================>.....] - ETA: 0s - loss: 0.5455 - accuracy: 0.8370\n",
            "Epoch 00018: val_loss did not improve from 0.57410\n",
            "14/14 [==============================] - 0s 24ms/step - loss: 0.5569 - accuracy: 0.8341 - val_loss: 0.5843 - val_accuracy: 0.8315\n",
            "Epoch 19/100\n",
            "13/14 [==========================>...] - ETA: 0s - loss: 0.5449 - accuracy: 0.8376\n",
            "Epoch 00019: val_loss improved from 0.57410 to 0.54323, saving model to my_nmt_model_min_loss.h5\n",
            "14/14 [==============================] - 0s 24ms/step - loss: 0.5414 - accuracy: 0.8386 - val_loss: 0.5432 - val_accuracy: 0.8368\n",
            "Epoch 20/100\n",
            "12/14 [========================>.....] - ETA: 0s - loss: 0.5290 - accuracy: 0.8420\n",
            "Epoch 00020: val_loss improved from 0.54323 to 0.52523, saving model to my_nmt_model_min_loss.h5\n",
            "14/14 [==============================] - 0s 25ms/step - loss: 0.5319 - accuracy: 0.8414 - val_loss: 0.5252 - val_accuracy: 0.8433\n",
            "Epoch 21/100\n",
            "13/14 [==========================>...] - ETA: 0s - loss: 0.5034 - accuracy: 0.8509\n",
            "Epoch 00021: val_loss did not improve from 0.52523\n",
            "14/14 [==============================] - 0s 17ms/step - loss: 0.5064 - accuracy: 0.8503 - val_loss: 0.5729 - val_accuracy: 0.8285\n",
            "Epoch 22/100\n",
            "14/14 [==============================] - ETA: 0s - loss: 0.5324 - accuracy: 0.8515\n",
            "Epoch 00022: val_loss improved from 0.52523 to 0.49835, saving model to my_nmt_model_min_loss.h5\n",
            "14/14 [==============================] - 0s 25ms/step - loss: 0.5324 - accuracy: 0.8515 - val_loss: 0.4983 - val_accuracy: 0.8540\n",
            "Epoch 23/100\n",
            "12/14 [========================>.....] - ETA: 0s - loss: 0.4719 - accuracy: 0.8619\n",
            "Epoch 00023: val_loss did not improve from 0.49835\n",
            "14/14 [==============================] - 0s 21ms/step - loss: 0.4730 - accuracy: 0.8616 - val_loss: 0.4999 - val_accuracy: 0.8534\n",
            "Epoch 24/100\n",
            "13/14 [==========================>...] - ETA: 0s - loss: 0.4624 - accuracy: 0.8658\n",
            "Epoch 00024: val_loss improved from 0.49835 to 0.49433, saving model to my_nmt_model_min_loss.h5\n",
            "14/14 [==============================] - 0s 22ms/step - loss: 0.4636 - accuracy: 0.8654 - val_loss: 0.4943 - val_accuracy: 0.8532\n",
            "Epoch 25/100\n",
            "11/14 [======================>.......] - ETA: 0s - loss: 0.4613 - accuracy: 0.8644\n",
            "Epoch 00025: val_loss improved from 0.49433 to 0.45672, saving model to my_nmt_model_min_loss.h5\n",
            "14/14 [==============================] - 0s 22ms/step - loss: 0.4574 - accuracy: 0.8659 - val_loss: 0.4567 - val_accuracy: 0.8693\n",
            "Epoch 26/100\n",
            "11/14 [======================>.......] - ETA: 0s - loss: 0.4357 - accuracy: 0.8724\n",
            "Epoch 00026: val_loss did not improve from 0.45672\n",
            "14/14 [==============================] - 0s 15ms/step - loss: 0.4336 - accuracy: 0.8737 - val_loss: 0.4775 - val_accuracy: 0.8597\n",
            "Epoch 27/100\n",
            "11/14 [======================>.......] - ETA: 0s - loss: 0.4440 - accuracy: 0.8728\n",
            "Epoch 00027: val_loss improved from 0.45672 to 0.42073, saving model to my_nmt_model_min_loss.h5\n",
            "14/14 [==============================] - 0s 17ms/step - loss: 0.4330 - accuracy: 0.8759 - val_loss: 0.4207 - val_accuracy: 0.8803\n",
            "Epoch 28/100\n",
            "11/14 [======================>.......] - ETA: 0s - loss: 0.4073 - accuracy: 0.8835\n",
            "Epoch 00028: val_loss did not improve from 0.42073\n",
            "14/14 [==============================] - 0s 15ms/step - loss: 0.4055 - accuracy: 0.8839 - val_loss: 0.4303 - val_accuracy: 0.8750\n",
            "Epoch 29/100\n",
            "11/14 [======================>.......] - ETA: 0s - loss: 0.4082 - accuracy: 0.8837\n",
            "Epoch 00029: val_loss improved from 0.42073 to 0.40516, saving model to my_nmt_model_min_loss.h5\n",
            "14/14 [==============================] - 0s 18ms/step - loss: 0.3994 - accuracy: 0.8871 - val_loss: 0.4052 - val_accuracy: 0.8846\n",
            "Epoch 30/100\n",
            "10/14 [====================>.........] - ETA: 0s - loss: 0.3676 - accuracy: 0.8965\n",
            "Epoch 00030: val_loss improved from 0.40516 to 0.39295, saving model to my_nmt_model_min_loss.h5\n",
            "14/14 [==============================] - 0s 18ms/step - loss: 0.3717 - accuracy: 0.8950 - val_loss: 0.3930 - val_accuracy: 0.8842\n",
            "Epoch 31/100\n",
            "11/14 [======================>.......] - ETA: 0s - loss: 0.3542 - accuracy: 0.9014\n",
            "Epoch 00031: val_loss improved from 0.39295 to 0.37201, saving model to my_nmt_model_min_loss.h5\n",
            "14/14 [==============================] - 0s 17ms/step - loss: 0.3580 - accuracy: 0.8996 - val_loss: 0.3720 - val_accuracy: 0.8923\n",
            "Epoch 32/100\n",
            "11/14 [======================>.......] - ETA: 0s - loss: 0.3535 - accuracy: 0.8994\n",
            "Epoch 00032: val_loss improved from 0.37201 to 0.33873, saving model to my_nmt_model_min_loss.h5\n",
            "14/14 [==============================] - 0s 18ms/step - loss: 0.3405 - accuracy: 0.9037 - val_loss: 0.3387 - val_accuracy: 0.9075\n",
            "Epoch 33/100\n",
            "11/14 [======================>.......] - ETA: 0s - loss: 0.3354 - accuracy: 0.9070\n",
            "Epoch 00033: val_loss improved from 0.33873 to 0.33251, saving model to my_nmt_model_min_loss.h5\n",
            "14/14 [==============================] - 0s 17ms/step - loss: 0.3343 - accuracy: 0.9068 - val_loss: 0.3325 - val_accuracy: 0.9091\n",
            "Epoch 34/100\n",
            "11/14 [======================>.......] - ETA: 0s - loss: 0.3144 - accuracy: 0.9148\n",
            "Epoch 00034: val_loss improved from 0.33251 to 0.31900, saving model to my_nmt_model_min_loss.h5\n",
            "14/14 [==============================] - 0s 18ms/step - loss: 0.3112 - accuracy: 0.9152 - val_loss: 0.3190 - val_accuracy: 0.9149\n",
            "Epoch 35/100\n",
            "11/14 [======================>.......] - ETA: 0s - loss: 0.3019 - accuracy: 0.9176\n",
            "Epoch 00035: val_loss did not improve from 0.31900\n",
            "14/14 [==============================] - 0s 15ms/step - loss: 0.2982 - accuracy: 0.9185 - val_loss: 0.3510 - val_accuracy: 0.9022\n",
            "Epoch 36/100\n",
            "10/14 [====================>.........] - ETA: 0s - loss: 0.2815 - accuracy: 0.9233\n",
            "Epoch 00036: val_loss did not improve from 0.31900\n",
            "14/14 [==============================] - 0s 15ms/step - loss: 0.2853 - accuracy: 0.9227 - val_loss: 0.3231 - val_accuracy: 0.9088\n",
            "Epoch 37/100\n",
            "11/14 [======================>.......] - ETA: 0s - loss: 0.2713 - accuracy: 0.9270\n",
            "Epoch 00037: val_loss improved from 0.31900 to 0.30189, saving model to my_nmt_model_min_loss.h5\n",
            "14/14 [==============================] - 0s 18ms/step - loss: 0.2699 - accuracy: 0.9270 - val_loss: 0.3019 - val_accuracy: 0.9187\n",
            "Epoch 38/100\n",
            "10/14 [====================>.........] - ETA: 0s - loss: 0.2653 - accuracy: 0.9282\n",
            "Epoch 00038: val_loss improved from 0.30189 to 0.26596, saving model to my_nmt_model_min_loss.h5\n",
            "14/14 [==============================] - 0s 18ms/step - loss: 0.2662 - accuracy: 0.9271 - val_loss: 0.2660 - val_accuracy: 0.9270\n",
            "Epoch 39/100\n",
            "11/14 [======================>.......] - ETA: 0s - loss: 0.2524 - accuracy: 0.9312\n",
            "Epoch 00039: val_loss improved from 0.26596 to 0.26547, saving model to my_nmt_model_min_loss.h5\n",
            "14/14 [==============================] - 0s 18ms/step - loss: 0.2456 - accuracy: 0.9336 - val_loss: 0.2655 - val_accuracy: 0.9280\n",
            "Epoch 40/100\n",
            "11/14 [======================>.......] - ETA: 0s - loss: 0.2452 - accuracy: 0.9340\n",
            "Epoch 00040: val_loss improved from 0.26547 to 0.24771, saving model to my_nmt_model_min_loss.h5\n",
            "14/14 [==============================] - 0s 18ms/step - loss: 0.2363 - accuracy: 0.9366 - val_loss: 0.2477 - val_accuracy: 0.9294\n",
            "Epoch 41/100\n",
            "11/14 [======================>.......] - ETA: 0s - loss: 0.2242 - accuracy: 0.9399\n",
            "Epoch 00041: val_loss improved from 0.24771 to 0.23808, saving model to my_nmt_model_min_loss.h5\n",
            "14/14 [==============================] - 0s 18ms/step - loss: 0.2250 - accuracy: 0.9391 - val_loss: 0.2381 - val_accuracy: 0.9384\n",
            "Epoch 42/100\n",
            "13/14 [==========================>...] - ETA: 0s - loss: 0.2132 - accuracy: 0.9422\n",
            "Epoch 00042: val_loss improved from 0.23808 to 0.22510, saving model to my_nmt_model_min_loss.h5\n",
            "14/14 [==============================] - 0s 18ms/step - loss: 0.2133 - accuracy: 0.9423 - val_loss: 0.2251 - val_accuracy: 0.9413\n",
            "Epoch 43/100\n",
            "11/14 [======================>.......] - ETA: 0s - loss: 0.2044 - accuracy: 0.9459\n",
            "Epoch 00043: val_loss did not improve from 0.22510\n",
            "14/14 [==============================] - 0s 15ms/step - loss: 0.2034 - accuracy: 0.9457 - val_loss: 0.2334 - val_accuracy: 0.9372\n",
            "Epoch 44/100\n",
            "11/14 [======================>.......] - ETA: 0s - loss: 0.1961 - accuracy: 0.9473\n",
            "Epoch 00044: val_loss improved from 0.22510 to 0.20149, saving model to my_nmt_model_min_loss.h5\n",
            "14/14 [==============================] - 0s 18ms/step - loss: 0.1918 - accuracy: 0.9484 - val_loss: 0.2015 - val_accuracy: 0.9469\n",
            "Epoch 45/100\n",
            "11/14 [======================>.......] - ETA: 0s - loss: 0.1806 - accuracy: 0.9527\n",
            "Epoch 00045: val_loss did not improve from 0.20149\n",
            "14/14 [==============================] - 0s 15ms/step - loss: 0.1797 - accuracy: 0.9529 - val_loss: 0.2716 - val_accuracy: 0.9250\n",
            "Epoch 46/100\n",
            "14/14 [==============================] - ETA: 0s - loss: 0.2507 - accuracy: 0.9363\n",
            "Epoch 00046: val_loss improved from 0.20149 to 0.18986, saving model to my_nmt_model_min_loss.h5\n",
            "14/14 [==============================] - 0s 18ms/step - loss: 0.2507 - accuracy: 0.9363 - val_loss: 0.1899 - val_accuracy: 0.9509\n",
            "Epoch 47/100\n",
            "11/14 [======================>.......] - ETA: 0s - loss: 0.1650 - accuracy: 0.9586\n",
            "Epoch 00047: val_loss improved from 0.18986 to 0.17824, saving model to my_nmt_model_min_loss.h5\n",
            "14/14 [==============================] - 0s 18ms/step - loss: 0.1664 - accuracy: 0.9575 - val_loss: 0.1782 - val_accuracy: 0.9547\n",
            "Epoch 48/100\n",
            "10/14 [====================>.........] - ETA: 0s - loss: 0.1571 - accuracy: 0.9595\n",
            "Epoch 00048: val_loss did not improve from 0.17824\n",
            "14/14 [==============================] - 0s 15ms/step - loss: 0.1569 - accuracy: 0.9593 - val_loss: 0.1803 - val_accuracy: 0.9527\n",
            "Epoch 49/100\n",
            "11/14 [======================>.......] - ETA: 0s - loss: 0.1517 - accuracy: 0.9605\n",
            "Epoch 00049: val_loss did not improve from 0.17824\n",
            "14/14 [==============================] - 0s 15ms/step - loss: 0.1518 - accuracy: 0.9605 - val_loss: 0.1826 - val_accuracy: 0.9494\n",
            "Epoch 50/100\n",
            "14/14 [==============================] - ETA: 0s - loss: 0.1528 - accuracy: 0.9590\n",
            "Epoch 00050: val_loss did not improve from 0.17824\n",
            "14/14 [==============================] - 0s 16ms/step - loss: 0.1528 - accuracy: 0.9590 - val_loss: 0.1828 - val_accuracy: 0.9507\n",
            "Epoch 51/100\n",
            "10/14 [====================>.........] - ETA: 0s - loss: 0.1526 - accuracy: 0.9596\n",
            "Epoch 00051: val_loss improved from 0.17824 to 0.16495, saving model to my_nmt_model_min_loss.h5\n",
            "14/14 [==============================] - 0s 18ms/step - loss: 0.1467 - accuracy: 0.9612 - val_loss: 0.1650 - val_accuracy: 0.9559\n",
            "Epoch 52/100\n",
            "11/14 [======================>.......] - ETA: 0s - loss: 0.1372 - accuracy: 0.9634\n",
            "Epoch 00052: val_loss improved from 0.16495 to 0.15979, saving model to my_nmt_model_min_loss.h5\n",
            "14/14 [==============================] - 0s 18ms/step - loss: 0.1368 - accuracy: 0.9635 - val_loss: 0.1598 - val_accuracy: 0.9564\n",
            "Epoch 53/100\n",
            "11/14 [======================>.......] - ETA: 0s - loss: 0.1363 - accuracy: 0.9632\n",
            "Epoch 00053: val_loss improved from 0.15979 to 0.15285, saving model to my_nmt_model_min_loss.h5\n",
            "14/14 [==============================] - 0s 18ms/step - loss: 0.1336 - accuracy: 0.9643 - val_loss: 0.1529 - val_accuracy: 0.9597\n",
            "Epoch 54/100\n",
            "10/14 [====================>.........] - ETA: 0s - loss: 0.1238 - accuracy: 0.9681\n",
            "Epoch 00054: val_loss did not improve from 0.15285\n",
            "14/14 [==============================] - 0s 15ms/step - loss: 0.1234 - accuracy: 0.9684 - val_loss: 0.1686 - val_accuracy: 0.9530\n",
            "Epoch 55/100\n",
            "10/14 [====================>.........] - ETA: 0s - loss: 0.1285 - accuracy: 0.9661\n",
            "Epoch 00055: val_loss improved from 0.15285 to 0.13766, saving model to my_nmt_model_min_loss.h5\n",
            "14/14 [==============================] - 0s 18ms/step - loss: 0.1222 - accuracy: 0.9678 - val_loss: 0.1377 - val_accuracy: 0.9633\n",
            "Epoch 56/100\n",
            "10/14 [====================>.........] - ETA: 0s - loss: 0.1180 - accuracy: 0.9695\n",
            "Epoch 00056: val_loss improved from 0.13766 to 0.13388, saving model to my_nmt_model_min_loss.h5\n",
            "14/14 [==============================] - 0s 18ms/step - loss: 0.1132 - accuracy: 0.9708 - val_loss: 0.1339 - val_accuracy: 0.9642\n",
            "Epoch 57/100\n",
            "11/14 [======================>.......] - ETA: 0s - loss: 0.1116 - accuracy: 0.9706\n",
            "Epoch 00057: val_loss improved from 0.13388 to 0.12961, saving model to my_nmt_model_min_loss.h5\n",
            "14/14 [==============================] - 0s 18ms/step - loss: 0.1103 - accuracy: 0.9711 - val_loss: 0.1296 - val_accuracy: 0.9676\n",
            "Epoch 58/100\n",
            "10/14 [====================>.........] - ETA: 0s - loss: 0.1037 - accuracy: 0.9734\n",
            "Epoch 00058: val_loss improved from 0.12961 to 0.11918, saving model to my_nmt_model_min_loss.h5\n",
            "14/14 [==============================] - 0s 18ms/step - loss: 0.1031 - accuracy: 0.9734 - val_loss: 0.1192 - val_accuracy: 0.9690\n",
            "Epoch 59/100\n",
            "14/14 [==============================] - ETA: 0s - loss: 0.1023 - accuracy: 0.9729\n",
            "Epoch 00059: val_loss did not improve from 0.11918\n",
            "14/14 [==============================] - 0s 16ms/step - loss: 0.1023 - accuracy: 0.9729 - val_loss: 0.1296 - val_accuracy: 0.9653\n",
            "Epoch 60/100\n",
            "11/14 [======================>.......] - ETA: 0s - loss: 0.0911 - accuracy: 0.9768\n",
            "Epoch 00060: val_loss did not improve from 0.11918\n",
            "14/14 [==============================] - 0s 15ms/step - loss: 0.0918 - accuracy: 0.9766 - val_loss: 0.1202 - val_accuracy: 0.9677\n",
            "Epoch 61/100\n",
            "10/14 [====================>.........] - ETA: 0s - loss: 0.0929 - accuracy: 0.9759\n",
            "Epoch 00061: val_loss improved from 0.11918 to 0.11167, saving model to my_nmt_model_min_loss.h5\n",
            "14/14 [==============================] - 0s 17ms/step - loss: 0.0914 - accuracy: 0.9765 - val_loss: 0.1117 - val_accuracy: 0.9707\n",
            "Epoch 62/100\n",
            "11/14 [======================>.......] - ETA: 0s - loss: 0.0869 - accuracy: 0.9775\n",
            "Epoch 00062: val_loss improved from 0.11167 to 0.10409, saving model to my_nmt_model_min_loss.h5\n",
            "14/14 [==============================] - 0s 18ms/step - loss: 0.0873 - accuracy: 0.9777 - val_loss: 0.1041 - val_accuracy: 0.9730\n",
            "Epoch 63/100\n",
            "11/14 [======================>.......] - ETA: 0s - loss: 0.0800 - accuracy: 0.9796\n",
            "Epoch 00063: val_loss did not improve from 0.10409\n",
            "14/14 [==============================] - 0s 15ms/step - loss: 0.0794 - accuracy: 0.9799 - val_loss: 0.1377 - val_accuracy: 0.9625\n",
            "Epoch 64/100\n",
            "10/14 [====================>.........] - ETA: 0s - loss: 0.0838 - accuracy: 0.9787\n",
            "Epoch 00064: val_loss improved from 0.10409 to 0.09461, saving model to my_nmt_model_min_loss.h5\n",
            "14/14 [==============================] - 0s 18ms/step - loss: 0.0798 - accuracy: 0.9796 - val_loss: 0.0946 - val_accuracy: 0.9756\n",
            "Epoch 65/100\n",
            "10/14 [====================>.........] - ETA: 0s - loss: 0.0740 - accuracy: 0.9814\n",
            "Epoch 00065: val_loss did not improve from 0.09461\n",
            "14/14 [==============================] - 0s 15ms/step - loss: 0.0779 - accuracy: 0.9804 - val_loss: 0.1029 - val_accuracy: 0.9729\n",
            "Epoch 66/100\n",
            "11/14 [======================>.......] - ETA: 0s - loss: 0.0695 - accuracy: 0.9829\n",
            "Epoch 00066: val_loss improved from 0.09461 to 0.09014, saving model to my_nmt_model_min_loss.h5\n",
            "14/14 [==============================] - 0s 18ms/step - loss: 0.0688 - accuracy: 0.9829 - val_loss: 0.0901 - val_accuracy: 0.9757\n",
            "Epoch 67/100\n",
            "14/14 [==============================] - ETA: 0s - loss: 0.0685 - accuracy: 0.9830\n",
            "Epoch 00067: val_loss improved from 0.09014 to 0.07778, saving model to my_nmt_model_min_loss.h5\n",
            "14/14 [==============================] - 0s 19ms/step - loss: 0.0685 - accuracy: 0.9830 - val_loss: 0.0778 - val_accuracy: 0.9805\n",
            "Epoch 68/100\n",
            "10/14 [====================>.........] - ETA: 0s - loss: 0.0605 - accuracy: 0.9847\n",
            "Epoch 00068: val_loss did not improve from 0.07778\n",
            "14/14 [==============================] - 0s 15ms/step - loss: 0.0684 - accuracy: 0.9818 - val_loss: 0.1093 - val_accuracy: 0.9705\n",
            "Epoch 69/100\n",
            "11/14 [======================>.......] - ETA: 0s - loss: 0.0657 - accuracy: 0.9829\n",
            "Epoch 00069: val_loss did not improve from 0.07778\n",
            "14/14 [==============================] - 0s 15ms/step - loss: 0.0667 - accuracy: 0.9828 - val_loss: 0.0817 - val_accuracy: 0.9787\n",
            "Epoch 70/100\n",
            "14/14 [==============================] - ETA: 0s - loss: 0.0592 - accuracy: 0.9845\n",
            "Epoch 00070: val_loss did not improve from 0.07778\n",
            "14/14 [==============================] - 0s 17ms/step - loss: 0.0592 - accuracy: 0.9845 - val_loss: 0.1105 - val_accuracy: 0.9678\n",
            "Epoch 71/100\n",
            "11/14 [======================>.......] - ETA: 0s - loss: 0.0615 - accuracy: 0.9840\n",
            "Epoch 00071: val_loss improved from 0.07778 to 0.07129, saving model to my_nmt_model_min_loss.h5\n",
            "14/14 [==============================] - 0s 17ms/step - loss: 0.0603 - accuracy: 0.9845 - val_loss: 0.0713 - val_accuracy: 0.9814\n",
            "Epoch 72/100\n",
            "14/14 [==============================] - ETA: 0s - loss: 0.0656 - accuracy: 0.9829\n",
            "Epoch 00072: val_loss did not improve from 0.07129\n",
            "14/14 [==============================] - 0s 16ms/step - loss: 0.0656 - accuracy: 0.9829 - val_loss: 0.0736 - val_accuracy: 0.9809\n",
            "Epoch 73/100\n",
            "11/14 [======================>.......] - ETA: 0s - loss: 0.0539 - accuracy: 0.9864\n",
            "Epoch 00073: val_loss improved from 0.07129 to 0.06551, saving model to my_nmt_model_min_loss.h5\n",
            "14/14 [==============================] - 0s 18ms/step - loss: 0.0526 - accuracy: 0.9866 - val_loss: 0.0655 - val_accuracy: 0.9835\n",
            "Epoch 74/100\n",
            "11/14 [======================>.......] - ETA: 0s - loss: 0.0568 - accuracy: 0.9849\n",
            "Epoch 00074: val_loss did not improve from 0.06551\n",
            "14/14 [==============================] - 0s 15ms/step - loss: 0.0555 - accuracy: 0.9851 - val_loss: 0.0656 - val_accuracy: 0.9829\n",
            "Epoch 75/100\n",
            "10/14 [====================>.........] - ETA: 0s - loss: 0.0479 - accuracy: 0.9874\n",
            "Epoch 00075: val_loss did not improve from 0.06551\n",
            "14/14 [==============================] - 0s 15ms/step - loss: 0.0487 - accuracy: 0.9873 - val_loss: 0.0718 - val_accuracy: 0.9806\n",
            "Epoch 76/100\n",
            "11/14 [======================>.......] - ETA: 0s - loss: 0.0506 - accuracy: 0.9862\n",
            "Epoch 00076: val_loss did not improve from 0.06551\n",
            "14/14 [==============================] - 0s 15ms/step - loss: 0.0492 - accuracy: 0.9867 - val_loss: 0.0735 - val_accuracy: 0.9795\n",
            "Epoch 77/100\n",
            "10/14 [====================>.........] - ETA: 0s - loss: 0.0683 - accuracy: 0.9827\n",
            "Epoch 00077: val_loss improved from 0.06551 to 0.05719, saving model to my_nmt_model_min_loss.h5\n",
            "14/14 [==============================] - 0s 18ms/step - loss: 0.0635 - accuracy: 0.9837 - val_loss: 0.0572 - val_accuracy: 0.9849\n",
            "Epoch 78/100\n",
            "11/14 [======================>.......] - ETA: 0s - loss: 0.0434 - accuracy: 0.9885\n",
            "Epoch 00078: val_loss did not improve from 0.05719\n",
            "14/14 [==============================] - 0s 15ms/step - loss: 0.0436 - accuracy: 0.9884 - val_loss: 0.0578 - val_accuracy: 0.9849\n",
            "Epoch 79/100\n",
            "14/14 [==============================] - ETA: 0s - loss: 0.0447 - accuracy: 0.9877\n",
            "Epoch 00079: val_loss did not improve from 0.05719\n",
            "14/14 [==============================] - 0s 16ms/step - loss: 0.0447 - accuracy: 0.9877 - val_loss: 0.0634 - val_accuracy: 0.9829\n",
            "Epoch 80/100\n",
            "14/14 [==============================] - ETA: 0s - loss: 0.0423 - accuracy: 0.9882\n",
            "Epoch 00080: val_loss did not improve from 0.05719\n",
            "14/14 [==============================] - 0s 16ms/step - loss: 0.0423 - accuracy: 0.9882 - val_loss: 0.0596 - val_accuracy: 0.9846\n",
            "Epoch 81/100\n",
            "10/14 [====================>.........] - ETA: 0s - loss: 0.0461 - accuracy: 0.9874\n",
            "Epoch 00081: val_loss did not improve from 0.05719\n",
            "14/14 [==============================] - 0s 15ms/step - loss: 0.0459 - accuracy: 0.9876 - val_loss: 0.0608 - val_accuracy: 0.9839\n",
            "Epoch 82/100\n",
            "11/14 [======================>.......] - ETA: 0s - loss: 0.0463 - accuracy: 0.9873\n",
            "Epoch 00082: val_loss improved from 0.05719 to 0.05651, saving model to my_nmt_model_min_loss.h5\n",
            "14/14 [==============================] - 0s 18ms/step - loss: 0.0458 - accuracy: 0.9874 - val_loss: 0.0565 - val_accuracy: 0.9844\n",
            "Epoch 83/100\n",
            "11/14 [======================>.......] - ETA: 0s - loss: 0.0391 - accuracy: 0.9893\n",
            "Epoch 00083: val_loss improved from 0.05651 to 0.05601, saving model to my_nmt_model_min_loss.h5\n",
            "14/14 [==============================] - 0s 18ms/step - loss: 0.0389 - accuracy: 0.9892 - val_loss: 0.0560 - val_accuracy: 0.9847\n",
            "Epoch 84/100\n",
            "10/14 [====================>.........] - ETA: 0s - loss: 0.0464 - accuracy: 0.9873\n",
            "Epoch 00084: val_loss improved from 0.05601 to 0.05419, saving model to my_nmt_model_min_loss.h5\n",
            "14/14 [==============================] - 0s 18ms/step - loss: 0.0457 - accuracy: 0.9873 - val_loss: 0.0542 - val_accuracy: 0.9856\n",
            "Epoch 85/100\n",
            "10/14 [====================>.........] - ETA: 0s - loss: 0.0362 - accuracy: 0.9897\n",
            "Epoch 00085: val_loss did not improve from 0.05419\n",
            "14/14 [==============================] - 0s 16ms/step - loss: 0.0365 - accuracy: 0.9895 - val_loss: 0.0647 - val_accuracy: 0.9817\n",
            "Epoch 86/100\n",
            "10/14 [====================>.........] - ETA: 0s - loss: 0.0410 - accuracy: 0.9877\n",
            "Epoch 00086: val_loss improved from 0.05419 to 0.05199, saving model to my_nmt_model_min_loss.h5\n",
            "14/14 [==============================] - 0s 18ms/step - loss: 0.0393 - accuracy: 0.9883 - val_loss: 0.0520 - val_accuracy: 0.9862\n",
            "Epoch 87/100\n",
            "11/14 [======================>.......] - ETA: 0s - loss: 0.0372 - accuracy: 0.9896\n",
            "Epoch 00087: val_loss did not improve from 0.05199\n",
            "14/14 [==============================] - 0s 15ms/step - loss: 0.0411 - accuracy: 0.9882 - val_loss: 0.0542 - val_accuracy: 0.9845\n",
            "Epoch 88/100\n",
            "11/14 [======================>.......] - ETA: 0s - loss: 0.0377 - accuracy: 0.9893\n",
            "Epoch 00088: val_loss did not improve from 0.05199\n",
            "14/14 [==============================] - 0s 15ms/step - loss: 0.0368 - accuracy: 0.9894 - val_loss: 0.0530 - val_accuracy: 0.9857\n",
            "Epoch 89/100\n",
            "11/14 [======================>.......] - ETA: 0s - loss: 0.0343 - accuracy: 0.9899\n",
            "Epoch 00089: val_loss improved from 0.05199 to 0.04999, saving model to my_nmt_model_min_loss.h5\n",
            "14/14 [==============================] - 0s 18ms/step - loss: 0.0342 - accuracy: 0.9899 - val_loss: 0.0500 - val_accuracy: 0.9862\n",
            "Epoch 90/100\n",
            "14/14 [==============================] - ETA: 0s - loss: 0.0424 - accuracy: 0.9879\n",
            "Epoch 00090: val_loss improved from 0.04999 to 0.04370, saving model to my_nmt_model_min_loss.h5\n",
            "14/14 [==============================] - 0s 18ms/step - loss: 0.0424 - accuracy: 0.9879 - val_loss: 0.0437 - val_accuracy: 0.9876\n",
            "Epoch 91/100\n",
            "11/14 [======================>.......] - ETA: 0s - loss: 0.0297 - accuracy: 0.9914\n",
            "Epoch 00091: val_loss did not improve from 0.04370\n",
            "14/14 [==============================] - 0s 15ms/step - loss: 0.0308 - accuracy: 0.9909 - val_loss: 0.0450 - val_accuracy: 0.9867\n",
            "Epoch 92/100\n",
            "11/14 [======================>.......] - ETA: 0s - loss: 0.0312 - accuracy: 0.9908\n",
            "Epoch 00092: val_loss did not improve from 0.04370\n",
            "14/14 [==============================] - 0s 15ms/step - loss: 0.0327 - accuracy: 0.9905 - val_loss: 0.0526 - val_accuracy: 0.9858\n",
            "Epoch 93/100\n",
            "11/14 [======================>.......] - ETA: 0s - loss: 0.0350 - accuracy: 0.9898\n",
            "Epoch 00093: val_loss did not improve from 0.04370\n",
            "14/14 [==============================] - 0s 15ms/step - loss: 0.0346 - accuracy: 0.9899 - val_loss: 0.0448 - val_accuracy: 0.9869\n",
            "Epoch 94/100\n",
            "10/14 [====================>.........] - ETA: 0s - loss: 0.0322 - accuracy: 0.9906\n",
            "Epoch 00094: val_loss did not improve from 0.04370\n",
            "14/14 [==============================] - 0s 16ms/step - loss: 0.0320 - accuracy: 0.9906 - val_loss: 0.0438 - val_accuracy: 0.9877\n",
            "Epoch 95/100\n",
            "11/14 [======================>.......] - ETA: 0s - loss: 0.0333 - accuracy: 0.9899\n",
            "Epoch 00095: val_loss improved from 0.04370 to 0.03896, saving model to my_nmt_model_min_loss.h5\n",
            "14/14 [==============================] - 0s 17ms/step - loss: 0.0324 - accuracy: 0.9900 - val_loss: 0.0390 - val_accuracy: 0.9893\n",
            "Epoch 96/100\n",
            "11/14 [======================>.......] - ETA: 0s - loss: 0.0346 - accuracy: 0.9900\n",
            "Epoch 00096: val_loss did not improve from 0.03896\n",
            "14/14 [==============================] - 0s 15ms/step - loss: 0.0337 - accuracy: 0.9902 - val_loss: 0.0421 - val_accuracy: 0.9880\n",
            "Epoch 97/100\n",
            "11/14 [======================>.......] - ETA: 0s - loss: 0.0276 - accuracy: 0.9915\n",
            "Epoch 00097: val_loss did not improve from 0.03896\n",
            "14/14 [==============================] - 0s 15ms/step - loss: 0.0276 - accuracy: 0.9915 - val_loss: 0.0397 - val_accuracy: 0.9884\n",
            "Epoch 98/100\n",
            "10/14 [====================>.........] - ETA: 0s - loss: 0.0296 - accuracy: 0.9910\n",
            "Epoch 00098: val_loss did not improve from 0.03896\n",
            "14/14 [==============================] - 0s 16ms/step - loss: 0.0284 - accuracy: 0.9914 - val_loss: 0.0451 - val_accuracy: 0.9864\n",
            "Epoch 99/100\n",
            "10/14 [====================>.........] - ETA: 0s - loss: 0.0299 - accuracy: 0.9909\n",
            "Epoch 00099: val_loss did not improve from 0.03896\n",
            "14/14 [==============================] - 0s 15ms/step - loss: 0.0370 - accuracy: 0.9888 - val_loss: 0.0471 - val_accuracy: 0.9863\n",
            "Epoch 100/100\n",
            "11/14 [======================>.......] - ETA: 0s - loss: 0.0283 - accuracy: 0.9918\n",
            "Epoch 00100: val_loss did not improve from 0.03896\n",
            "14/14 [==============================] - 0s 15ms/step - loss: 0.0274 - accuracy: 0.9920 - val_loss: 0.0401 - val_accuracy: 0.9886\n"
          ]
        },
        {
          "output_type": "stream",
          "name": "stderr",
          "text": [
            "WARNING:absl:Found untraced functions such as lstm_cell_layer_call_fn, lstm_cell_layer_call_and_return_conditional_losses, lstm_cell_1_layer_call_fn, lstm_cell_1_layer_call_and_return_conditional_losses, lstm_cell_layer_call_fn while saving (showing 5 of 10). These functions will not be directly callable after loading.\n"
          ]
        },
        {
          "output_type": "stream",
          "name": "stdout",
          "text": [
            "INFO:tensorflow:Assets written to: lstm_s2s_v1/assets\n"
          ]
        },
        {
          "output_type": "stream",
          "name": "stderr",
          "text": [
            "INFO:tensorflow:Assets written to: lstm_s2s_v1/assets\n",
            "WARNING:absl:<keras.layers.recurrent.LSTMCell object at 0x7f2e9f6c3ed0> has the same name 'LSTMCell' as a built-in Keras object. Consider renaming <class 'keras.layers.recurrent.LSTMCell'> to avoid naming conflicts when loading with `tf.keras.models.load_model`. If renaming is not possible, pass the object in the `custom_objects` parameter of the load function.\n",
            "WARNING:absl:<keras.layers.recurrent.LSTMCell object at 0x7f2e94286050> has the same name 'LSTMCell' as a built-in Keras object. Consider renaming <class 'keras.layers.recurrent.LSTMCell'> to avoid naming conflicts when loading with `tf.keras.models.load_model`. If renaming is not possible, pass the object in the `custom_objects` parameter of the load function.\n"
          ]
        }
      ]
    },
    {
      "cell_type": "code",
      "source": [
        "plt.plot(history.history['loss'])\n",
        "plt.plot(history.history['val_loss'])\n",
        "plt.legend(['train','validation'])\n",
        "plt.show()"
      ],
      "metadata": {
        "colab": {
          "base_uri": "https://localhost:8080/",
          "height": 347
        },
        "id": "hX1qIK1zkZ27",
        "outputId": "c9a40627-3a49-4bf1-d0ec-808ae87312cb"
      },
      "execution_count": null,
      "outputs": [
        {
          "output_type": "display_data",
          "data": {
            "image/png": "[encoded data removed]",
            "text/plain": [
              "<Figure size 576x396 with 1 Axes>"
            ]
          },
          "metadata": {}
        }
      ]
    },
    {
      "cell_type": "code",
      "source": [
        "plt.plot(history.history['accuracy'])\n",
        "plt.plot(history.history['val_accuracy'])\n",
        "plt.legend(['train','validation'])\n",
        "plt.show()"
      ],
      "metadata": {
        "colab": {
          "base_uri": "https://localhost:8080/",
          "height": 347
        },
        "id": "FGmdIzu0zRmk",
        "outputId": "b034a75a-22ca-4c82-e5c4-4af53025e23b"
      },
      "execution_count": null,
      "outputs": [
        {
          "output_type": "display_data",
          "data": {
            "image/png": "[encoded data removed]",
            "text/plain": [
              "<Figure size 576x396 with 1 Axes>"
            ]
          },
          "metadata": {}
        }
      ]
    },
    {
      "cell_type": "markdown",
      "source": [
        "## Run Inference on a sample (n=20) of the Training Data"
      ],
      "metadata": {
        "id": "qc7bLyrk1XS1"
      }
    },
    {
      "cell_type": "code",
      "execution_count": null,
      "metadata": {
        "id": "TisMeH9B0jFG"
      },
      "outputs": [],
      "source": [
        "# Define sampling models\n",
        "# Restore the model and construct the encoder and decoder.\n",
        "model = keras.models.load_model(\"lstm_s2s_v1\")\n",
        "\n",
        "encoder_inputs = model.input[0]  # input_1\n",
        "encoder_outputs, state_h_enc, state_c_enc = model.layers[2].output  # lstm_1\n",
        "encoder_states = [state_h_enc, state_c_enc]\n",
        "encoder_model = keras.Model(encoder_inputs, encoder_states)\n",
        "\n",
        "decoder_inputs = model.input[1]  # input_2\n",
        "decoder_state_input_h = keras.Input(shape=(latent_dim,))\n",
        "decoder_state_input_c = keras.Input(shape=(latent_dim,))\n",
        "decoder_states_inputs = [decoder_state_input_h, decoder_state_input_c]\n",
        "decoder_lstm = model.layers[3]\n",
        "decoder_outputs, state_h_dec, state_c_dec = decoder_lstm(\n",
        "    decoder_inputs, initial_state=decoder_states_inputs\n",
        ")\n",
        "decoder_states = [state_h_dec, state_c_dec]\n",
        "decoder_dense = model.layers[4]\n",
        "decoder_outputs = decoder_dense(decoder_outputs)\n",
        "decoder_model = keras.Model(\n",
        "    [decoder_inputs] + decoder_states_inputs, [decoder_outputs] + decoder_states\n",
        ")\n",
        "\n",
        "# Reverse-lookup token index to decode sequences back to\n",
        "# something readable.\n",
        "reverse_input_char_index = dict((i, char) for char, i in input_token_index.items())\n",
        "reverse_target_char_index = dict((i, char) for char, i in target_token_index.items())\n",
        "\n",
        "\n",
        "def decode_sequence(input_seq):\n",
        "    # Encode the input as state vectors.\n",
        "    states_value = encoder_model.predict(input_seq)\n",
        "\n",
        "    # Generate empty target sequence of length 1.\n",
        "    target_seq = np.zeros((1, 1, num_decoder_tokens))\n",
        "    # Populate the first character of target sequence with the start character.\n",
        "    # WHY --> to find that vector in the encoded inputs?\n",
        "    target_seq[0, 0, target_token_index[\"\\t\"]] = 1.0\n",
        "\n",
        "    # Sampling loop for a batch of sequences\n",
        "    # (to simplify, here we assume a batch of size 1).\n",
        "    stop_condition = False\n",
        "    decoded_sentence = \"\"\n",
        "    while not stop_condition:\n",
        "        output_tokens, h, c = decoder_model.predict([target_seq] + states_value)\n",
        "\n",
        "        # Sample a token\n",
        "        sampled_token_index = np.argmax(output_tokens[0, -1, :])\n",
        "        sampled_char = reverse_target_char_index[sampled_token_index]\n",
        "        decoded_sentence += sampled_char\n",
        "\n",
        "        # Exit condition: either hit max length\n",
        "        # or find stop character.\n",
        "        if sampled_char == \"\\n\" or len(decoded_sentence) > max_decoder_seq_length:\n",
        "            stop_condition = True\n",
        "\n",
        "        # Update the target sequence (of length 1).\n",
        "        target_seq = np.zeros((1, 1, num_decoder_tokens))\n",
        "        target_seq[0, 0, sampled_token_index] = 1.0\n",
        "\n",
        "        # Update states\n",
        "        states_value = [h, c]\n",
        "    return decoded_sentence"
      ]
    },
    {
      "cell_type": "code",
      "execution_count": null,
      "metadata": {
        "colab": {
          "base_uri": "https://localhost:8080/"
        },
        "id": "Lry6Ba0U0ov2",
        "outputId": "99929b4f-a9d3-4ae6-9129-85d832e02fde"
      },
      "outputs": [
        {
          "output_type": "stream",
          "name": "stdout",
          "text": [
            "-\n",
            "Input sentence: valid to\n",
            "Decoded sentence: valid to\n",
            "\n",
            "True Target sentence: \tvalid to\n",
            "\n",
            "-\n",
            "Input sentence: sys last modified by\n",
            "Decoded sentence: last modified date\n",
            "\n",
            "True Target sentence: \tlast modified by\n",
            "\n",
            "-\n",
            "Input sentence: lineage key\n",
            "Decoded sentence: last modified date\n",
            "\n",
            "True Target sentence: \tlineage key for the data load for this row\n",
            "\n",
            "-\n",
            "Input sentence: modified date\n",
            "Decoded sentence: date and time the record was last updated\n",
            "\n",
            "True Target sentence: \tdate and time the record was last updated\n",
            "\n",
            "-\n",
            "Input sentence: classification attribute id\n",
            "Decoded sentence: sme name\n",
            "\n",
            "True Target sentence: \tclassification attribute id\n",
            "\n",
            "-\n",
            "Input sentence: user id\n",
            "Decoded sentence: user id\n",
            "\n",
            "True Target sentence: \tuser identifier\n",
            "\n",
            "-\n",
            "Input sentence: domain id\n",
            "Decoded sentence: date and time the record was last updated\n",
            "\n",
            "True Target sentence: \tdomain id\n",
            "\n",
            "-\n",
            "Input sentence: rowguid\n",
            "Decoded sentence: date and time the record was last updated\n",
            "\n",
            "True Target sentence: \trowguidcol number uniquely identifying the record used to support a merge replication sample\n",
            "\n",
            "-\n",
            "Input sentence: full name\n",
            "Decoded sentence: first name\n",
            "\n",
            "True Target sentence: \tfull name for this person\n",
            "\n",
            "-\n",
            "Input sentence: last edited by\n",
            "Decoded sentence: last edited by\n",
            "\n",
            "True Target sentence: \tlast edited by\n",
            "\n",
            "-\n",
            "Input sentence: end date\n",
            "Decoded sentence: end date\n",
            "\n",
            "True Target sentence: \tend date\n",
            "\n",
            "-\n",
            "Input sentence: attribute is pk\n",
            "Decoded sentence: is primary key\n",
            "\n",
            "True Target sentence: \tis primary key\n",
            "\n",
            "-\n",
            "Input sentence: city\n",
            "Decoded sentence: phone number\n",
            "\n",
            "True Target sentence: \tcity\n",
            "\n",
            "-\n",
            "Input sentence: total including tax\n",
            "Decoded sentence: sme name\n",
            "\n",
            "True Target sentence: \ttotal amount including tax\n",
            "\n",
            "-\n",
            "Input sentence: application id\n",
            "Decoded sentence: phone number\n",
            "\n",
            "True Target sentence: \tapplication id\n",
            "\n",
            "-\n",
            "Input sentence: attribute business rule\n",
            "Decoded sentence: attribute technical name\n",
            "\n",
            "True Target sentence: \tattribute business rule\n",
            "\n",
            "-\n",
            "Input sentence: product id\n",
            "Decoded sentence: product identification number foreign key to productproduct id\n",
            "\n",
            "True Target sentence: \tproduct identification number foreign key to productproduct id\n",
            "\n",
            "-\n",
            "Input sentence: description\n",
            "Decoded sentence: name of the region\n",
            "\n",
            "True Target sentence: \tdescription\n",
            "\n",
            "-\n",
            "Input sentence: p af 189443\n",
            "Decoded sentence: datetime\n",
            "\n",
            "True Target sentence: \tquantity\n",
            "\n",
            "-\n",
            "Input sentence: asset business name\n",
            "Decoded sentence: business name\n",
            "\n",
            "True Target sentence: \tbusiness name\n",
            "\n"
          ]
        }
      ],
      "source": [
        "for seq_index in range(20):\n",
        "    # Take one sequence (part of the training set)\n",
        "    # for trying out decoding.\n",
        "    input_seq = encoder_input_data[seq_index : seq_index + 1]\n",
        "    decoded_sentence = decode_sequence(input_seq)\n",
        "    print(\"-\")\n",
        "    print(\"Input sentence:\", input_texts[seq_index])\n",
        "    print(\"Decoded sentence:\", decoded_sentence)\n",
        "    print(\"True Target sentence:\", target_texts[seq_index])"
      ]
    },
    {
      "cell_type": "markdown",
      "source": [
        "Run Inference on a sample (n=20) of the Test Data"
      ],
      "metadata": {
        "id": "74MTYZ47gida"
      }
    },
    {
      "cell_type": "code",
      "source": [
        "# vectorize the data\n",
        "\n",
        "input_texts = pre_process_text(test[\"Attribute_Technical_Name\"])\n",
        "target_texts = [\"\\t\" + s + \"\\n\" for s in pre_process_text(test[\"Attribute_Business_Name\"])]\n",
        "input_characters = set()\n",
        "target_characters = set()\n",
        "for input_name, target_name in zip(input_texts, target_texts):\n",
        "  for char in input_name:\n",
        "    if char not in input_characters:\n",
        "      input_characters.add(char)\n",
        "  for char in target_name:\n",
        "    if char not in target_characters:\n",
        "      target_characters.add(char)\n",
        "\n",
        "input_characters = sorted(list(input_characters))\n",
        "target_characters = sorted(list(target_characters))\n",
        "num_encoder_tokens = len(input_characters)\n",
        "num_decoder_tokens = len(target_characters)\n",
        "max_encoder_seq_length = max([len(txt) for txt in input_texts])\n",
        "max_decoder_seq_length = max([len(txt) for txt in target_texts])\n",
        "\n",
        "print(\"Number of samples:\", len(input_texts))\n",
        "print(\"Number of unique input tokens:\", num_encoder_tokens)\n",
        "print(\"Number of unique output tokens:\", num_decoder_tokens)\n",
        "print(\"Max sequence length for inputs:\", max_encoder_seq_length)\n",
        "print(\"Max sequence length for outputs:\", max_decoder_seq_length)\n",
        "\n",
        "input_token_index = dict([(char, i) for i, char in enumerate(input_characters)])\n",
        "target_token_index = dict([(char, i) for i, char in enumerate(target_characters)])\n",
        "\n",
        "encoder_input_data = np.zeros(\n",
        "    (len(input_texts), max_encoder_seq_length, num_encoder_tokens), dtype=\"float32\"\n",
        ")\n",
        "decoder_input_data = np.zeros(\n",
        "    (len(input_texts), max_decoder_seq_length, num_decoder_tokens), dtype=\"float32\"\n",
        ")\n",
        "decoder_target_data = np.zeros(\n",
        "    (len(input_texts), max_decoder_seq_length, num_decoder_tokens), dtype=\"float32\"\n",
        ")\n",
        "\n",
        "for i, (input_text, target_text) in enumerate(zip(input_texts, target_texts)):\n",
        "    for t, char in enumerate(input_text):\n",
        "        encoder_input_data[i, t, input_token_index[char]] = 1.0\n",
        "    encoder_input_data[i, t + 1 :, input_token_index[\" \"]] = 1.0\n",
        "    for t, char in enumerate(target_text):\n",
        "        # decoder_target_data is ahead of decoder_input_data by one timestep\n",
        "        decoder_input_data[i, t, target_token_index[char]] = 1.0\n",
        "        if t > 0:\n",
        "            # decoder_target_data will be ahead by one timestep\n",
        "            # and will not include the start character.\n",
        "            decoder_target_data[i, t - 1, target_token_index[char]] = 1.0\n",
        "    decoder_input_data[i, t + 1 :, target_token_index[\" \"]] = 1.0\n",
        "    decoder_target_data[i, t:, target_token_index[\" \"]] = 1.0"
      ],
      "metadata": {
        "colab": {
          "base_uri": "https://localhost:8080/"
        },
        "id": "XDhxQDwEgi3e",
        "outputId": "6264b481-afae-49e3-8ef4-a26fbbcc1e75"
      },
      "execution_count": null,
      "outputs": [
        {
          "output_type": "stream",
          "name": "stderr",
          "text": [
            "100%|██████████| 269/269 [00:00<00:00, 60751.01it/s]\n",
            "100%|██████████| 269/269 [00:00<00:00, 46268.93it/s]"
          ]
        },
        {
          "output_type": "stream",
          "name": "stdout",
          "text": [
            "Number of samples: 269\n",
            "Number of unique input tokens: 36\n",
            "Number of unique output tokens: 32\n",
            "Max sequence length for inputs: 35\n",
            "Max sequence length for outputs: 94\n"
          ]
        },
        {
          "output_type": "stream",
          "name": "stderr",
          "text": [
            "\n"
          ]
        }
      ]
    },
    {
      "cell_type": "code",
      "source": [
        "score, acc = model.evaluate(\n",
        "    [encoder_input_data, decoder_input_data],\n",
        "    decoder_target_data,\n",
        "    batch_size=batch_size)\n",
        "\n",
        "print('Test score:', score)\n",
        "print('Test accuracy:', acc)"
      ],
      "metadata": {
        "colab": {
          "base_uri": "https://localhost:8080/"
        },
        "id": "7M3DBXhajPDW",
        "outputId": "a82344d4-73ff-4b59-c744-fb3088d15092"
      },
      "execution_count": null,
      "outputs": [
        {
          "output_type": "stream",
          "name": "stdout",
          "text": [
            "5/5 [==============================] - 1s 10ms/step - loss: 0.0296 - accuracy: 0.9912\n",
            "Test score: 0.029628992080688477\n",
            "Test accuracy: 0.9912204146385193\n"
          ]
        }
      ]
    },
    {
      "cell_type": "code",
      "source": [
        "for seq_index in range(20):\n",
        "    # Take one sequence (part of the training set)\n",
        "    # for trying out decoding.\n",
        "    input_seq = encoder_input_data[seq_index : seq_index + 1]\n",
        "    decoded_sentence = decode_sequence(input_seq)\n",
        "    print(\"-\")\n",
        "    print(\"Input sentence:\", input_texts[seq_index])\n",
        "    print(\"Decoded sentence:\", decoded_sentence)\n",
        "    print(\"True Target sentence:\", target_texts[seq_index])"
      ],
      "metadata": {
        "colab": {
          "base_uri": "https://localhost:8080/"
        },
        "id": "1LWml35HiKZP",
        "outputId": "a462d9dc-aba1-459e-9495-e9b69badbde8"
      },
      "execution_count": null,
      "outputs": [
        {
          "output_type": "stream",
          "name": "stdout",
          "text": [
            "-\n",
            "Input sentence: asset database\n",
            "Decoded sentence: status id\n",
            "\n",
            "True Target sentence: \tdatabase\n",
            "\n",
            "-\n",
            "Input sentence: attribute business rule\n",
            "Decoded sentence: attribute technical name\n",
            "\n",
            "True Target sentence: \tattribute business rule\n",
            "\n",
            "-\n",
            "Input sentence: domain name\n",
            "Decoded sentence: date and time the record was last updated\n",
            "\n",
            "True Target sentence: \tdomain name\n",
            "\n",
            "-\n",
            "Input sentence: visit detail id\n",
            "Decoded sentence: visit detail id\n",
            "\n",
            "True Target sentence: \tvisit detail id\n",
            "\n",
            "-\n",
            "Input sentence: country region name\n",
            "Decoded sentence: phone number\n",
            "\n",
            "True Target sentence: \tcountry region name\n",
            "\n",
            "-\n",
            "Input sentence: valid from\n",
            "Decoded sentence: valid from this date and time\n",
            "\n",
            "True Target sentence: \tvalid from this date and time\n",
            "\n",
            "-\n",
            "Input sentence: total including tax\n",
            "Decoded sentence: is deleted\n",
            "\n",
            "True Target sentence: \ttotal amount including tax\n",
            "\n",
            "-\n",
            "Input sentence: sys is deleted\n",
            "Decoded sentence: last modified date\n",
            "\n",
            "True Target sentence: \tis deleted\n",
            "\n",
            "-\n",
            "Input sentence: attribute business name\n",
            "Decoded sentence: attribute technical name\n",
            "\n",
            "True Target sentence: \tattribute business name\n",
            "\n",
            "-\n",
            "Input sentence: domain name\n",
            "Decoded sentence: date and time the record was last updated\n",
            "\n",
            "True Target sentence: \tdomain name\n",
            "\n",
            "-\n",
            "Input sentence: full name\n",
            "Decoded sentence: first name\n",
            "\n",
            "True Target sentence: \tfull name for this person\n",
            "\n",
            "-\n",
            "Input sentence: sys last scanned\n",
            "Decoded sentence: last modified date\n",
            "\n",
            "True Target sentence: \tlast scanned\n",
            "\n",
            "-\n",
            "Input sentence: p af 189359\n",
            "Decoded sentence: datetime\n",
            "\n",
            "True Target sentence: \tunit\n",
            "\n",
            "-\n",
            "Input sentence: sys last modified\n",
            "Decoded sentence: last modified date\n",
            "\n",
            "True Target sentence: \tlast modified date\n",
            "\n",
            "-\n",
            "Input sentence: patient ide\n",
            "Decoded sentence: patient identifier\n",
            "\n",
            "True Target sentence: \tpatient identifier\n",
            "\n",
            "-\n",
            "Input sentence: sys last modified by\n",
            "Decoded sentence: last modified date\n",
            "\n",
            "True Target sentence: \tlast modified by\n",
            "\n",
            "-\n",
            "Input sentence: sourcesystem cd\n",
            "Decoded sentence: phone number\n",
            "\n",
            "True Target sentence: \tsource system code\n",
            "\n",
            "-\n",
            "Input sentence: domain status id\n",
            "Decoded sentence: date and time the record was last updated\n",
            "\n",
            "True Target sentence: \tstatus id\n",
            "\n",
            "-\n",
            "Input sentence: attribute status id\n",
            "Decoded sentence: status id\n",
            "\n",
            "True Target sentence: \tstatus id\n",
            "\n",
            "-\n",
            "Input sentence: rowguid\n",
            "Decoded sentence: date and time the record was last updated\n",
            "\n",
            "True Target sentence: \trowguidcol number uniquely identifying the record used to support a merge replication sample\n",
            "\n"
          ]
        }
      ]
    }
  ],
  "metadata": {
    "accelerator": "GPU",
    "colab": {
      "machine_shape": "hm",
      "name": "Sidecar_Project_lstm_seq2seq_model_reduced_data.ipynb",
      "provenance": [],
      "authorship_tag": "ABX9TyPG8cBHULG0wzjjUB/EfTXa",
      "include_colab_link": true
    },
    "kernelspec": {
      "display_name": "Python 3",
      "name": "python3"
    },
    "language_info": {
      "name": "python"
    }
  },
  "nbformat": 4,
  "nbformat_minor": 0
}