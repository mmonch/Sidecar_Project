{
  "cells": [
    {
      "cell_type": "markdown",
      "metadata": {
        "id": "view-in-github",
        "colab_type": "text"
      },
      "source": [
        "<a href=\"https://colab.research.google.com/github/mmonch/Sidecar_Project/blob/main/notebooks/Sidecar_Project_lstm_seq2seq_model_almost_full_data.ipynb\" target=\"_parent\"><img src=\"https://colab.research.google.com/assets/colab-badge.svg\" alt=\"Open In Colab\"/></a>"
      ]
    },
    {
      "cell_type": "markdown",
      "metadata": {
        "id": "eIb_ydn-kWHQ"
      },
      "source": [
        "# Character-level recurrent sequence-to-sequence model"
      ]
    },
    {
      "cell_type": "markdown",
      "metadata": {
        "id": "I_YpcXAWkamu"
      },
      "source": [
        "Source: https://keras.io/examples/nlp/lstm_seq2seq/"
      ]
    },
    {
      "cell_type": "markdown",
      "metadata": {
        "id": "b6OJnJM7q1E7"
      },
      "source": [
        "## Setup"
      ]
    },
    {
      "cell_type": "code",
      "execution_count": null,
      "metadata": {
        "colab": {
          "base_uri": "https://localhost:8080/"
        },
        "id": "x2PGKuBXrkXI",
        "outputId": "1757cf4e-7ba7-4892-ed48-52506fd5f8e2"
      },
      "outputs": [
        {
          "output_type": "stream",
          "name": "stdout",
          "text": [
            "Requirement already satisfied: contractions in /usr/local/lib/python3.7/dist-packages (0.1.66)\n",
            "Requirement already satisfied: textsearch>=0.0.21 in /usr/local/lib/python3.7/dist-packages (from contractions) (0.0.21)\n",
            "Requirement already satisfied: anyascii in /usr/local/lib/python3.7/dist-packages (from textsearch>=0.0.21->contractions) (0.3.0)\n",
            "Requirement already satisfied: pyahocorasick in /usr/local/lib/python3.7/dist-packages (from textsearch>=0.0.21->contractions) (1.4.2)\n"
          ]
        }
      ],
      "source": [
        "!pip install contractions"
      ]
    },
    {
      "cell_type": "code",
      "execution_count": null,
      "metadata": {
        "id": "DyZCa2ARkOnm"
      },
      "outputs": [],
      "source": [
        "# nlp packages\n",
        "import re\n",
        "import unicodedata\n",
        "import contractions\n",
        "import spacy\n",
        "import nltk\n",
        "\n",
        "# progressbar\n",
        "import tqdm\n",
        "\n",
        "# general packages\n",
        "import numpy as np\n",
        "import pandas as pd\n",
        "import tensorflow as tf\n",
        "from sklearn.model_selection import train_test_split\n",
        "\n",
        "# Deeplearing\n",
        "from tensorflow import keras\n",
        "import matplotlib.pyplot as plt"
      ]
    },
    {
      "cell_type": "code",
      "source": [
        "# fix random seed for reproducibility\n",
        "seed = 42\n",
        "\n",
        "# for numpy\n",
        "np.random.seed(seed)\n",
        "# for tenserflow.keras\n",
        "tf.random.set_seed(seed)"
      ],
      "metadata": {
        "id": "0rHCETaUkDci"
      },
      "execution_count": null,
      "outputs": []
    },
    {
      "cell_type": "markdown",
      "metadata": {
        "id": "flbw5AINq5sc"
      },
      "source": [
        "## Download the data"
      ]
    },
    {
      "cell_type": "code",
      "execution_count": null,
      "metadata": {
        "colab": {
          "base_uri": "https://localhost:8080/"
        },
        "id": "848tnZjuk1H1",
        "outputId": "d5692282-8516-43ed-e250-706d669a22d3"
      },
      "outputs": [
        {
          "output_type": "stream",
          "name": "stdout",
          "text": [
            "Drive already mounted at /content/gdrive; to attempt to forcibly remount, call drive.mount(\"/content/gdrive\", force_remount=True).\n"
          ]
        }
      ],
      "source": [
        "from google.colab import drive\n",
        "drive.mount('/content/gdrive')"
      ]
    },
    {
      "cell_type": "code",
      "execution_count": null,
      "metadata": {
        "id": "L5SPcebFlCaG",
        "colab": {
          "base_uri": "https://localhost:8080/"
        },
        "outputId": "37385d09-4481-4291-c49b-2bd1d749eb90"
      },
      "outputs": [
        {
          "output_type": "execute_result",
          "data": {
            "text/plain": [
              "4133"
            ]
          },
          "metadata": {},
          "execution_count": 50
        }
      ],
      "source": [
        "data = pd.read_csv(\"gdrive/My Drive/SIDECAR_P/Sidecar_Data_Sample.csv\")\n",
        "len(data)"
      ]
    },
    {
      "cell_type": "code",
      "source": [
        "data = data[data[\"Attribute_Business_Name\"].map(data[\"Attribute_Business_Name\"].value_counts()) > 1]\n",
        "len(data)"
      ],
      "metadata": {
        "colab": {
          "base_uri": "https://localhost:8080/"
        },
        "id": "y1fCu-dGvO0F",
        "outputId": "e77326c5-48cc-4197-e0c0-5b71779434fa"
      },
      "execution_count": null,
      "outputs": [
        {
          "output_type": "execute_result",
          "data": {
            "text/plain": [
              "2636"
            ]
          },
          "metadata": {},
          "execution_count": 51
        }
      ]
    },
    {
      "cell_type": "code",
      "source": [
        "data[\"Attribute_Business_Name\"].value_counts()"
      ],
      "metadata": {
        "colab": {
          "base_uri": "https://localhost:8080/"
        },
        "id": "Jye1Fv_3xT_u",
        "outputId": "a9e90e64-8c3c-4222-de65-f27922f03947"
      },
      "execution_count": null,
      "outputs": [
        {
          "output_type": "execute_result",
          "data": {
            "text/plain": [
              "Date and time the record was last updated.    70\n",
              "Last modified date                            58\n",
              "Last modified by                              52\n",
              "Last Edited By                                49\n",
              "Valid to                                      38\n",
              "                                              ..\n",
              "Configuration classification id                2\n",
              "Config Search id                               2\n",
              "Audit Classification Config id                 2\n",
              "Audit classification id                        2\n",
              "Sidecar Note                                   2\n",
              "Name: Attribute_Business_Name, Length: 602, dtype: int64"
            ]
          },
          "metadata": {},
          "execution_count": 27
        }
      ]
    },
    {
      "cell_type": "markdown",
      "source": [
        "## Train Test Split"
      ],
      "metadata": {
        "id": "mytXo9EQ2z63"
      }
    },
    {
      "cell_type": "markdown",
      "source": [
        "Issue #1:\n",
        "We can't stratify the classes if we have classes with less than two members in the dataset.\n",
        "\n",
        "ValueError: The least populated class in y has only 1 member, which is too few. The minimum number of groups for any class cannot be less than 2.\n",
        "\n",
        "Issue #2: \n",
        "The testset must be greater than number of classes!\n",
        "\n",
        "ValueError: The test_size = 528 should be greater or equal to the number of classes = 602\n",
        "\n",
        "Therefore I removed any value_counts() under 2 and increased the test_size to 0.3 (from 0.2)"
      ],
      "metadata": {
        "id": "6qvdD8xGu87i"
      }
    },
    {
      "cell_type": "code",
      "source": [
        "train, test = train_test_split(data, test_size=0.3, random_state=42, stratify=data[\"Attribute_Business_Name\"])"
      ],
      "metadata": {
        "id": "w9_sYTcd24Zo"
      },
      "execution_count": null,
      "outputs": []
    },
    {
      "cell_type": "code",
      "source": [
        "print(\"Length of Training Set: \" + str(len(train)), \"\\nLength of Test Set: \" + str(len(test)))"
      ],
      "metadata": {
        "colab": {
          "base_uri": "https://localhost:8080/"
        },
        "id": "_Tsmbk1-4CsP",
        "outputId": "939dbd8f-2c7e-473d-b0a3-e9c7c4a762b3"
      },
      "execution_count": null,
      "outputs": [
        {
          "output_type": "stream",
          "name": "stdout",
          "text": [
            "Length of Training Set: 1845 \n",
            "Length of Test Set: 791\n"
          ]
        }
      ]
    },
    {
      "cell_type": "code",
      "source": [
        "print(train.Attribute_Business_Name.value_counts(), test.Attribute_Business_Name.value_counts())"
      ],
      "metadata": {
        "colab": {
          "base_uri": "https://localhost:8080/"
        },
        "id": "ju4AtMjk4CP3",
        "outputId": "e60f88e0-9d5d-44a6-d891-6dde2626cd0f"
      },
      "execution_count": null,
      "outputs": [
        {
          "output_type": "stream",
          "name": "stdout",
          "text": [
            "Date and time the record was last updated.                           49\n",
            "Last modified date                                                   41\n",
            "Last modified by                                                     36\n",
            "Last Edited By                                                       34\n",
            "Valid from                                                           27\n",
            "                                                                     ..\n",
            "Birth place                                                           1\n",
            "Purchase order, sales order, or work order identification number.     1\n",
            "Typical weight for one unit of this product (packaged)                1\n",
            "Supplier's bank's international code (such as a SWIFT code)           1\n",
            "Set index                                                             1\n",
            "Name: Attribute_Business_Name, Length: 602, dtype: int64 Date and time the record was last updated.    21\n",
            "Last modified date                            17\n",
            "Last modified by                              16\n",
            "Last Edited By                                15\n",
            "Valid from                                    11\n",
            "                                              ..\n",
            "Observation blob                               1\n",
            "Country ISO Code                               1\n",
            "Subdivision code                               1\n",
            "Latest available population for the City       1\n",
            "collection special conditions text             1\n",
            "Name: Attribute_Business_Name, Length: 500, dtype: int64\n"
          ]
        }
      ]
    },
    {
      "cell_type": "markdown",
      "metadata": {
        "id": "ddSdDiGMq9fa"
      },
      "source": [
        "## Configurations"
      ]
    },
    {
      "cell_type": "code",
      "source": [
        "# for plotting\n",
        "plt.style.use(\"seaborn\")"
      ],
      "metadata": {
        "id": "hXPTUKpc1xt-"
      },
      "execution_count": null,
      "outputs": []
    },
    {
      "cell_type": "code",
      "execution_count": null,
      "metadata": {
        "id": "cIbFhHzNks8Z"
      },
      "outputs": [],
      "source": [
        "# for lstm seq 2 seq model\n",
        "batch_size = 64  # Batch size for training.\n",
        "epochs = 100  # Number of epochs to train for.\n",
        "latent_dim = 256  # Latent dimensionality of the encoding space."
      ]
    },
    {
      "cell_type": "markdown",
      "metadata": {
        "id": "u3xT7E5Vq_6q"
      },
      "source": [
        "## Prepare the data"
      ]
    },
    {
      "cell_type": "markdown",
      "metadata": {
        "id": "j0qyLJ1HrD-0"
      },
      "source": [
        "### Preprocess and normalize the data\n"
      ]
    },
    {
      "cell_type": "code",
      "execution_count": null,
      "metadata": {
        "id": "vkZjfRIHrQew"
      },
      "outputs": [],
      "source": [
        "# preprocess and normalize Text\n",
        "\n",
        "# in case text not english\n",
        "def remove_accented_chars(text):\n",
        "  text = unicodedata.normalize('NFKD', text).encode('ascii', 'ignore').decode('utf-8', 'ignore')\n",
        "  return text\n",
        "\n",
        "# preprocessing\n",
        "def pre_process_text(labels):\n",
        "  norm_docs = []\n",
        "  for string in tqdm.tqdm(labels):\n",
        "    string = string.replace(\"_\", \" \")\n",
        "    string = string.translate(string.maketrans(\"\\n\\t\\r\", \"   \"))\n",
        "    string = remove_accented_chars(string) \n",
        "    # and inset a space where a number follows a letter et vice versa\n",
        "    string = re.sub(r'(?<=\\d)(?=[^\\d\\s])|(?<=[^\\d\\s])(?=\\d)', ' ', string)\n",
        "    # insert space where an uppercase letter follows a lowercase letter\n",
        "    string = re.sub(r\"(?<![A-Z\\W])(?=[A-Z])\", \" \", string)\n",
        "    string = contractions.fix(string)\n",
        "    # where XXXX number to XXXX number replace - with to IN PROGRESS\n",
        "    string = string.replace(\"-\", \" to \")\n",
        "    # remove special characters or whitespaces\n",
        "    string = re.sub(r\"[^a-zA-Z0-9\\s]\", \"\", string, flags=re.I|re.A)\n",
        "    string = string.lower()\n",
        "    string = string.strip()\n",
        "    # string = string.split(\" \")\n",
        "    norm_docs.append(string)\n",
        "  return norm_docs\n",
        "\n",
        "# lemamtization\n",
        "\n",
        "#def spacy_lemmatize_text(text):\n",
        "    #text = nlp(text)\n",
        "    #text = ' '.join([word.lemma_ if word.lemma_ != '-PRON-' else word.text for word in text])\n",
        "    #return text"
      ]
    },
    {
      "cell_type": "markdown",
      "source": [
        "### Vectorize the Data"
      ],
      "metadata": {
        "id": "vy26nQqPyPH5"
      }
    },
    {
      "cell_type": "code",
      "source": [
        "# vectorize the data\n",
        "\n",
        "input_texts = pre_process_text(train[\"Attribute_Technical_Name\"])\n",
        "target_texts = [\"\\t\" + s + \"\\n\" for s in pre_process_text(train[\"Attribute_Business_Name\"])]\n",
        "input_characters = set()\n",
        "target_characters = set()\n",
        "for input_name, target_name in zip(input_texts, target_texts):\n",
        "  for char in input_name:\n",
        "    if char not in input_characters:\n",
        "      input_characters.add(char)\n",
        "  for char in target_name:\n",
        "    if char not in target_characters:\n",
        "      target_characters.add(char)\n",
        "\n",
        "input_characters = sorted(list(input_characters))\n",
        "target_characters = sorted(list(target_characters))\n",
        "num_encoder_tokens = len(input_characters)\n",
        "num_decoder_tokens = len(target_characters)\n",
        "max_encoder_seq_length = max([len(txt) for txt in input_texts])\n",
        "max_decoder_seq_length = max([len(txt) for txt in target_texts])\n",
        "\n",
        "print(\"Number of samples:\", len(input_texts))\n",
        "print(\"Number of unique input tokens:\", num_encoder_tokens)\n",
        "print(\"Number of unique output tokens:\", num_decoder_tokens)\n",
        "print(\"Max sequence length for inputs:\", max_encoder_seq_length)\n",
        "print(\"Max sequence length for outputs:\", max_decoder_seq_length)\n",
        "\n",
        "input_token_index = dict([(char, i) for i, char in enumerate(input_characters)])\n",
        "target_token_index = dict([(char, i) for i, char in enumerate(target_characters)])\n",
        "\n",
        "encoder_input_data = np.zeros(\n",
        "    (len(input_texts), max_encoder_seq_length, num_encoder_tokens), dtype=\"float32\"\n",
        ")\n",
        "decoder_input_data = np.zeros(\n",
        "    (len(input_texts), max_decoder_seq_length, num_decoder_tokens), dtype=\"float32\"\n",
        ")\n",
        "decoder_target_data = np.zeros(\n",
        "    (len(input_texts), max_decoder_seq_length, num_decoder_tokens), dtype=\"float32\"\n",
        ")\n",
        "\n",
        "for i, (input_text, target_text) in enumerate(zip(input_texts, target_texts)):\n",
        "    for t, char in enumerate(input_text):\n",
        "        encoder_input_data[i, t, input_token_index[char]] = 1.0\n",
        "    encoder_input_data[i, t + 1 :, input_token_index[\" \"]] = 1.0\n",
        "    for t, char in enumerate(target_text):\n",
        "        # decoder_target_data is ahead of decoder_input_data by one timestep\n",
        "        decoder_input_data[i, t, target_token_index[char]] = 1.0\n",
        "        if t > 0:\n",
        "            # decoder_target_data will be ahead by one timestep\n",
        "            # and will not include the start character.\n",
        "            decoder_target_data[i, t - 1, target_token_index[char]] = 1.0\n",
        "    decoder_input_data[i, t + 1 :, target_token_index[\" \"]] = 1.0\n",
        "    decoder_target_data[i, t:, target_token_index[\" \"]] = 1.0"
      ],
      "metadata": {
        "colab": {
          "base_uri": "https://localhost:8080/"
        },
        "id": "pcPJOIlnfFiJ",
        "outputId": "d0f90b3d-b4df-40be-e90f-000dc68e2945"
      },
      "execution_count": null,
      "outputs": [
        {
          "output_type": "stream",
          "name": "stderr",
          "text": [
            "100%|██████████| 1845/1845 [00:00<00:00, 49355.77it/s]\n",
            "100%|██████████| 1845/1845 [00:00<00:00, 40485.98it/s]"
          ]
        },
        {
          "output_type": "stream",
          "name": "stdout",
          "text": [
            "Number of samples: 1845\n",
            "Number of unique input tokens: 37\n",
            "Number of unique output tokens: 37\n",
            "Max sequence length for inputs: 39\n",
            "Max sequence length for outputs: 94\n"
          ]
        },
        {
          "output_type": "stream",
          "name": "stderr",
          "text": [
            "\n"
          ]
        }
      ]
    },
    {
      "cell_type": "code",
      "source": [
        "# Define an input sequence and process it.\n",
        "encoder_inputs = keras.Input(shape=(None, num_encoder_tokens))\n",
        "encoder = keras.layers.LSTM(latent_dim, return_state=True)\n",
        "encoder_outputs, state_h, state_c = encoder(encoder_inputs)\n",
        "\n",
        "# We discard `encoder_outputs` and only keep the states.\n",
        "encoder_states = [state_h, state_c]\n",
        "\n",
        "# Set up the decoder, using `encoder_states` as initial state.\n",
        "decoder_inputs = keras.Input(shape=(None, num_decoder_tokens))\n",
        "\n",
        "# We set up our decoder to return full output sequences,\n",
        "# and to return internal states as well. We don't use the\n",
        "# return states in the training model, but we will use them in inference.\n",
        "decoder_lstm = keras.layers.LSTM(latent_dim, return_sequences=True, return_state=True)\n",
        "decoder_outputs, _, _ = decoder_lstm(decoder_inputs, initial_state=encoder_states)\n",
        "decoder_dense = keras.layers.Dense(num_decoder_tokens, activation=\"softmax\")\n",
        "decoder_outputs = decoder_dense(decoder_outputs)\n",
        "\n",
        "# Define the model that will turn\n",
        "# `encoder_input_data` & `decoder_input_data` into `decoder_target_data`\n",
        "model = keras.Model([encoder_inputs, decoder_inputs], decoder_outputs)"
      ],
      "metadata": {
        "id": "oocvFQzSiOL1"
      },
      "execution_count": null,
      "outputs": []
    },
    {
      "cell_type": "code",
      "source": [
        "METRICS = [\n",
        "  \"accuracy\",\n",
        "]\n"
      ],
      "metadata": {
        "id": "SjCckHvvlOli"
      },
      "execution_count": null,
      "outputs": []
    },
    {
      "cell_type": "code",
      "source": [
        "model.compile(\n",
        "    optimizer=\"rmsprop\", \n",
        "    loss=\"categorical_crossentropy\", \n",
        "    metrics=METRICS\n",
        ")\n",
        "\n",
        "mc = keras.callbacks.ModelCheckpoint(\n",
        "    'my_nmt_model_min_loss.h5', \n",
        "    monitor='val_loss', \n",
        "    verbose=1, \n",
        "    save_best_only=True, \n",
        "    mode='min'\n",
        ")\n",
        "    \n",
        "es = tf.keras.callbacks.EarlyStopping(\n",
        "    monitor='val_loss',\n",
        "    patience=10,\n",
        "    restore_best_weights=True,\n",
        "    verbose=1\n",
        ")\n",
        "\n",
        "history = model.fit(\n",
        "    [encoder_input_data, decoder_input_data],\n",
        "    decoder_target_data,\n",
        "    batch_size=batch_size,\n",
        "    epochs=epochs,\n",
        "    validation_split=0.2,\n",
        "    callbacks=[es]\n",
        ")\n",
        "\n",
        "# Save model\n",
        "model.save(\"lstm_s2s_v2\")"
      ],
      "metadata": {
        "colab": {
          "base_uri": "https://localhost:8080/"
        },
        "id": "ga6z_OvVijMW",
        "outputId": "e0605a1a-4ccd-44a9-ddbb-8cb9b6b1af51"
      },
      "execution_count": null,
      "outputs": [
        {
          "output_type": "stream",
          "name": "stdout",
          "text": [
            "Epoch 1/100\n",
            "24/24 [==============================] - 28s 69ms/step - loss: 1.2763 - accuracy: 0.7396 - val_loss: 0.9236 - val_accuracy: 0.7877\n",
            "Epoch 2/100\n",
            "24/24 [==============================] - 0s 21ms/step - loss: 0.9766 - accuracy: 0.7760 - val_loss: 0.8586 - val_accuracy: 0.7881\n",
            "Epoch 3/100\n",
            "24/24 [==============================] - 0s 20ms/step - loss: 0.9029 - accuracy: 0.7766 - val_loss: 0.7914 - val_accuracy: 0.7905\n",
            "Epoch 4/100\n",
            "24/24 [==============================] - 0s 20ms/step - loss: 0.8382 - accuracy: 0.7775 - val_loss: 0.7824 - val_accuracy: 0.7898\n",
            "Epoch 5/100\n",
            "24/24 [==============================] - 0s 20ms/step - loss: 0.8511 - accuracy: 0.7778 - val_loss: 0.7282 - val_accuracy: 0.7914\n",
            "Epoch 6/100\n",
            "24/24 [==============================] - 0s 20ms/step - loss: 0.7663 - accuracy: 0.7793 - val_loss: 0.7507 - val_accuracy: 0.7918\n",
            "Epoch 7/100\n",
            "24/24 [==============================] - 0s 20ms/step - loss: 0.7750 - accuracy: 0.7808 - val_loss: 0.7011 - val_accuracy: 0.7919\n",
            "Epoch 8/100\n",
            "24/24 [==============================] - 0s 20ms/step - loss: 0.7346 - accuracy: 0.7840 - val_loss: 0.7287 - val_accuracy: 0.7941\n",
            "Epoch 9/100\n",
            "24/24 [==============================] - 0s 20ms/step - loss: 0.7350 - accuracy: 0.7896 - val_loss: 0.6653 - val_accuracy: 0.8043\n",
            "Epoch 10/100\n",
            "24/24 [==============================] - 0s 21ms/step - loss: 0.6900 - accuracy: 0.7940 - val_loss: 0.6526 - val_accuracy: 0.8028\n",
            "Epoch 11/100\n",
            "24/24 [==============================] - 0s 20ms/step - loss: 0.6680 - accuracy: 0.7985 - val_loss: 0.6285 - val_accuracy: 0.8111\n",
            "Epoch 12/100\n",
            "24/24 [==============================] - 0s 21ms/step - loss: 0.6593 - accuracy: 0.8051 - val_loss: 0.6082 - val_accuracy: 0.8178\n",
            "Epoch 13/100\n",
            "24/24 [==============================] - 1s 21ms/step - loss: 0.6243 - accuracy: 0.8130 - val_loss: 0.5945 - val_accuracy: 0.8189\n",
            "Epoch 14/100\n",
            "24/24 [==============================] - 1s 22ms/step - loss: 0.6003 - accuracy: 0.8218 - val_loss: 0.5763 - val_accuracy: 0.8312\n",
            "Epoch 15/100\n",
            "24/24 [==============================] - 1s 22ms/step - loss: 0.5807 - accuracy: 0.8287 - val_loss: 0.5797 - val_accuracy: 0.8199\n",
            "Epoch 16/100\n",
            "24/24 [==============================] - 1s 22ms/step - loss: 0.5677 - accuracy: 0.8328 - val_loss: 0.5433 - val_accuracy: 0.8358\n",
            "Epoch 17/100\n",
            "24/24 [==============================] - 1s 22ms/step - loss: 0.5452 - accuracy: 0.8394 - val_loss: 0.5357 - val_accuracy: 0.8402\n",
            "Epoch 18/100\n",
            "24/24 [==============================] - 0s 20ms/step - loss: 0.5262 - accuracy: 0.8460 - val_loss: 0.5321 - val_accuracy: 0.8425\n",
            "Epoch 19/100\n",
            "24/24 [==============================] - 0s 21ms/step - loss: 0.5071 - accuracy: 0.8521 - val_loss: 0.4876 - val_accuracy: 0.8570\n",
            "Epoch 20/100\n",
            "24/24 [==============================] - 0s 20ms/step - loss: 0.4909 - accuracy: 0.8573 - val_loss: 0.4878 - val_accuracy: 0.8564\n",
            "Epoch 21/100\n",
            "24/24 [==============================] - 0s 20ms/step - loss: 0.4706 - accuracy: 0.8648 - val_loss: 0.4771 - val_accuracy: 0.8601\n",
            "Epoch 22/100\n",
            "24/24 [==============================] - 0s 20ms/step - loss: 0.4547 - accuracy: 0.8700 - val_loss: 0.4788 - val_accuracy: 0.8603\n",
            "Epoch 23/100\n",
            "24/24 [==============================] - 0s 20ms/step - loss: 0.4364 - accuracy: 0.8752 - val_loss: 0.5365 - val_accuracy: 0.8373\n",
            "Epoch 24/100\n",
            "24/24 [==============================] - 0s 20ms/step - loss: 0.4648 - accuracy: 0.8710 - val_loss: 0.4131 - val_accuracy: 0.8823\n",
            "Epoch 25/100\n",
            "24/24 [==============================] - 0s 20ms/step - loss: 0.4077 - accuracy: 0.8851 - val_loss: 0.4229 - val_accuracy: 0.8785\n",
            "Epoch 26/100\n",
            "24/24 [==============================] - 0s 20ms/step - loss: 0.4011 - accuracy: 0.8867 - val_loss: 0.4172 - val_accuracy: 0.8777\n",
            "Epoch 27/100\n",
            "24/24 [==============================] - 0s 20ms/step - loss: 0.3890 - accuracy: 0.8904 - val_loss: 0.4287 - val_accuracy: 0.8753\n",
            "Epoch 28/100\n",
            "24/24 [==============================] - 0s 20ms/step - loss: 0.3749 - accuracy: 0.8945 - val_loss: 0.3871 - val_accuracy: 0.8891\n",
            "Epoch 29/100\n",
            "24/24 [==============================] - 0s 20ms/step - loss: 0.3650 - accuracy: 0.8973 - val_loss: 0.3927 - val_accuracy: 0.8866\n",
            "Epoch 30/100\n",
            "24/24 [==============================] - 0s 21ms/step - loss: 0.3489 - accuracy: 0.9018 - val_loss: 0.3904 - val_accuracy: 0.8870\n",
            "Epoch 31/100\n",
            "24/24 [==============================] - 0s 20ms/step - loss: 0.3359 - accuracy: 0.9052 - val_loss: 0.3662 - val_accuracy: 0.8953\n",
            "Epoch 32/100\n",
            "24/24 [==============================] - 0s 20ms/step - loss: 0.3234 - accuracy: 0.9083 - val_loss: 0.3497 - val_accuracy: 0.8987\n",
            "Epoch 33/100\n",
            "24/24 [==============================] - 0s 20ms/step - loss: 0.3110 - accuracy: 0.9122 - val_loss: 0.3654 - val_accuracy: 0.8935\n",
            "Epoch 34/100\n",
            "24/24 [==============================] - 0s 20ms/step - loss: 0.3003 - accuracy: 0.9156 - val_loss: 0.3542 - val_accuracy: 0.8992\n",
            "Epoch 35/100\n",
            "24/24 [==============================] - 0s 20ms/step - loss: 0.2896 - accuracy: 0.9186 - val_loss: 0.3320 - val_accuracy: 0.9050\n",
            "Epoch 36/100\n",
            "24/24 [==============================] - 0s 20ms/step - loss: 0.2771 - accuracy: 0.9221 - val_loss: 0.3310 - val_accuracy: 0.9032\n",
            "Epoch 37/100\n",
            "24/24 [==============================] - 0s 20ms/step - loss: 0.2669 - accuracy: 0.9245 - val_loss: 0.3281 - val_accuracy: 0.9053\n",
            "Epoch 38/100\n",
            "24/24 [==============================] - 0s 20ms/step - loss: 0.2571 - accuracy: 0.9279 - val_loss: 0.2934 - val_accuracy: 0.9155\n",
            "Epoch 39/100\n",
            "24/24 [==============================] - 0s 20ms/step - loss: 0.2455 - accuracy: 0.9311 - val_loss: 0.3164 - val_accuracy: 0.9112\n",
            "Epoch 40/100\n",
            "24/24 [==============================] - 0s 20ms/step - loss: 0.2395 - accuracy: 0.9329 - val_loss: 0.3189 - val_accuracy: 0.9089\n",
            "Epoch 41/100\n",
            "24/24 [==============================] - 0s 20ms/step - loss: 0.2274 - accuracy: 0.9371 - val_loss: 0.2733 - val_accuracy: 0.9231\n",
            "Epoch 42/100\n",
            "24/24 [==============================] - 0s 20ms/step - loss: 0.2209 - accuracy: 0.9383 - val_loss: 0.3059 - val_accuracy: 0.9139\n",
            "Epoch 43/100\n",
            "24/24 [==============================] - 0s 20ms/step - loss: 0.2118 - accuracy: 0.9415 - val_loss: 0.2682 - val_accuracy: 0.9245\n",
            "Epoch 44/100\n",
            "24/24 [==============================] - 0s 20ms/step - loss: 0.2023 - accuracy: 0.9440 - val_loss: 0.2688 - val_accuracy: 0.9227\n",
            "Epoch 45/100\n",
            "24/24 [==============================] - 0s 20ms/step - loss: 0.1965 - accuracy: 0.9457 - val_loss: 0.2663 - val_accuracy: 0.9246\n",
            "Epoch 46/100\n",
            "24/24 [==============================] - 0s 20ms/step - loss: 0.1869 - accuracy: 0.9485 - val_loss: 0.2576 - val_accuracy: 0.9293\n",
            "Epoch 47/100\n",
            "24/24 [==============================] - 0s 20ms/step - loss: 0.1812 - accuracy: 0.9502 - val_loss: 0.2402 - val_accuracy: 0.9343\n",
            "Epoch 48/100\n",
            "24/24 [==============================] - 0s 20ms/step - loss: 0.1744 - accuracy: 0.9525 - val_loss: 0.2482 - val_accuracy: 0.9306\n",
            "Epoch 49/100\n",
            "24/24 [==============================] - 0s 20ms/step - loss: 0.1670 - accuracy: 0.9544 - val_loss: 0.2533 - val_accuracy: 0.9293\n",
            "Epoch 50/100\n",
            "24/24 [==============================] - 0s 20ms/step - loss: 0.1622 - accuracy: 0.9557 - val_loss: 0.2478 - val_accuracy: 0.9305\n",
            "Epoch 51/100\n",
            "24/24 [==============================] - 0s 20ms/step - loss: 0.1542 - accuracy: 0.9581 - val_loss: 0.2229 - val_accuracy: 0.9400\n",
            "Epoch 52/100\n",
            "24/24 [==============================] - 0s 20ms/step - loss: 0.1491 - accuracy: 0.9595 - val_loss: 0.2462 - val_accuracy: 0.9332\n",
            "Epoch 53/100\n",
            "24/24 [==============================] - 0s 20ms/step - loss: 0.1466 - accuracy: 0.9599 - val_loss: 0.2239 - val_accuracy: 0.9407\n",
            "Epoch 54/100\n",
            "24/24 [==============================] - 0s 21ms/step - loss: 0.1389 - accuracy: 0.9624 - val_loss: 0.2149 - val_accuracy: 0.9424\n",
            "Epoch 55/100\n",
            "24/24 [==============================] - 0s 20ms/step - loss: 0.1347 - accuracy: 0.9634 - val_loss: 0.2645 - val_accuracy: 0.9275\n",
            "Epoch 56/100\n",
            "24/24 [==============================] - 0s 20ms/step - loss: 0.1308 - accuracy: 0.9646 - val_loss: 0.2534 - val_accuracy: 0.9322\n",
            "Epoch 57/100\n",
            "24/24 [==============================] - 0s 20ms/step - loss: 0.1261 - accuracy: 0.9661 - val_loss: 0.2367 - val_accuracy: 0.9340\n",
            "Epoch 58/100\n",
            "24/24 [==============================] - 0s 20ms/step - loss: 0.1209 - accuracy: 0.9672 - val_loss: 0.2256 - val_accuracy: 0.9389\n",
            "Epoch 59/100\n",
            "24/24 [==============================] - 0s 20ms/step - loss: 0.1185 - accuracy: 0.9680 - val_loss: 0.2100 - val_accuracy: 0.9436\n",
            "Epoch 60/100\n",
            "24/24 [==============================] - 0s 20ms/step - loss: 0.1140 - accuracy: 0.9688 - val_loss: 0.2294 - val_accuracy: 0.9371\n",
            "Epoch 61/100\n",
            "24/24 [==============================] - 0s 20ms/step - loss: 0.1097 - accuracy: 0.9704 - val_loss: 0.2056 - val_accuracy: 0.9456\n",
            "Epoch 62/100\n",
            "24/24 [==============================] - 0s 20ms/step - loss: 0.1048 - accuracy: 0.9716 - val_loss: 0.2063 - val_accuracy: 0.9448\n",
            "Epoch 63/100\n",
            "24/24 [==============================] - 0s 20ms/step - loss: 0.1013 - accuracy: 0.9724 - val_loss: 0.1929 - val_accuracy: 0.9498\n",
            "Epoch 64/100\n",
            "24/24 [==============================] - 0s 20ms/step - loss: 0.0996 - accuracy: 0.9730 - val_loss: 0.2098 - val_accuracy: 0.9441\n",
            "Epoch 65/100\n",
            "24/24 [==============================] - 0s 20ms/step - loss: 0.0964 - accuracy: 0.9738 - val_loss: 0.2099 - val_accuracy: 0.9452\n",
            "Epoch 66/100\n",
            "24/24 [==============================] - 0s 20ms/step - loss: 0.0929 - accuracy: 0.9747 - val_loss: 0.1858 - val_accuracy: 0.9523\n",
            "Epoch 67/100\n",
            "24/24 [==============================] - 0s 20ms/step - loss: 0.0906 - accuracy: 0.9755 - val_loss: 0.1899 - val_accuracy: 0.9519\n",
            "Epoch 68/100\n",
            "24/24 [==============================] - 0s 20ms/step - loss: 0.0876 - accuracy: 0.9763 - val_loss: 0.1853 - val_accuracy: 0.9544\n",
            "Epoch 69/100\n",
            "24/24 [==============================] - 0s 20ms/step - loss: 0.0842 - accuracy: 0.9771 - val_loss: 0.1725 - val_accuracy: 0.9575\n",
            "Epoch 70/100\n",
            "24/24 [==============================] - 0s 20ms/step - loss: 0.0822 - accuracy: 0.9778 - val_loss: 0.1846 - val_accuracy: 0.9544\n",
            "Epoch 71/100\n",
            "24/24 [==============================] - 0s 20ms/step - loss: 0.0816 - accuracy: 0.9778 - val_loss: 0.1763 - val_accuracy: 0.9558\n",
            "Epoch 72/100\n",
            "24/24 [==============================] - 0s 20ms/step - loss: 0.0746 - accuracy: 0.9797 - val_loss: 0.1919 - val_accuracy: 0.9524\n",
            "Epoch 73/100\n",
            "24/24 [==============================] - 0s 20ms/step - loss: 0.0752 - accuracy: 0.9797 - val_loss: 0.1854 - val_accuracy: 0.9549\n",
            "Epoch 74/100\n",
            "24/24 [==============================] - 0s 20ms/step - loss: 0.0735 - accuracy: 0.9801 - val_loss: 0.1785 - val_accuracy: 0.9573\n",
            "Epoch 75/100\n",
            "24/24 [==============================] - 0s 20ms/step - loss: 0.0718 - accuracy: 0.9806 - val_loss: 0.1789 - val_accuracy: 0.9556\n",
            "Epoch 76/100\n",
            "24/24 [==============================] - 0s 20ms/step - loss: 0.0671 - accuracy: 0.9818 - val_loss: 0.1864 - val_accuracy: 0.9538\n",
            "Epoch 77/100\n",
            "24/24 [==============================] - 0s 20ms/step - loss: 0.0664 - accuracy: 0.9818 - val_loss: 0.1864 - val_accuracy: 0.9527\n",
            "Epoch 78/100\n",
            "24/24 [==============================] - 0s 20ms/step - loss: 0.0648 - accuracy: 0.9821 - val_loss: 0.1700 - val_accuracy: 0.9575\n",
            "Epoch 79/100\n",
            "24/24 [==============================] - 0s 21ms/step - loss: 0.0638 - accuracy: 0.9826 - val_loss: 0.1582 - val_accuracy: 0.9626\n",
            "Epoch 80/100\n",
            "24/24 [==============================] - 0s 20ms/step - loss: 0.0606 - accuracy: 0.9838 - val_loss: 0.2056 - val_accuracy: 0.9479\n",
            "Epoch 81/100\n",
            "24/24 [==============================] - 0s 20ms/step - loss: 0.0604 - accuracy: 0.9835 - val_loss: 0.1951 - val_accuracy: 0.9525\n",
            "Epoch 82/100\n",
            "24/24 [==============================] - 0s 20ms/step - loss: 0.0588 - accuracy: 0.9840 - val_loss: 0.1579 - val_accuracy: 0.9640\n",
            "Epoch 83/100\n",
            "24/24 [==============================] - 0s 20ms/step - loss: 0.0548 - accuracy: 0.9846 - val_loss: 0.1726 - val_accuracy: 0.9598\n",
            "Epoch 84/100\n",
            "24/24 [==============================] - 0s 20ms/step - loss: 0.0551 - accuracy: 0.9851 - val_loss: 0.1714 - val_accuracy: 0.9607\n",
            "Epoch 85/100\n",
            "24/24 [==============================] - 0s 20ms/step - loss: 0.0539 - accuracy: 0.9851 - val_loss: 0.1761 - val_accuracy: 0.9579\n",
            "Epoch 86/100\n",
            "24/24 [==============================] - 0s 20ms/step - loss: 0.0511 - accuracy: 0.9860 - val_loss: 0.1556 - val_accuracy: 0.9653\n",
            "Epoch 87/100\n",
            "24/24 [==============================] - 0s 20ms/step - loss: 0.0501 - accuracy: 0.9864 - val_loss: 0.1532 - val_accuracy: 0.9657\n",
            "Epoch 88/100\n",
            "24/24 [==============================] - 0s 20ms/step - loss: 0.0491 - accuracy: 0.9864 - val_loss: 0.1761 - val_accuracy: 0.9586\n",
            "Epoch 89/100\n",
            "24/24 [==============================] - 0s 20ms/step - loss: 0.0495 - accuracy: 0.9864 - val_loss: 0.1874 - val_accuracy: 0.9560\n",
            "Epoch 90/100\n",
            "24/24 [==============================] - 0s 20ms/step - loss: 0.0478 - accuracy: 0.9867 - val_loss: 0.1563 - val_accuracy: 0.9639\n",
            "Epoch 91/100\n",
            "24/24 [==============================] - 0s 20ms/step - loss: 0.0444 - accuracy: 0.9876 - val_loss: 0.1539 - val_accuracy: 0.9653\n",
            "Epoch 92/100\n",
            "24/24 [==============================] - 0s 20ms/step - loss: 0.0451 - accuracy: 0.9875 - val_loss: 0.1688 - val_accuracy: 0.9608\n",
            "Epoch 93/100\n",
            "24/24 [==============================] - 0s 20ms/step - loss: 0.0447 - accuracy: 0.9875 - val_loss: 0.1512 - val_accuracy: 0.9672\n",
            "Epoch 94/100\n",
            "24/24 [==============================] - 0s 20ms/step - loss: 0.0428 - accuracy: 0.9880 - val_loss: 0.1487 - val_accuracy: 0.9671\n",
            "Epoch 95/100\n",
            "24/24 [==============================] - 0s 20ms/step - loss: 0.0407 - accuracy: 0.9886 - val_loss: 0.1553 - val_accuracy: 0.9649\n",
            "Epoch 96/100\n",
            "24/24 [==============================] - 0s 20ms/step - loss: 0.0418 - accuracy: 0.9879 - val_loss: 0.1524 - val_accuracy: 0.9675\n",
            "Epoch 97/100\n",
            "24/24 [==============================] - 0s 20ms/step - loss: 0.0390 - accuracy: 0.9891 - val_loss: 0.1876 - val_accuracy: 0.9547\n",
            "Epoch 98/100\n",
            "24/24 [==============================] - 0s 20ms/step - loss: 0.0395 - accuracy: 0.9887 - val_loss: 0.1842 - val_accuracy: 0.9563\n",
            "Epoch 99/100\n",
            "24/24 [==============================] - 0s 20ms/step - loss: 0.0382 - accuracy: 0.9891 - val_loss: 0.1628 - val_accuracy: 0.9636\n",
            "Epoch 100/100\n",
            "24/24 [==============================] - 0s 20ms/step - loss: 0.0380 - accuracy: 0.9891 - val_loss: 0.1538 - val_accuracy: 0.9655\n"
          ]
        },
        {
          "output_type": "stream",
          "name": "stderr",
          "text": [
            "WARNING:absl:Found untraced functions such as lstm_cell_layer_call_fn, lstm_cell_layer_call_and_return_conditional_losses, lstm_cell_1_layer_call_fn, lstm_cell_1_layer_call_and_return_conditional_losses, lstm_cell_layer_call_fn while saving (showing 5 of 10). These functions will not be directly callable after loading.\n"
          ]
        },
        {
          "output_type": "stream",
          "name": "stdout",
          "text": [
            "INFO:tensorflow:Assets written to: lstm_s2s_v2/assets\n"
          ]
        },
        {
          "output_type": "stream",
          "name": "stderr",
          "text": [
            "INFO:tensorflow:Assets written to: lstm_s2s_v2/assets\n",
            "WARNING:absl:<keras.layers.recurrent.LSTMCell object at 0x7f9149f06b10> has the same name 'LSTMCell' as a built-in Keras object. Consider renaming <class 'keras.layers.recurrent.LSTMCell'> to avoid naming conflicts when loading with `tf.keras.models.load_model`. If renaming is not possible, pass the object in the `custom_objects` parameter of the load function.\n",
            "WARNING:absl:<keras.layers.recurrent.LSTMCell object at 0x7f9140359050> has the same name 'LSTMCell' as a built-in Keras object. Consider renaming <class 'keras.layers.recurrent.LSTMCell'> to avoid naming conflicts when loading with `tf.keras.models.load_model`. If renaming is not possible, pass the object in the `custom_objects` parameter of the load function.\n"
          ]
        }
      ]
    },
    {
      "cell_type": "code",
      "source": [
        "plt.plot(history.history['loss'])\n",
        "plt.plot(history.history['val_loss'])\n",
        "plt.legend(['train','validation'])\n",
        "plt.show()"
      ],
      "metadata": {
        "colab": {
          "base_uri": "https://localhost:8080/",
          "height": 347
        },
        "id": "hX1qIK1zkZ27",
        "outputId": "de319840-b4c7-462d-c1b2-b5cb7806fc86"
      },
      "execution_count": null,
      "outputs": [
        {
          "output_type": "display_data",
          "data": {
            "image/png": "[encoded data removed]",
            "text/plain": [
              "<Figure size 576x396 with 1 Axes>"
            ]
          },
          "metadata": {}
        }
      ]
    },
    {
      "cell_type": "code",
      "source": [
        "plt.plot(history.history['accuracy'])\n",
        "plt.plot(history.history['val_accuracy'])\n",
        "plt.legend(['train','validation'])\n",
        "plt.show()"
      ],
      "metadata": {
        "colab": {
          "base_uri": "https://localhost:8080/",
          "height": 349
        },
        "id": "FGmdIzu0zRmk",
        "outputId": "797ab102-7ada-43a5-ca47-1e4b5b3fd201"
      },
      "execution_count": null,
      "outputs": [
        {
          "output_type": "display_data",
          "data": {
            "image/png": "[encoded data removed]",
            "text/plain": [
              "<Figure size 576x396 with 1 Axes>"
            ]
          },
          "metadata": {}
        }
      ]
    },
    {
      "cell_type": "markdown",
      "source": [
        "## Run Inference on a sample (n=20) of the Training Data"
      ],
      "metadata": {
        "id": "qc7bLyrk1XS1"
      }
    },
    {
      "cell_type": "code",
      "execution_count": null,
      "metadata": {
        "id": "TisMeH9B0jFG"
      },
      "outputs": [],
      "source": [
        "# Define sampling models\n",
        "# Restore the model and construct the encoder and decoder.\n",
        "model = keras.models.load_model(\"lstm_s2s_v2\")\n",
        "\n",
        "encoder_inputs = model.input[0]  # input_1\n",
        "encoder_outputs, state_h_enc, state_c_enc = model.layers[2].output  # lstm_1\n",
        "encoder_states = [state_h_enc, state_c_enc]\n",
        "encoder_model = keras.Model(encoder_inputs, encoder_states)\n",
        "\n",
        "decoder_inputs = model.input[1]  # input_2\n",
        "decoder_state_input_h = keras.Input(shape=(latent_dim,))\n",
        "decoder_state_input_c = keras.Input(shape=(latent_dim,))\n",
        "decoder_states_inputs = [decoder_state_input_h, decoder_state_input_c]\n",
        "decoder_lstm = model.layers[3]\n",
        "decoder_outputs, state_h_dec, state_c_dec = decoder_lstm(\n",
        "    decoder_inputs, initial_state=decoder_states_inputs\n",
        ")\n",
        "decoder_states = [state_h_dec, state_c_dec]\n",
        "decoder_dense = model.layers[4]\n",
        "decoder_outputs = decoder_dense(decoder_outputs)\n",
        "decoder_model = keras.Model(\n",
        "    [decoder_inputs] + decoder_states_inputs, [decoder_outputs] + decoder_states\n",
        ")\n",
        "\n",
        "# Reverse-lookup token index to decode sequences back to\n",
        "# something readable.\n",
        "reverse_input_char_index = dict((i, char) for char, i in input_token_index.items())\n",
        "reverse_target_char_index = dict((i, char) for char, i in target_token_index.items())\n",
        "\n",
        "\n",
        "def decode_sequence(input_seq):\n",
        "    # Encode the input as state vectors.\n",
        "    states_value = encoder_model.predict(input_seq)\n",
        "\n",
        "    # Generate empty target sequence of length 1.\n",
        "    target_seq = np.zeros((1, 1, num_decoder_tokens))\n",
        "    # Populate the first character of target sequence with the start character.\n",
        "    # WHY --> to find that vector in the encoded inputs?\n",
        "    target_seq[0, 0, target_token_index[\"\\t\"]] = 1.0\n",
        "\n",
        "    # Sampling loop for a batch of sequences\n",
        "    # (to simplify, here we assume a batch of size 1).\n",
        "    stop_condition = False\n",
        "    decoded_sentence = \"\"\n",
        "    while not stop_condition:\n",
        "        output_tokens, h, c = decoder_model.predict([target_seq] + states_value)\n",
        "\n",
        "        # Sample a token\n",
        "        sampled_token_index = np.argmax(output_tokens[0, -1, :])\n",
        "        sampled_char = reverse_target_char_index[sampled_token_index]\n",
        "        decoded_sentence += sampled_char\n",
        "\n",
        "        # Exit condition: either hit max length\n",
        "        # or find stop character.\n",
        "        if sampled_char == \"\\n\" or len(decoded_sentence) > max_decoder_seq_length:\n",
        "            stop_condition = True\n",
        "\n",
        "        # Update the target sequence (of length 1).\n",
        "        target_seq = np.zeros((1, 1, num_decoder_tokens))\n",
        "        target_seq[0, 0, sampled_token_index] = 1.0\n",
        "\n",
        "        # Update states\n",
        "        states_value = [h, c]\n",
        "    return decoded_sentence"
      ]
    },
    {
      "cell_type": "code",
      "execution_count": null,
      "metadata": {
        "colab": {
          "base_uri": "https://localhost:8080/"
        },
        "id": "Lry6Ba0U0ov2",
        "outputId": "c1e43ec7-e91b-43ec-bea9-86aab5361592"
      },
      "outputs": [
        {
          "output_type": "stream",
          "name": "stdout",
          "text": [
            "-\n",
            "Input sentence: update date\n",
            "Decoded sentence: value as concatton paleg\n",
            "\n",
            "True Target sentence: \tupdate date\n",
            "\n",
            "-\n",
            "Input sentence: sys last modified\n",
            "Decoded sentence: last scanned\n",
            "\n",
            "True Target sentence: \tlast modified date\n",
            "\n",
            "-\n",
            "Input sentence: p af 189395\n",
            "Decoded sentence: datetime\n",
            "\n",
            "True Target sentence: \tdatetime\n",
            "\n",
            "-\n",
            "Input sentence: audit delete status\n",
            "Decoded sentence: database statu\n",
            "\n",
            "True Target sentence: \tstatus\n",
            "\n",
            "-\n",
            "Input sentence: id\n",
            "Decoded sentence: id patient\n",
            "\n",
            "True Target sentence: \tid\n",
            "\n",
            "-\n",
            "Input sentence: privacy level id\n",
            "Decoded sentence: provertry teplaited fix tof anial nome\n",
            "\n",
            "True Target sentence: \tprivacy level id\n",
            "\n",
            "-\n",
            "Input sentence: attribute id\n",
            "Decoded sentence: attribute id\n",
            "\n",
            "True Target sentence: \tattribute id\n",
            "\n",
            "-\n",
            "Input sentence: city name\n",
            "Decoded sentence: country id\n",
            "\n",
            "True Target sentence: \tformal name of the city\n",
            "\n",
            "-\n",
            "Input sentence: attribute business name\n",
            "Decoded sentence: attribute business description\n",
            "\n",
            "True Target sentence: \tattribute business name\n",
            "\n",
            "-\n",
            "Input sentence: log file name\n",
            "Decoded sentence: pormaly desallest tunt coud to sarploded forempory er invivides date pory\n",
            "\n",
            "True Target sentence: \tlog file name\n",
            "\n",
            "-\n",
            "Input sentence: postal address line 1\n",
            "Decoded sentence: pountry name\n",
            "\n",
            "True Target sentence: \tfirst postal address line for the company\n",
            "\n",
            "-\n",
            "Input sentence: iso alpha 3 code\n",
            "Decoded sentence: tor lo couptry coupurdict uuder co dencity for moln bre name dert\n",
            "\n",
            "True Target sentence: \t3 letter alphabetic code assigned to the country by iso\n",
            "\n",
            "-\n",
            "Input sentence: project destination\n",
            "Decoded sentence: property default value\n",
            "\n",
            "True Target sentence: \tproject destination\n",
            "\n",
            "-\n",
            "Input sentence: download date\n",
            "Decoded sentence: download date\n",
            "\n",
            "True Target sentence: \tdownload date\n",
            "\n",
            "-\n",
            "Input sentence: audit classification id\n",
            "Decoded sentence: data asset id\n",
            "\n",
            "True Target sentence: \taudit classification id\n",
            "\n",
            "-\n",
            "Input sentence: p af 189460\n",
            "Decoded sentence: datetime\n",
            "\n",
            "True Target sentence: \tdatetime\n",
            "\n",
            "-\n",
            "Input sentence: is on credit hold\n",
            "Decoded sentence: la t souptrecluct odefiont for this customer\n",
            "\n",
            "True Target sentence: \tis this customer on credit hold prevents further deliveries to this customer\n",
            "\n",
            "-\n",
            "Input sentence: stg prmry cse of dth cd\n",
            "Decoded sentence: name of tha suprerer enerecontides \n",
            "\n",
            "True Target sentence: \tprimary because of death\n",
            "\n",
            "-\n",
            "Input sentence: rowguid\n",
            "Decoded sentence: rowguidcol number uniquely identifying the record used to support a merge replication sample\n",
            "\n",
            "True Target sentence: \trowguidcol number uniquely identifying the record used to support a merge replication sample\n",
            "\n",
            "-\n",
            "Input sentence: state province\n",
            "Decoded sentence: state or province\n",
            "\n",
            "True Target sentence: \tstate or province for this city\n",
            "\n"
          ]
        }
      ],
      "source": [
        "for seq_index in range(20):\n",
        "    # Take one sequence (part of the training set)\n",
        "    # for trying out decoding.\n",
        "    input_seq = encoder_input_data[seq_index : seq_index + 1]\n",
        "    decoded_sentence = decode_sequence(input_seq)\n",
        "    print(\"-\")\n",
        "    print(\"Input sentence:\", input_texts[seq_index])\n",
        "    print(\"Decoded sentence:\", decoded_sentence)\n",
        "    print(\"True Target sentence:\", target_texts[seq_index])"
      ]
    },
    {
      "cell_type": "markdown",
      "source": [
        "Run Inference on a sample (n=20) of the Test Data"
      ],
      "metadata": {
        "id": "74MTYZ47gida"
      }
    },
    {
      "cell_type": "code",
      "source": [
        "# vectorize the data\n",
        "\n",
        "input_texts = pre_process_text(test[\"Attribute_Technical_Name\"])\n",
        "target_texts = [\"\\t\" + s + \"\\n\" for s in pre_process_text(test[\"Attribute_Business_Name\"])]\n",
        "input_characters = set()\n",
        "target_characters = set()\n",
        "for input_name, target_name in zip(input_texts, target_texts):\n",
        "  for char in input_name:\n",
        "    if char not in input_characters:\n",
        "      input_characters.add(char)\n",
        "  for char in target_name:\n",
        "    if char not in target_characters:\n",
        "      target_characters.add(char)\n",
        "\n",
        "input_characters = sorted(list(input_characters))\n",
        "target_characters = sorted(list(target_characters))\n",
        "num_encoder_tokens = len(input_characters)\n",
        "num_decoder_tokens = len(target_characters)\n",
        "max_encoder_seq_length = max([len(txt) for txt in input_texts])\n",
        "max_decoder_seq_length = max([len(txt) for txt in target_texts])\n",
        "\n",
        "print(\"Number of samples:\", len(input_texts))\n",
        "print(\"Number of unique input tokens:\", num_encoder_tokens)\n",
        "print(\"Number of unique output tokens:\", num_decoder_tokens)\n",
        "print(\"Max sequence length for inputs:\", max_encoder_seq_length)\n",
        "print(\"Max sequence length for outputs:\", max_decoder_seq_length)\n",
        "\n",
        "input_token_index = dict([(char, i) for i, char in enumerate(input_characters)])\n",
        "target_token_index = dict([(char, i) for i, char in enumerate(target_characters)])\n",
        "\n",
        "encoder_input_data = np.zeros(\n",
        "    (len(input_texts), max_encoder_seq_length, num_encoder_tokens), dtype=\"float32\"\n",
        ")\n",
        "decoder_input_data = np.zeros(\n",
        "    (len(input_texts), max_decoder_seq_length, num_decoder_tokens), dtype=\"float32\"\n",
        ")\n",
        "decoder_target_data = np.zeros(\n",
        "    (len(input_texts), max_decoder_seq_length, num_decoder_tokens), dtype=\"float32\"\n",
        ")\n",
        "\n",
        "for i, (input_text, target_text) in enumerate(zip(input_texts, target_texts)):\n",
        "    for t, char in enumerate(input_text):\n",
        "        encoder_input_data[i, t, input_token_index[char]] = 1.0\n",
        "    encoder_input_data[i, t + 1 :, input_token_index[\" \"]] = 1.0\n",
        "    for t, char in enumerate(target_text):\n",
        "        # decoder_target_data is ahead of decoder_input_data by one timestep\n",
        "        decoder_input_data[i, t, target_token_index[char]] = 1.0\n",
        "        if t > 0:\n",
        "            # decoder_target_data will be ahead by one timestep\n",
        "            # and will not include the start character.\n",
        "            decoder_target_data[i, t - 1, target_token_index[char]] = 1.0\n",
        "    decoder_input_data[i, t + 1 :, target_token_index[\" \"]] = 1.0\n",
        "    decoder_target_data[i, t:, target_token_index[\" \"]] = 1.0"
      ],
      "metadata": {
        "colab": {
          "base_uri": "https://localhost:8080/"
        },
        "id": "XDhxQDwEgi3e",
        "outputId": "2db2af2e-95af-4a96-82ac-89b4776e36b0"
      },
      "execution_count": null,
      "outputs": [
        {
          "output_type": "stream",
          "name": "stderr",
          "text": [
            "100%|██████████| 791/791 [00:00<00:00, 48217.40it/s]\n",
            "100%|██████████| 791/791 [00:00<00:00, 43408.28it/s]"
          ]
        },
        {
          "output_type": "stream",
          "name": "stdout",
          "text": [
            "Number of samples: 791\n",
            "Number of unique input tokens: 37\n",
            "Number of unique output tokens: 37\n",
            "Max sequence length for inputs: 39\n",
            "Max sequence length for outputs: 94\n"
          ]
        },
        {
          "output_type": "stream",
          "name": "stderr",
          "text": [
            "\n"
          ]
        }
      ]
    },
    {
      "cell_type": "code",
      "source": [
        "score, acc = model.evaluate(\n",
        "    [encoder_input_data, decoder_input_data],\n",
        "    decoder_target_data,\n",
        "    batch_size=batch_size)\n",
        "\n",
        "print('Test score:', score)\n",
        "print('Test accuracy:', acc)"
      ],
      "metadata": {
        "colab": {
          "base_uri": "https://localhost:8080/"
        },
        "id": "7M3DBXhajPDW",
        "outputId": "f425c875-e535-46fa-d633-4aa4c08b4fdb"
      },
      "execution_count": null,
      "outputs": [
        {
          "output_type": "stream",
          "name": "stdout",
          "text": [
            "13/13 [==============================] - 1s 9ms/step - loss: 0.1050 - accuracy: 0.9738\n",
            "Test score: 0.10504356026649475\n",
            "Test accuracy: 0.9737606644630432\n"
          ]
        }
      ]
    },
    {
      "cell_type": "code",
      "source": [
        "for seq_index in range(20):\n",
        "    # Take one sequence (part of the training set)\n",
        "    # for trying out decoding.\n",
        "    input_seq = encoder_input_data[seq_index : seq_index + 1]\n",
        "    decoded_sentence = decode_sequence(input_seq)\n",
        "    print(\"-\")\n",
        "    print(\"Input sentence:\", input_texts[seq_index])\n",
        "    print(\"Decoded sentence:\", decoded_sentence)\n",
        "    print(\"True Target sentence:\", target_texts[seq_index])"
      ],
      "metadata": {
        "colab": {
          "base_uri": "https://localhost:8080/"
        },
        "id": "1LWml35HiKZP",
        "outputId": "f2f977f0-14e0-4d66-e255-66351debbd95"
      },
      "execution_count": null,
      "outputs": [
        {
          "output_type": "stream",
          "name": "stdout",
          "text": [
            "-\n",
            "Input sentence: domain sponsor name\n",
            "Decoded sentence: domain sponsor contact info\n",
            "\n",
            "True Target sentence: \tdomain sponsor name\n",
            "\n",
            "-\n",
            "Input sentence: delivery postal code\n",
            "Decoded sentence: numeric id used for reference to a payment type within the database\n",
            "\n",
            "True Target sentence: \tpostal code for the company\n",
            "\n",
            "-\n",
            "Input sentence: sys last modified\n",
            "Decoded sentence: last scanned\n",
            "\n",
            "True Target sentence: \tlast modified date\n",
            "\n",
            "-\n",
            "Input sentence: attribute id\n",
            "Decoded sentence: attribute id\n",
            "\n",
            "True Target sentence: \tattribute id\n",
            "\n",
            "-\n",
            "Input sentence: privacy level id\n",
            "Decoded sentence: provertry teplaited fix tof anial nome\n",
            "\n",
            "True Target sentence: \tprivacy level id\n",
            "\n",
            "-\n",
            "Input sentence: asset schema\n",
            "Decoded sentence: status id\n",
            "\n",
            "True Target sentence: \tschema\n",
            "\n",
            "-\n",
            "Input sentence: valid from\n",
            "Decoded sentence: valid from this date and time\n",
            "\n",
            "True Target sentence: \tvalid from this date and time\n",
            "\n",
            "-\n",
            "Input sentence: asset id\n",
            "Decoded sentence: asset id\n",
            "\n",
            "True Target sentence: \tasset id\n",
            "\n",
            "-\n",
            "Input sentence: person id\n",
            "Decoded sentence: person id\n",
            "\n",
            "True Target sentence: \tperson id\n",
            "\n",
            "-\n",
            "Input sentence: p af 189431\n",
            "Decoded sentence: datetime\n",
            "\n",
            "True Target sentence: \tdrug\n",
            "\n",
            "-\n",
            "Input sentence: patient login\n",
            "Decoded sentence: forre name\n",
            "\n",
            "True Target sentence: \tlogin\n",
            "\n",
            "-\n",
            "Input sentence: lineage key\n",
            "Decoded sentence: last edited by\n",
            "\n",
            "True Target sentence: \tlineage key for the data load for this row\n",
            "\n",
            "-\n",
            "Input sentence: transport temp\n",
            "Decoded sentence: transport time\n",
            "\n",
            "True Target sentence: \ttransport temp\n",
            "\n",
            "-\n",
            "Input sentence: viz data asset id\n",
            "Decoded sentence: visit detail id\n",
            "\n",
            "True Target sentence: \tviz data asset id\n",
            "\n",
            "-\n",
            "Input sentence: quantity num\n",
            "Decoded sentence: status id\n",
            "\n",
            "True Target sentence: \tquantity number\n",
            "\n",
            "-\n",
            "Input sentence: attribute business name\n",
            "Decoded sentence: attribute business description\n",
            "\n",
            "True Target sentence: \tattribute business name\n",
            "\n",
            "-\n",
            "Input sentence: other languages\n",
            "Decoded sentence: ob or thid frems\n",
            "\n",
            "True Target sentence: \tother languages spoken computed column from custom fields\n",
            "\n",
            "-\n",
            "Input sentence: hashed password\n",
            "Decoded sentence: hash of passoron descruption\n",
            "\n",
            "True Target sentence: \thash of password for users without external logon tokens\n",
            "\n",
            "-\n",
            "Input sentence: primary contact\n",
            "Decoded sentence: primary contact\n",
            "\n",
            "True Target sentence: \tprimary contact\n",
            "\n",
            "-\n",
            "Input sentence: sales order id\n",
            "Decoded sentence: custom fields for empooy ey in sade ce der\n",
            "\n",
            "True Target sentence: \tprimary key foreign key to sales order headersales order id\n",
            "\n"
          ]
        }
      ]
    }
  ],
  "metadata": {
    "accelerator": "GPU",
    "colab": {
      "machine_shape": "hm",
      "name": "Sidecar_Project_lstm_seq2seq_model_almost_full_data.ipynb",
      "provenance": [],
      "authorship_tag": "ABX9TyMsQ91C1jLI/mX+m05XcyaP",
      "include_colab_link": true
    },
    "kernelspec": {
      "display_name": "Python 3",
      "name": "python3"
    },
    "language_info": {
      "name": "python"
    }
  },
  "nbformat": 4,
  "nbformat_minor": 0
}